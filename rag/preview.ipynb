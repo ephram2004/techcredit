{
 "cells": [
  {
   "cell_type": "markdown",
   "id": "b1ec0f76-970a-47cd-aa1e-0a2e1a6ad92f",
   "metadata": {},
   "source": [
    "# Preview from LangChain\n",
    "\n",
    "## Step by step code\n",
    "\n",
    "1. get LangSmith API Key from environment\n",
    "2. set up anthropic key for chat model\n",
    "3. set up embedding model for embeddings\n",
    "4. select vector database\n",
    "5. set up document loader and split up\n",
    "\n",
    "## Set up API keys\n"
   ]
  },
  {
   "cell_type": "markdown",
   "id": "dd8825c3-e6e4-4541-aa62-fc862ba42bc6",
   "metadata": {},
   "source": [
    "## Tutorials\n",
    "\n",
    "LangChain RAG tutorial document\n",
    "Part 1\n",
    "https://python.langchain.com/docs/tutorials/rag\n",
    "\n",
    "Part 2\n",
    "extends the implementation to accommodate conversation-style interactions and\n",
    "multi-step retrieval processes.\n",
    "https://python.langchain.com/docs/tutorials/qa_chat_history/\n",
    "\n",
    "LangChain document loader for GitHub Repo\n",
    "https://python.langchain.com/docs/integrations/document_loaders/github/\n",
    "\n",
    "LangChain document loader for Git Repository\n",
    "https://python.langchain.com/docs/integrations/document_loaders/git/\n",
    "\n",
    "LangChain document loader for Source Code (e.g. Python)\n",
    "https://python.langchain.com/docs/integrations/document_loaders/source_code/\n",
    "\n",
    "LangSmith evaluation for a chatbot\n",
    "https://docs.smith.langchain.com/evaluation/tutorials/evaluation\n",
    "\n",
    "LangSmith evaluation for a rag\n",
    "https://docs.smith.langchain.com/evaluation/tutorials/rag\n"
   ]
  },
  {
   "cell_type": "markdown",
   "id": "f00262b7-72d9-4472-bdcb-f1a85e3321eb",
   "metadata": {},
   "source": [
    "- [x] set up LangSmith key\n"
   ]
  },
  {
   "cell_type": "code",
   "execution_count": 118,
   "id": "f79f4383-61f6-41d8-9536-0873e426f630",
   "metadata": {},
   "outputs": [],
   "source": [
    "import getpass\n",
    "import os\n",
    "%reload_ext dotenv\n",
    "%dotenv\n",
    "os.environ[\"LANGSMITH_TRACING\"] = \"true\"\n",
    "os.environ[\"LANGSMITH_API_KEY\"] = os.getenv(\"LANGSMITH_API_KEY\")\n"
   ]
  },
  {
   "cell_type": "markdown",
   "id": "36908430-f05f-4d6f-ae67-cafb09ed39db",
   "metadata": {},
   "source": [
    "- [x] set up Anthropic key\n"
   ]
  },
  {
   "cell_type": "code",
   "execution_count": 119,
   "id": "ac315b7b-3b72-4f20-a641-9b2b498a7100",
   "metadata": {},
   "outputs": [],
   "source": [
    "if not os.environ.get(\"ANTHROPIC_API_KEY\"):\n",
    "    os.environ[\"ANTHROPIC_API_KEY\"] = os.getenv(\"ANTHROPIC_API_KEY\")\n",
    "\n",
    "from langchain.chat_models import init_chat_model\n",
    "\n",
    "llm = init_chat_model(\n",
    "    \"claude-3-5-haiku-latest\", model_provider=\"anthropic\", temperature=0\n",
    ")"
   ]
  },
  {
   "cell_type": "markdown",
   "id": "7032cc2a-ae18-40bf-86aa-08270b25fc32",
   "metadata": {},
   "source": [
    "- [x] set up Google gemini as embedding model\n"
   ]
  },
  {
   "cell_type": "code",
   "execution_count": 120,
   "id": "278e39ad-8e1c-44eb-9502-0e7a84d36964",
   "metadata": {},
   "outputs": [],
   "source": [
    "if not os.environ.get(\"GOOGLE_API_KEY\"):\n",
    "    os.environ[\"GOOGLE_API_KEY\"] = os.getenv(\"GOOGLE_API_KEY\")\n",
    "\n",
    "from langchain_google_genai import GoogleGenerativeAIEmbeddings\n",
    "\n",
    "embeddings = GoogleGenerativeAIEmbeddings(model=\"models/text-embedding-004\")"
   ]
  },
  {
   "cell_type": "markdown",
   "id": "fad7a684-56c6-40e1-8a64-b86089a6e12c",
   "metadata": {},
   "source": [
    "- [x] set up vector database\n",
    "\n",
    "# Choosing database\n",
    "\n",
    "Load, chunk, split, embed and vectorize code data and document data into database\n",
    "\n",
    "## Candidates\n",
    "\n",
    "1. cassandra\n",
    "2. open search https://opensearch.org/platform/os-search/vector-database/\n",
    "3. Pinecone\n",
    "4. MongoDB\n",
    "5. PostgreSQL\n",
    "6. [x] Chroma, locally hosted with sqlite\n"
   ]
  },
  {
   "cell_type": "code",
   "execution_count": 121,
   "id": "5954c2e3-3c86-41f1-9ce2-d76e5fb88ec5",
   "metadata": {},
   "outputs": [],
   "source": [
    "from langchain_chroma import Chroma\n",
    "\n",
    "# huggingface_store = Chroma(\n",
    "#    collection_name=\"hf_python_tech_credit\",\n",
    "#    embedding_function=embeddings,\n",
    "#    persist_directory=\"./chroma_langchain_db\",\n",
    "# )\n",
    "\n",
    "vector_store = Chroma(\n",
    "    collection_name=\"java_tech_credit\",\n",
    "    embedding_function=embeddings,\n",
    "    persist_directory=\"./chroma_langchain_db\",  # Where to save data locally, remove if not necessary\n",
    ")\n",
    "\n",
    "document_store = Chroma(\n",
    "    collection_name=\"document_tech_credit\",\n",
    "    embedding_function=embeddings,\n",
    "    persist_directory=\"./chroma_langchain_db\",\n",
    ")"
   ]
  },
  {
   "cell_type": "markdown",
   "id": "2ebf0591-3020-489b-9563-00a12e3a20bb",
   "metadata": {},
   "source": [
    "- [ ] Import and load a GitHub Repo as a document\n"
   ]
  },
  {
   "cell_type": "code",
   "execution_count": 122,
   "id": "f8ee1cb4-7571-4e12-a190-58e53b4d6be5",
   "metadata": {},
   "outputs": [],
   "source": [
    "from langchain_community.document_loaders import GithubFileLoader\n",
    "from langchain_community.document_loaders import JSONLoader\n",
    "from langchain_core.documents import Document\n",
    "from langgraph.graph import START, StateGraph\n",
    "\n",
    "# from code_splitter import Language, TiktokenSplitter\n",
    "\n",
    "if not os.environ.get(\"GITHUB_PERSONAL_ACCESS_TOKEN\"):\n",
    "    os.environ[\"GITHUB_PERSONAL_ACCESS_TOKEN\"] = os.getenv(\n",
    "        \"GITHUB_PERSONAL_ACCESS_TOKEN\"\n",
    "    )\n",
    "\n",
    "# Load and chunk contents of the github repo\n",
    "loader = GithubFileLoader(\n",
    "    repo=\"alexsun2/TC-Examples\",  # the repo name\n",
    "    branch=\"main\",  # the branch name\n",
    "    # access_token=ACCESS_TOKEN, # delete/comment out this argument if you've set the access token as an env var.\n",
    "    github_api_url=\"https://api.github.com\",\n",
    "    # parser=LanguageParser(language=Language.JAVA, parser_threshold=200),\n",
    "    file_filter=lambda file_path: file_path.endswith(\".java\"),  # load all java files.\n",
    ")\n",
    "documents = loader.load()"
   ]
  },
  {
   "cell_type": "markdown",
   "id": "53f4df20-f761-4288-b10a-574e3a2a21f4",
   "metadata": {},
   "source": [
    "- [ ] test documents content\n"
   ]
  },
  {
   "cell_type": "code",
   "execution_count": 123,
   "id": "23ad2951-9597-42c1-b399-1f7caa8e9949",
   "metadata": {},
   "outputs": [
    {
     "name": "stdout",
     "output_type": "stream",
     "text": [
      "{'path': 'ChainOfResponsibility/Main.java', 'sha': 'dbdd279c476ff84e8814cf5dcce2a9fa3355973c', 'source': 'https://api.github.com/alexsun2/TC-Examples/blob/main/ChainOfResponsibility/Main.java'}\n"
     ]
    }
   ],
   "source": [
    "print(documents[7].metadata)"
   ]
  },
  {
   "cell_type": "markdown",
   "id": "20eb1b2a-4c2a-49f7-beae-e5200e0eee85",
   "metadata": {},
   "source": [
    "- [ ] map metadata\n"
   ]
  },
  {
   "cell_type": "code",
   "execution_count": 124,
   "id": "c0d2c29e-4580-4232-b678-8db2d4028644",
   "metadata": {},
   "outputs": [],
   "source": [
    "import json\n",
    "\n",
    "# Step 1: Load the JSON metadata from a file (adjust path accordingly)\n",
    "with open(\"./repo_metadata.json\", \"r\", encoding=\"utf-8\") as f:\n",
    "    json_metadata_list = json.load(f)\n",
    "\n",
    "# The sample JSON will be like a list of dicts, for example:\n",
    "# [\n",
    "#   {\"path\": \"src/pybreaker.py\", \"type\": \"source\", \"tech-credit\": \"Circuit Breaker\", \"tech_credit_description\": \"good design\"},\n",
    "#   {\"path\": \"test/unitest_pybreaker.py\", \"type\": \"test\", \"tech-credit\": \"Circuit Breaker\", \"tech_credit_description\": \"good design\"}\n",
    "# ]\n",
    "\n",
    "# Step 2: Create a dictionary mapping from path to metadata (excluding 'path' key)\n",
    "metadata_map = {\n",
    "    entry[\"path\"]: {k: v for k, v in entry.items() if k != \"path\"}\n",
    "    for entry in json_metadata_list\n",
    "}"
   ]
  },
  {
   "cell_type": "markdown",
   "id": "95abeffb-07c5-4036-95ef-320590c19b61",
   "metadata": {},
   "source": [
    "- [x] use code splitter\n"
   ]
  },
  {
   "cell_type": "code",
   "execution_count": 125,
   "id": "0a26421b-1478-4354-a169-62389fdd8d60",
   "metadata": {},
   "outputs": [],
   "source": [
    "from langchain_text_splitters import Language, RecursiveCharacterTextSplitter\n",
    "\n",
    "# from code_splitter import Language, TiktokenSplitter\n",
    "# use code-splitter\n",
    "# https://pypi.org/project/code-splitter/\n",
    "# python_splitter = TiktokenSplitter(Language.Python, max_size=200)\n",
    "java_splitter = RecursiveCharacterTextSplitter.from_language(\n",
    "    language=Language.JAVA, chunk_size=200\n",
    ").from_tiktoken_encoder()\n",
    "\n",
    "all_splits = [\n",
    "    Document(\n",
    "        page_content=(\n",
    "            # \"# ===== code structure =====\\n\"\n",
    "            # + \"\\n\".join(f\"# {line}\" for line in splits.subtree.splitlines())\n",
    "            # + \"\\n\\n\"\n",
    "            splits\n",
    "        ),\n",
    "        metadata=metadata_map.get(doc.metadata.get(\"path\"), {}),\n",
    "    )\n",
    "    for doc in documents\n",
    "    for splits in java_splitter.split_text(doc.page_content)\n",
    "]"
   ]
  },
  {
   "cell_type": "markdown",
   "id": "280decb5-9f05-4303-9964-b10df988ab5c",
   "metadata": {},
   "source": [
    "- [ ] print page_content and metadata for a split\n"
   ]
  },
  {
   "cell_type": "code",
   "execution_count": 126,
   "id": "7f9958ae-a050-4d27-b065-c6d9c63ec640",
   "metadata": {
    "scrolled": true
   },
   "outputs": [
    {
     "name": "stdout",
     "output_type": "stream",
     "text": [
      "// TC_TYPE: adapter\n",
      "\n",
      "package PlatformAbstractionLayers;\n",
      "\n",
      "// Concrete implementation\n",
      "public class RealOperation implements Operation {\n",
      "  @Override\n",
      "  public void execute() {\n",
      "      // actual logic hidden behind the abstraction\n",
      "      // ...\n",
      "  }\n",
      "}\n",
      "{'type': 'source', 'tech_credit': 'Platform Abstraction Layers', 'tech_credit_description': 'Introduce intermediary layers that decouple application logic from third-party platforms, libraries, or APIs. This shields the core system from external changes, simplifies technology replacement, and reduces the cost and risk of platform evolution.'}\n"
     ]
    }
   ],
   "source": [
    "print(all_splits[20].page_content)\n",
    "print(all_splits[20].metadata)"
   ]
  },
  {
   "cell_type": "markdown",
   "id": "996ffe88-73d0-4bc0-9b33-299d1139db49",
   "metadata": {},
   "source": [
    "- [ ] load, split and embed documents into vector database\n"
   ]
  },
  {
   "cell_type": "markdown",
   "id": "77bfc96a-85ce-4a0b-9da0-4b7d00c46e23",
   "metadata": {},
   "source": [
    "- [x] index chunks for code vector db, DO NOT LOAD TWICE!\n"
   ]
  },
  {
   "cell_type": "code",
   "execution_count": 127,
   "id": "57fa4981-55e9-40d1-9df3-b1891d549073",
   "metadata": {},
   "outputs": [],
   "source": [
    "# Index chunks\n",
    "code_embed_index = vector_store.add_documents(documents=all_splits)"
   ]
  },
  {
   "cell_type": "markdown",
   "id": "47f39c77-6a6d-4979-a565-3bdc65236170",
   "metadata": {},
   "source": [
    "- [ ] load, chunk, split and embed documents about technical credit\n"
   ]
  },
  {
   "cell_type": "code",
   "execution_count": 128,
   "id": "b926570a-74c5-4b24-8b75-a830ab290d9f",
   "metadata": {},
   "outputs": [],
   "source": [
    "import bs4\n",
    "from langchain_community.document_loaders import WebBaseLoader\n",
    "from langchain_text_splitters import RecursiveCharacterTextSplitter\n",
    "\n",
    "# Load and chunk contents of the blog\n",
    "bs4_strainer = bs4.SoupStrainer(\n",
    "    class_=(\n",
    "        \"article-header__section\",\n",
    "        \"article-header__topic-and-issue-section\",\n",
    "        \"article-header article-header__title\",\n",
    "        \"article-header__subtitle\",\n",
    "        \"article-header__meta\",\n",
    "        \"article-table-of-contents\",\n",
    "        \"article-contents\",\n",
    "        \"article-footer\",\n",
    "    )\n",
    ")\n",
    "\n",
    "doc_loader = WebBaseLoader(\n",
    "    web_paths=(\"https://cacm.acm.org/opinion/technical-credit/\",),\n",
    "    bs_kwargs=dict(parse_only=bs4_strainer),\n",
    ")\n",
    "\n",
    "text_documents = doc_loader.load()\n",
    "# recurisive splitter , 7 , all splits"
   ]
  },
  {
   "cell_type": "markdown",
   "id": "57093c26-c49c-454b-964d-985d99c027e1",
   "metadata": {},
   "source": [
    "- [x] test the web page document\n"
   ]
  },
  {
   "cell_type": "code",
   "execution_count": 129,
   "id": "775b323a-607b-478c-aeec-ca538dd21511",
   "metadata": {},
   "outputs": [
    {
     "name": "stdout",
     "output_type": "stream",
     "text": [
      "Total characters: 14484\n",
      "Opinion\n",
      "\n",
      "Computing Profession \n",
      "\n",
      "\n",
      "Balancing initial investment and long-term results in the software development process.\n",
      "\n",
      "\n",
      "\t\t\t\tBy Ian Gorton, Alessio Bucaioni, and Patrizio Pelliccione \n",
      "\n",
      "Posted Dec 26 2024 \n",
      "\n",
      "\n",
      "\n",
      "What Is Technical Credit?\n",
      "Technical Credit in Practice\n",
      "A Research Agenda for Technical Credit\n",
      "Conclusion\n",
      "References\n",
      "Footnotes\n",
      "\n",
      "\n",
      "\n",
      "\n",
      "Technical debt (TD) is an established concept in software engineering encompassing an unavoidable side effect of software development.3 It arises due to tight s\n"
     ]
    }
   ],
   "source": [
    "assert len(text_documents) == 1\n",
    "print(f\"Total characters: {len(text_documents[0].page_content)}\")\n",
    "print(text_documents[0].page_content[:500])"
   ]
  },
  {
   "cell_type": "markdown",
   "id": "4a2dcd6c-3469-4211-95bd-eadd65f86743",
   "metadata": {},
   "source": [
    "- [ ] split the document\n"
   ]
  },
  {
   "cell_type": "code",
   "execution_count": 130,
   "id": "1963b0b9-1ac0-44d4-8c7e-8246eb5e3979",
   "metadata": {},
   "outputs": [
    {
     "name": "stdout",
     "output_type": "stream",
     "text": [
      "Split article into 20 sub-documents.\n"
     ]
    }
   ],
   "source": [
    "text_splitter = RecursiveCharacterTextSplitter(\n",
    "    chunk_size=1000,  # chunk size (characters)\n",
    "    chunk_overlap=200,  # chunk overlap (characters)\n",
    "    add_start_index=True,  # track index in original document\n",
    ")\n",
    "text_splits = text_splitter.split_documents(text_documents)\n",
    "\n",
    "print(f\"Split article into {len(text_splits)} sub-documents.\")"
   ]
  },
  {
   "cell_type": "markdown",
   "id": "8341841c-23d3-40c8-83d0-b2187ac2c44a",
   "metadata": {},
   "source": [
    "- [x] embed the documents into vector database, DO NOT LOAD TWICE!\n"
   ]
  },
  {
   "cell_type": "code",
   "execution_count": 131,
   "id": "afd11df3-bfa5-418d-bd78-60ad0497b7b9",
   "metadata": {},
   "outputs": [],
   "source": [
    "document_ids = document_store.add_documents(documents=text_splits)"
   ]
  },
  {
   "cell_type": "markdown",
   "id": "a6178740-773d-432d-a533-45e2a4a21b4e",
   "metadata": {},
   "source": [
    "# RAG System Part\n",
    "\n",
    "## Customize Prompt\n",
    "\n",
    "## Define nodes and graphs in the rag system\n",
    "\n",
    "1. [x] retrieve code and metadata\n",
    "2. [x] retrieve academic documents\n",
    "3. [x] send message to LLM\n"
   ]
  },
  {
   "cell_type": "markdown",
   "id": "e93143ad-64df-4240-882f-e0b1d1d9b171",
   "metadata": {},
   "source": [
    "- [ ] design prompt template.\n"
   ]
  },
  {
   "cell_type": "code",
   "execution_count": 132,
   "id": "e5bf3a43-d68d-4415-bb28-c321c42870b1",
   "metadata": {},
   "outputs": [],
   "source": [
    "# Define prompt for question-answering\n",
    "# N.B. for non-US LangSmith endpoints, you may need to specify\n",
    "# api_url=\"https://api.smith.langchain.com\" in hub.pull.\n",
    "from langchain_core.prompts import ChatPromptTemplate\n",
    "from jinja2 import Environment, BaseLoader\n",
    "import textwrap\n",
    "\n",
    "jinja2_prompt = \"\"\"\\\n",
    "{% for part in parts %}\n",
    "Here is the No. {{ part.ordinal }} part of a tech credit\n",
    "Descirption:\n",
    "{{ part.tech_credit }}\n",
    "\n",
    "Example code for that tech credit:\n",
    "{{ part.context_code }}\n",
    "\n",
    "Here is the code from user:\n",
    "{{ part.user_code }}\n",
    "{% endfor %}\n",
    "\"\"\"\n",
    "\n",
    "user_prompt_template = Environment(loader=BaseLoader).from_string(jinja2_prompt)\n",
    "\n",
    "prompt = ChatPromptTemplate(\n",
    "    [\n",
    "        (\n",
    "            \"system\",\n",
    "            \"You are an assistant for identifying technical credit. Use the following pieces \\\n",
    "                of retrieved context to answer the question. If you don't know the answer, just \\\n",
    "                say that you don't know. Please only use the provided technical credit categories. For each code snippet, use three sentences maximum and \\\n",
    "                keep the answer concise.\",\n",
    "        ),\n",
    "        (\n",
    "            \"user\",\n",
    "            textwrap.dedent(\n",
    "                \"\"\"\\\n",
    "                The list of technical credit categories you must follow:\n",
    "                {tech_credit_list}\n",
    "                \n",
    "                Some documentation about tech credit:\n",
    "                {context_doc}\n",
    "\n",
    "                The following are snippets of codes that are most similar to example codes of \n",
    "                tech credits.\n",
    "                {rendered}\n",
    "                \n",
    "                Question: {question}\n",
    "                Answer:\n",
    "                \"\"\"\n",
    "            ),\n",
    "        ),\n",
    "    ]\n",
    ")"
   ]
  },
  {
   "cell_type": "markdown",
   "id": "105bf4cf-a257-4323-99b7-45d4fd92d73b",
   "metadata": {},
   "source": [
    "- [ ] collect metadata from code\n"
   ]
  },
  {
   "cell_type": "code",
   "execution_count": 133,
   "id": "ba89a7a6-3c3f-4969-bdff-5cc6627d330a",
   "metadata": {},
   "outputs": [],
   "source": [
    "def collect_unique_pairs(documents):\n",
    "    \"\"\"\n",
    "    Collect unique concatenated 'tech_credit: description' strings from document metadata.\n",
    "\n",
    "    Args:\n",
    "        documents (list[dict]): A list of Document objects, each with a 'metadata' field.\n",
    "\n",
    "    Returns:\n",
    "        list[str]: A list of unique 'tech_credit: description' strings.\n",
    "    \"\"\"\n",
    "    seen = set()\n",
    "\n",
    "    for doc in documents:\n",
    "        metadata = doc.metadata\n",
    "        credit = metadata.get(\"tech_credit\")\n",
    "        description = metadata.get(\"tech_credit_description\")\n",
    "        if credit and description:\n",
    "            combined = f\"{credit}: {description}\"\n",
    "            seen.add(combined)\n",
    "\n",
    "    return list(seen)"
   ]
  },
  {
   "cell_type": "code",
   "execution_count": 134,
   "id": "67ceec1c-ca5f-481d-a56c-50a0a00c9341",
   "metadata": {},
   "outputs": [],
   "source": [
    "from urllib.parse import urlparse\n",
    "from typing import List\n",
    "\n",
    "\n",
    "def load_repo(url: str, branch: str) -> List[Document]:\n",
    "    \"\"\"\n",
    "    Loads all Python files from a GitHub repository using the repository URL.\n",
    "\n",
    "    Args:\n",
    "        url (str): The full URL of the GitHub repository (e.g., \"https://github.com/org/project\").\n",
    "\n",
    "    Returns:\n",
    "        List[Document]: A list of loaded document objects (the format depends on GithubFileLoader).\n",
    "\n",
    "    Raises:\n",
    "        ValueError: If the URL is not a valid GitHub repo URL.\n",
    "    \"\"\"\n",
    "    parsed = urlparse(url)\n",
    "    if parsed.netloc != \"github.com\":\n",
    "        raise ValueError(f\"URL is not a github.com repo: {url}\")\n",
    "\n",
    "    # The path is like '/org/project' or '/org/project/'\n",
    "    path_parts = parsed.path.strip(\"/\").split(\"/\")\n",
    "    if len(path_parts) < 2:\n",
    "        raise ValueError(f\"Invalid GitHub repository URL: {url}\")\n",
    "    repo_name = \"/\".join(path_parts[:2])  # Only org/project, ignore any deeper paths\n",
    "\n",
    "    loader = GithubFileLoader(\n",
    "        repo=repo_name,\n",
    "        branch=branch,\n",
    "        # access_token=ACCESS_TOKEN,\n",
    "        github_api_url=\"https://api.github.com\",\n",
    "        file_filter=lambda file_path: not file_path.startswith(\"tests/\")\n",
    "        and file_path.endswith(\".java\"),\n",
    "    )\n",
    "    documents = loader.load()\n",
    "    return documents\n",
    "\n",
    "\n",
    "def split_documents(documents: List[Document]) -> List[str]:\n",
    "    \"\"\"\n",
    "    Splits Python code documents into code snippets and prepends the code structure as a comment header.\n",
    "\n",
    "    Args:\n",
    "        documents (List[Document]): List of Document objects containing Python code.\n",
    "\n",
    "    Returns:\n",
    "        List[Document]: List of new strings, each with a code structure comment followed by the code snippet.\n",
    "    \"\"\"\n",
    "\n",
    "    all_splits = []\n",
    "    for doc in documents:\n",
    "        splits = java_splitter.split_text(doc.page_content)\n",
    "        for snippet in splits:\n",
    "            # delete the header for now, only splitting the literal source code\n",
    "            # header = (\n",
    "            #    \"# ===== code structure =====\\n\" +\n",
    "            #    \"\\n\".join(f\"# {line}\" for line in snippet.subtree.splitlines()) +\n",
    "            #    \"\\n\\n\"\n",
    "            # )\n",
    "            all_splits.append(snippet)\n",
    "    return all_splits"
   ]
  },
  {
   "cell_type": "code",
   "execution_count": 135,
   "id": "0e7fbf07-ec97-4bea-afe6-ba708826ba10",
   "metadata": {},
   "outputs": [],
   "source": [
    "import heapq\n",
    "from typing import Callable\n",
    "from statistics import mean, median  # for later usage of different similarity score\n",
    "\n",
    "\n",
    "def default_min_score_fn(results: list[tuple[Document, float]]) -> float:\n",
    "    \"\"\"Default scoring function: returns the minimum score.\"\"\"\n",
    "    return min(score for _, score in results)\n",
    "\n",
    "\n",
    "def top_k_similar_queries(\n",
    "    queries: list[str],\n",
    "    vectorstore,\n",
    "    k: int = 3,\n",
    "    scoring_fn: Callable[[list[tuple[Document, float]]], float] = default_min_score_fn,\n",
    "    top_docs_per_query: int = 4,\n",
    ") -> list[tuple[str, list[Document], float]]:\n",
    "    \"\"\"\n",
    "    Executes similarity_search_with_score for each query and returns top-k queries\n",
    "    sorted by a user-defined scoring function.\n",
    "\n",
    "    Args:\n",
    "        queries: List of query strings.\n",
    "        vectorstore: A LangChain-compatible vector store.\n",
    "        k: Number of top results to return.\n",
    "        scoring_fn: Function that maps a list of (Document, score) to a float score.\n",
    "        top_docs_per_query: Number of documents to retrieve for each query.\n",
    "\n",
    "    Returns:\n",
    "        A list of (query, documents, aggregated_score) sorted by aggregated_score descending.\n",
    "    \"\"\"\n",
    "    heap = []\n",
    "\n",
    "    for query in queries:\n",
    "        results = vectorstore.similarity_search_with_score(query, k=top_docs_per_query)\n",
    "        if not results:\n",
    "            continue\n",
    "\n",
    "        agg_score = scoring_fn(results)\n",
    "\n",
    "        # if agg_score < 0.65:\n",
    "        #    continue\n",
    "\n",
    "        docs = [doc for doc, _ in results]\n",
    "\n",
    "        # Use negative score to simulate a max-heap\n",
    "        heapq.heappush(heap, (-agg_score, query, docs))\n",
    "        if len(heap) > k:\n",
    "            heapq.heappop(heap)\n",
    "\n",
    "    # Return sorted results: highest score first\n",
    "    top_k = sorted([(-score, query, docs) for score, query, docs in heap], reverse=True)\n",
    "    return [(query, docs, score) for score, query, docs in top_k]"
   ]
  },
  {
   "cell_type": "code",
   "execution_count": null,
   "id": "ad89e54e-0483-47d8-bda7-45e4ecec352e",
   "metadata": {},
   "outputs": [],
   "source": [
    "from typing_extensions import List, TypedDict\n",
    "\n",
    "\n",
    "# Define state for application\n",
    "class State(TypedDict):\n",
    "    question: str\n",
    "    context_doc: List[Document]\n",
    "    # a part that contains example codes, user code, tech credit and index order\n",
    "    parts: list[dict]\n",
    "    url: str  # user code\n",
    "    branch: str\n",
    "    answer: str\n",
    "\n",
    "\n",
    "# Define application steps\n",
    "def retrieve(state: State):\n",
    "    repo_splits = split_documents(load_repo(state[\"url\"], state[\"branch\"]))\n",
    "    retrieved_docs = top_k_similar_queries(repo_splits, vector_store)\n",
    "    parts = [\n",
    "        {\n",
    "            \"ordinal\": i + 1,\n",
    "            \"tech_credit\": \"\\n\".join(collect_unique_pairs(context_code)),\n",
    "            \"user_code\": user_code,\n",
    "            \"context_code\": \"\\n\\n\".join(doc.page_content for doc in context_code),\n",
    "        }\n",
    "        for i, (user_code, context_code, _) in enumerate(retrieved_docs)\n",
    "    ]\n",
    "    return {\"parts\": parts}\n",
    "\n",
    "\n",
    "def retrieve_doc(state: State):\n",
    "    retrieved_doc = document_store.similarity_search(state[\"question\"])\n",
    "    return {\"context_doc\": retrieved_doc}\n",
    "\n",
    "\n",
    "def load_tech_credit_categories() -> list[str]:\n",
    "    # Define the loader for the JSON file in the GitHub repo\n",
    "    loader = GithubFileLoader(\n",
    "        repo=\"alexsun2/TC-Examples\",  # The repo name\n",
    "        branch=\"main\",  # The branch name\n",
    "        github_api_url=\"https://api.github.com\",\n",
    "        file_filter=lambda file_path: file_path.endswith(\"tech_credit_patterns.json\"),\n",
    "    )\n",
    "\n",
    "    # Load the JSON document from the repo\n",
    "    documents = loader.load()\n",
    "\n",
    "    # Assuming the content is in the first document (if it's only one file)\n",
    "    tech_credit_patterns_json = json.loads(documents[0].page_content)\n",
    "\n",
    "    # Extract pattern names\n",
    "    pattern_names = [entry[\"pattern_name\"] for entry in tech_credit_patterns_json]\n",
    "\n",
    "    return pattern_names\n",
    "\n",
    "\n",
    "def generate(state: State):\n",
    "    doc_content = \"\\n\\n\".join(doc.page_content for doc in state[\"context_doc\"])\n",
    "    user_prompt = user_prompt_template.render(parts=state[\"parts\"])\n",
    "    java_splitter = RecursiveCharacterTextSplitter(\n",
    "        Language.JAVA, chunk_size=200\n",
    "    ).from_tiktoken_encoder()\n",
    "    tech_credit_categories = load_tech_credit_categories()\n",
    "\n",
    "    messages = prompt.invoke(\n",
    "        {\n",
    "            \"question\": state[\"question\"],\n",
    "            \"rendered\": user_prompt,\n",
    "            \"context_doc\": doc_content,\n",
    "            \"tech_credit_list\": tech_credit_categories,\n",
    "        }\n",
    "    )\n",
    "\n",
    "    print(messages)\n",
    "\n",
    "    with open(\"context_doc_content.txt\", \"w\", encoding=\"utf-8\") as f:\n",
    "        f.write(messages.to_string())\n",
    "\n",
    "    response = llm.invoke(messages)\n",
    "    return {\"answer\": response.content}\n",
    "\n",
    "\n",
    "# Compile application and test\n",
    "graph_builder = StateGraph(State).add_sequence([retrieve, generate])\n",
    "graph_builder.add_node(retrieve_doc)\n",
    "graph_builder.add_edge(START, \"retrieve\")\n",
    "graph_builder.add_edge(START, \"retrieve_doc\")\n",
    "graph = graph_builder.compile()"
   ]
  },
  {
   "cell_type": "markdown",
   "id": "f2c890ef-9f4b-4f62-929b-64bc5b33b4c4",
   "metadata": {},
   "source": [
    "# Ask Question Part\n",
    "\n",
    "## Circuit Breaker\n",
    "\n",
    "## MVC model\n",
    "\n",
    "## Iterator pattern\n"
   ]
  },
  {
   "cell_type": "markdown",
   "id": "8bb72313-9804-4db0-a3fe-ccd2841f9c6a",
   "metadata": {},
   "source": [
    "- [ ] Ask questions and test RAG\n"
   ]
  },
  {
   "cell_type": "code",
   "execution_count": 137,
   "id": "e17b8816-0600-47bb-8371-d010eaba2ef0",
   "metadata": {},
   "outputs": [
    {
     "name": "stdout",
     "output_type": "stream",
     "text": [
      "messages=[SystemMessage(content=\"You are an assistant for identifying technical credit. Use the following pieces                 of retrieved context to answer the question. If you don't know the answer, just                 say that you don't know. Please only use the provided technical credit categories. For each code snippet, use three sentences maximum and                 keep the answer concise.\", additional_kwargs={}, response_metadata={}), HumanMessage(content='The list of technical credit categories you must follow:\\n[\\'Circuit Breaker\\', \\'Strategy Pattern\\', \\'Adapter Pattern\\', \\'Model View Controller\\', \\'Visitor Pattern\\', \\'Iterator\\', \\'Platform Abstraction Layers\\', \\'Proxy\\', \\'Chain of responsibility\\', \\'Template method\\', \\'Front controller\\', \\'Command\\', \\'Interpreter\\', \\'Mediator\\', \\'Memento\\', \\'Observer or Publish/subscribe\\', \\'Servant\\', \\'Active Object\\', \\'Event-based asynchronous\\', \\'Messaging design pattern (MDP)\\', \\'Thread pool\\']\\n\\nSome documentation about tech credit:\\nFigure 2.\\xa0 Conceptual model of technical credit.1\\xa0Technical Credit in PracticeDecisions leading to TC are inherently connected to a system’s business domain and product roadmap. However, not all design decisions yield true TC: those not enabling cost-effective modifications in line with business objectives might be deemed over-engineering. We create TC by crafting design decisions that ease future modifications anticipated by the product’s roadmap. Thus, a design decision yields technical credit upon its utilization.Drawing on extensive experience with product, architecture, and code reviews, we have identified examples of TC across different application domains.Platform abstraction layer.\\xa0 This strategy creates abstraction layers around third-party products and libraries, protecting application code from external API changes. When these products need replacing, adjustments are made only to the abstraction layer, not the application code. This approach exemplifies TC in reducing the\\n\\nFigure 2.\\xa0 Conceptual model of technical credit.1\\xa0Technical Credit in PracticeDecisions leading to TC are inherently connected to a system’s business domain and product roadmap. However, not all design decisions yield true TC: those not enabling cost-effective modifications in line with business objectives might be deemed over-engineering. We create TC by crafting design decisions that ease future modifications anticipated by the product’s roadmap. Thus, a design decision yields technical credit upon its utilization.Drawing on extensive experience with product, architecture, and code reviews, we have identified examples of TC across different application domains.Platform abstraction layer.\\xa0 This strategy creates abstraction layers around third-party products and libraries, protecting application code from external API changes. When these products need replacing, adjustments are made only to the abstraction layer, not the application code. This approach exemplifies TC in reducing the\\n\\nFigure 2.\\xa0 Conceptual model of technical credit.1\\xa0Technical Credit in PracticeDecisions leading to TC are inherently connected to a system’s business domain and product roadmap. However, not all design decisions yield true TC: those not enabling cost-effective modifications in line with business objectives might be deemed over-engineering. We create TC by crafting design decisions that ease future modifications anticipated by the product’s roadmap. Thus, a design decision yields technical credit upon its utilization.Drawing on extensive experience with product, architecture, and code reviews, we have identified examples of TC across different application domains.Platform abstraction layer.\\xa0 This strategy creates abstraction layers around third-party products and libraries, protecting application code from external API changes. When these products need replacing, adjustments are made only to the abstraction layer, not the application code. This approach exemplifies TC in reducing the\\n\\nFigure 2.\\xa0 Conceptual model of technical credit.1\\xa0Technical Credit in PracticeDecisions leading to TC are inherently connected to a system’s business domain and product roadmap. However, not all design decisions yield true TC: those not enabling cost-effective modifications in line with business objectives might be deemed over-engineering. We create TC by crafting design decisions that ease future modifications anticipated by the product’s roadmap. Thus, a design decision yields technical credit upon its utilization.Drawing on extensive experience with product, architecture, and code reviews, we have identified examples of TC across different application domains.Platform abstraction layer.\\xa0 This strategy creates abstraction layers around third-party products and libraries, protecting application code from external API changes. When these products need replacing, adjustments are made only to the abstraction layer, not the application code. This approach exemplifies TC in reducing the\\n\\nThe following are snippets of codes that are most similar to example codes of \\ntech credits.\\n\\nHere is the No. 1 part of a tech credit\\nDescirption:\\nIterator: Provide a way to access the elements of an aggregate object sequentially without exposing its underlying representation.\\n\\nExample code for that tech credit:\\n// TC_TYPE: iterator \\n\\npackage Iterator;\\n\\nimport java.util.ArrayList;\\nimport java.util.Iterator;\\nimport java.util.List;\\n\\n/**\\n * Aggregate class that holds a collection of books\\n */\\npublic class BookCollection implements Iterable<Book> {\\n\\n    private List<Book> books = new ArrayList<>();\\n\\n    public void addBook(Book book) {\\n        books.add(book);\\n    }\\n\\n    @Override\\n    public Iterator<Book> iterator() {\\n        return new BookIterator(books);\\n    }\\n}\\n\\n// TC_TYPE: iterator \\n\\npackage Iterator;\\n\\nimport java.util.ArrayList;\\nimport java.util.Iterator;\\nimport java.util.List;\\n\\n/**\\n * Aggregate class that holds a collection of books\\n */\\npublic class BookCollection implements Iterable<Book> {\\n\\n    private List<Book> books = new ArrayList<>();\\n\\n    public void addBook(Book book) {\\n        books.add(book);\\n    }\\n\\n    @Override\\n    public Iterator<Book> iterator() {\\n        return new BookIterator(books);\\n    }\\n}\\n\\n// TC_TYPE: iterator \\n\\npackage Iterator;\\n\\nimport java.util.ArrayList;\\nimport java.util.Iterator;\\nimport java.util.List;\\n\\n/**\\n * Aggregate class that holds a collection of books\\n */\\npublic class BookCollection implements Iterable<Book> {\\n\\n    private List<Book> books = new ArrayList<>();\\n\\n    public void addBook(Book book) {\\n        books.add(book);\\n    }\\n\\n    @Override\\n    public Iterator<Book> iterator() {\\n        return new BookIterator(books);\\n    }\\n}\\n\\n// TC_TYPE: iterator \\n\\npackage Iterator;\\n\\nimport java.util.ArrayList;\\nimport java.util.Iterator;\\nimport java.util.List;\\n\\n/**\\n * Aggregate class that holds a collection of books\\n */\\npublic class BookCollection implements Iterable<Book> {\\n\\n    private List<Book> books = new ArrayList<>();\\n\\n    public void addBook(Book book) {\\n        books.add(book);\\n    }\\n\\n    @Override\\n    public Iterator<Book> iterator() {\\n        return new BookIterator(books);\\n    }\\n}\\n\\nHere is the code from user:\\npackage listadt;\\n\\nimport java.util.function.Function;\\n\\n/**\\n * This is the implementation of a generic list. Specifically it implements\\n * the listadt.ListADT interface\\n */\\npublic class ListADTImpl<T> implements ListADT<T> {\\n  protected GenericListADTNode<T> head;\\n\\n  /**\\n   * Constructor to create an empty list.\\n   */\\n  public ListADTImpl() {\\n    head = new GenericEmptyNode<>();\\n  }\\n\\n  //a private constructor that is used internally (see map)\\n  protected ListADTImpl(GenericListADTNode<T> head) {\\n    this.head = head;\\n  }\\n\\n  @Override\\n  public void addFront(T b) {\\n    head = head.addFront(b);\\n  }\\n\\n  @Override\\n  public void addBack(T b) {\\n    head = head.addBack(b);\\n  }\\n\\n  @Override\\n  public void add(int index, T b) {\\n    head = head.add(index, b);\\n  }\\n\\n  @Override\\n  public int getSize() {\\n    return head.count();\\n  }\\n\\n  @Override\\n  public void remove(T b) {\\n    head = head.remove(b);\\n  }\\n\\n  @Override\\n  public T get(int index) throws IllegalArgumentException {\\n    if ((index >= 0) && (index < getSize())) {\\n      return head.get(index);\\n    }\\n    throw new IllegalArgumentException(\"Invalid index\");\\n\\n  }\\n\\n  @Override\\n  public <R> ListADT<R> map(Function<T, R> converter) {\\n    return new ListADTImpl<>(head.map(converter));\\n  }\\n\\n  @Override\\n  public String toString() {\\n    return \"(\" + head.toString() + \")\";\\n  }\\n}\\n\\nHere is the No. 2 part of a tech credit\\nDescirption:\\nAdapter Pattern: Convert the interface of an existing class into another interface clients expect. Adapter allows classes with incompatible interfaces to work together, promoting system flexibility and reducing the cost of integration with third-party or legacy components.\\n\\nExample code for that tech credit:\\n// TC_TYPE: adapter\\n\\npackage Adapter;\\n\\n/*\\n * The Adapter makes the Adaptee\\'s interface compatible with the Target\\'s\\n * interface via multiple inheritance.\\n */\\npublic class Adapter implements Target {\\n  private final Adaptee adaptee;\\n\\n  public Adapter(Adaptee adaptee) {\\n    this.adaptee = adaptee;\\n  }\\n\\n  @Override\\n  public String request() {\\n    // Reverse the string to simulate \"translation\"\\n    return \"Adapter: (TRANSLATED) \" + new StringBuilder(adaptee.specificRequest()).reverse();\\n  }\\n}\\n\\n// TC_TYPE: adapter\\n\\npackage Adapter;\\n\\n/*\\n * The Adapter makes the Adaptee\\'s interface compatible with the Target\\'s\\n * interface via multiple inheritance.\\n */\\npublic class Adapter implements Target {\\n  private final Adaptee adaptee;\\n\\n  public Adapter(Adaptee adaptee) {\\n    this.adaptee = adaptee;\\n  }\\n\\n  @Override\\n  public String request() {\\n    // Reverse the string to simulate \"translation\"\\n    return \"Adapter: (TRANSLATED) \" + new StringBuilder(adaptee.specificRequest()).reverse();\\n  }\\n}\\n\\n// TC_TYPE: adapter\\n\\npackage Adapter;\\n\\n/*\\n * The Adapter makes the Adaptee\\'s interface compatible with the Target\\'s\\n * interface via multiple inheritance.\\n */\\npublic class Adapter implements Target {\\n  private final Adaptee adaptee;\\n\\n  public Adapter(Adaptee adaptee) {\\n    this.adaptee = adaptee;\\n  }\\n\\n  @Override\\n  public String request() {\\n    // Reverse the string to simulate \"translation\"\\n    return \"Adapter: (TRANSLATED) \" + new StringBuilder(adaptee.specificRequest()).reverse();\\n  }\\n}\\n\\n// TC_TYPE: adapter\\n\\npackage Adapter;\\n\\n/*\\n * The Adapter makes the Adaptee\\'s interface compatible with the Target\\'s\\n * interface via multiple inheritance.\\n */\\npublic class Adapter implements Target {\\n  private final Adaptee adaptee;\\n\\n  public Adapter(Adaptee adaptee) {\\n    this.adaptee = adaptee;\\n  }\\n\\n  @Override\\n  public String request() {\\n    // Reverse the string to simulate \"translation\"\\n    return \"Adapter: (TRANSLATED) \" + new StringBuilder(adaptee.specificRequest()).reverse();\\n  }\\n}\\n\\nHere is the code from user:\\npackage listadt;\\n\\nimport java.util.function.Function;\\n\\n/**\\n * This is a non-empty node in a generic list. It contains the object data\\n * and the rest of the list\\n */\\npublic class GenericElementNode<T> implements GenericListADTNode<T> {\\n  private final T object;\\n  private GenericListADTNode<T> rest;\\n\\n  /**\\n   * Creates an instance of a non-empty node in a generic list.\\n   * @param p the object data\\n   * @param rest the rest of the list\\n   */\\n  public GenericElementNode(T p, GenericListADTNode<T> rest) {\\n    this.object = p;\\n    this.rest = rest;\\n  }\\n\\n  @Override\\n  public int count() {\\n    return 1 + this.rest.count();\\n  }\\n\\n\\n  @Override\\n  public GenericListADTNode<T> addFront(T object) {\\n    return new GenericElementNode<>(object, this);\\n  }\\n\\n  @Override\\n  public GenericListADTNode<T> addBack(T object) {\\n    this.rest = this.rest.addBack(object);\\n    return this;\\n  }\\n\\n  @Override\\n  public GenericListADTNode<T> add(int index, T object) {\\n    if (index == 0) {\\n      return addFront(object);\\n    } else {\\n      this.rest = this.rest.add(index - 1, object);\\n      return this;\\n    }\\n  }\\n\\n  @Override\\n  public GenericListADTNode<T> remove(T object) {\\n    if (this.object.equals(object)) {\\n      return this.rest;\\n    } else {\\n      this.rest = this.rest.remove(object);\\n      return this;\\n    }\\n  }\\n\\n  @Override\\n  public T get(int index) throws IllegalArgumentException {\\n    if (index == 0) {\\n      return this.object;\\n    }\\n    return this.rest.get(index - 1);\\n  }\\n\\n  @Override\\n  public <R> GenericListADTNode<R> map(Function<T, R> converter) {\\n    /* Starting from this list of T, the resulting list of type R is an\\n    element that contains this data converted to T, followed by the rest of\\n    the converted list\\n     */\\n    return new GenericElementNode<>(\\n            converter.apply(this.object),\\n            this.rest.map(converter));\\n  }\\n\\n  @Override\\n  public String toString() {\\n    String objstring = this.object.toString();\\n    String rest = this.rest.toString();\\n    if (!rest.isEmpty()) {\\n      return objstring + \" \" + rest;\\n    } else {\\n      return objstring;\\n    }\\n  }\\n}\\n\\nHere is the No. 3 part of a tech credit\\nDescirption:\\nIterator: Provide a way to access the elements of an aggregate object sequentially without exposing its underlying representation.\\n\\nExample code for that tech credit:\\n// TC_TYPE: iterator \\n\\npackage Iterator;\\n\\nimport java.util.ArrayList;\\nimport java.util.Iterator;\\nimport java.util.List;\\n\\n/**\\n * Aggregate class that holds a collection of books\\n */\\npublic class BookCollection implements Iterable<Book> {\\n\\n    private List<Book> books = new ArrayList<>();\\n\\n    public void addBook(Book book) {\\n        books.add(book);\\n    }\\n\\n    @Override\\n    public Iterator<Book> iterator() {\\n        return new BookIterator(books);\\n    }\\n}\\n\\n// TC_TYPE: iterator \\n\\npackage Iterator;\\n\\nimport java.util.ArrayList;\\nimport java.util.Iterator;\\nimport java.util.List;\\n\\n/**\\n * Aggregate class that holds a collection of books\\n */\\npublic class BookCollection implements Iterable<Book> {\\n\\n    private List<Book> books = new ArrayList<>();\\n\\n    public void addBook(Book book) {\\n        books.add(book);\\n    }\\n\\n    @Override\\n    public Iterator<Book> iterator() {\\n        return new BookIterator(books);\\n    }\\n}\\n\\n// TC_TYPE: iterator \\n\\npackage Iterator;\\n\\nimport java.util.ArrayList;\\nimport java.util.Iterator;\\nimport java.util.List;\\n\\n/**\\n * Aggregate class that holds a collection of books\\n */\\npublic class BookCollection implements Iterable<Book> {\\n\\n    private List<Book> books = new ArrayList<>();\\n\\n    public void addBook(Book book) {\\n        books.add(book);\\n    }\\n\\n    @Override\\n    public Iterator<Book> iterator() {\\n        return new BookIterator(books);\\n    }\\n}\\n\\n// TC_TYPE: iterator \\n\\npackage Iterator;\\n\\nimport java.util.ArrayList;\\nimport java.util.Iterator;\\nimport java.util.List;\\n\\n/**\\n * Aggregate class that holds a collection of books\\n */\\npublic class BookCollection implements Iterable<Book> {\\n\\n    private List<Book> books = new ArrayList<>();\\n\\n    public void addBook(Book book) {\\n        books.add(book);\\n    }\\n\\n    @Override\\n    public Iterator<Book> iterator() {\\n        return new BookIterator(books);\\n    }\\n}\\n\\nHere is the code from user:\\npackage listadt;\\n\\nimport java.util.function.Function;\\n\\n/**\\n * This class represents a list that is immutable. Once created, the elements in the list cannot be\\n * changed. The list supports a builder pattern to build the list.\\n * @param <T> the type of data in the list\\n */\\npublic class ImmutableListADTImpl<T> implements ImmutableListADT<T> {\\n  private final ListADT<T> immutableListADT;\\n\\n  // Private constructor to create an immutable list from a mutable list\\n  private ImmutableListADTImpl(ListADT<T> immutableListADT) {\\n    this.immutableListADT = immutableListADT;\\n  }\\n\\n  @Override\\n  public MutableListADT<T> getMutableList() {\\n    MutableListADT<T> mutableList = new MutableListADTImpl<>();\\n    for (int index = 0; index < this.getSize(); ++index) {\\n      mutableList.addBack(this.get(index));\\n    }\\n    return mutableList;\\n  }\\n\\n  @Override\\n  public int getSize() {\\n    return this.immutableListADT.getSize();\\n  }\\n\\n  @Override\\n  public T get(int index) throws IllegalArgumentException {\\n    return this.immutableListADT.get(index);\\n  }\\n\\n  @Override\\n  public <R> ImmutableListADT<R> map(Function<T, R> converter) {\\n    ImmutableListADTBuilder<R> builder = new ImmutableListADTBuilder<>();\\n    for (int i = 0; i < this.immutableListADT.getSize(); i++) {\\n      builder.addBack(converter.apply(this.immutableListADT.get(i)));\\n    }\\n    return builder.build();\\n  }\\n\\n  /**\\n   * This is a builder class to build an immutable list. The builder is used to add elements to the\\n   * list and then build the list.\\n   * @param <T> the type of data in the list\\n   */\\n  public static class ImmutableListADTBuilder<T> {\\n    private final ListADT<T> immutableListADT;\\n\\n    /**\\n     * Constructor to create a builder for the immutable list.\\n     * Initializes an empty and mutable list.\\n     */\\n    public ImmutableListADTBuilder() {\\n      this.immutableListADT = new ListADTImpl<>();\\n    }\\n\\n    /**\\n     * Add an element to the back of the list and returns the builder to add more elements.\\n     * @param b the element to be added\\n     * @return the builder object\\n     */\\n    public ImmutableListADTBuilder<T> addBack(T b) {\\n      this.immutableListADT.addBack(b);\\n      return this;\\n    }\\n\\n    /**\\n     * Builds the immutable list from the builder.\\n     * @return the immutable list implementation\\n     */\\n    public ImmutableListADT<T> build() {\\n      return new ImmutableListADTImpl<>(this.immutableListADT);\\n    }\\n  }\\n}\\n\\n\\nQuestion: Tell me what tech credits does the repo possibly use?\\nAnswer:\\n', additional_kwargs={}, response_metadata={})]\n",
      "Based on the code snippets provided, the repository appears to use the following technical credit patterns:\n",
      "\n",
      "1. Iterator: The code demonstrates an iterator-like approach in the `ListADTImpl` and `ImmutableListADTImpl` classes. These classes provide methods to traverse and access elements sequentially, such as `get(int index)` and `map()` methods, which align with the Iterator pattern's principle of accessing elements without exposing the underlying representation.\n",
      "\n",
      "2. Strategy Pattern: The `map()` method in both `ListADTImpl` and `ImmutableListADTImpl` uses a function as a strategy for transforming elements, which is characteristic of the Strategy pattern. It allows dynamic modification of list elements through different conversion strategies.\n",
      "\n",
      "3. Adapter Pattern: While not explicitly implemented, the code shows characteristics of an adapter-like approach. The `ImmutableListADTImpl` acts as an adapter between mutable and immutable list representations, providing methods like `getMutableList()` that convert between different list types.\n",
      "\n",
      "These technical credit patterns demonstrate flexible, extensible design in the list implementation, allowing for easy traversal, transformation, and adaptation of list data structures.\n"
     ]
    }
   ],
   "source": [
    "response = graph.invoke(\n",
    "    {\n",
    "        \"question\": \"Tell me what tech credits does the repo possibly use?\",\n",
    "        \"url\": \"https://github.com/alexsun2/cs3500lab10\",\n",
    "        \"branch\": \"main\",\n",
    "    }\n",
    ")\n",
    "print(response[\"answer\"])"
   ]
  },
  {
   "cell_type": "code",
   "execution_count": 138,
   "id": "cb5e3468-c0b0-4ed2-9f12-9eaaa9403acb",
   "metadata": {},
   "outputs": [
    {
     "name": "stdout",
     "output_type": "stream",
     "text": [
      "messages=[SystemMessage(content=\"You are an assistant for identifying technical credit. Use the following pieces                 of retrieved context to answer the question. If you don't know the answer, just                 say that you don't know. Please only use the provided technical credit categories. For each code snippet, use three sentences maximum and                 keep the answer concise.\", additional_kwargs={}, response_metadata={}), HumanMessage(content=\"The list of technical credit categories you must follow:\\n['Circuit Breaker', 'Strategy Pattern', 'Adapter Pattern', 'Model View Controller', 'Visitor Pattern', 'Iterator', 'Platform Abstraction Layers', 'Proxy', 'Chain of responsibility', 'Template method', 'Front controller', 'Command', 'Interpreter', 'Mediator', 'Memento', 'Observer or Publish/subscribe', 'Servant', 'Active Object', 'Event-based asynchronous', 'Messaging design pattern (MDP)', 'Thread pool']\\n\\nSome documentation about tech credit:\\nFigure 2.\\xa0 Conceptual model of technical credit.1\\xa0Technical Credit in PracticeDecisions leading to TC are inherently connected to a system’s business domain and product roadmap. However, not all design decisions yield true TC: those not enabling cost-effective modifications in line with business objectives might be deemed over-engineering. We create TC by crafting design decisions that ease future modifications anticipated by the product’s roadmap. Thus, a design decision yields technical credit upon its utilization.Drawing on extensive experience with product, architecture, and code reviews, we have identified examples of TC across different application domains.Platform abstraction layer.\\xa0 This strategy creates abstraction layers around third-party products and libraries, protecting application code from external API changes. When these products need replacing, adjustments are made only to the abstraction layer, not the application code. This approach exemplifies TC in reducing the\\n\\nFigure 2.\\xa0 Conceptual model of technical credit.1\\xa0Technical Credit in PracticeDecisions leading to TC are inherently connected to a system’s business domain and product roadmap. However, not all design decisions yield true TC: those not enabling cost-effective modifications in line with business objectives might be deemed over-engineering. We create TC by crafting design decisions that ease future modifications anticipated by the product’s roadmap. Thus, a design decision yields technical credit upon its utilization.Drawing on extensive experience with product, architecture, and code reviews, we have identified examples of TC across different application domains.Platform abstraction layer.\\xa0 This strategy creates abstraction layers around third-party products and libraries, protecting application code from external API changes. When these products need replacing, adjustments are made only to the abstraction layer, not the application code. This approach exemplifies TC in reducing the\\n\\nFigure 2.\\xa0 Conceptual model of technical credit.1\\xa0Technical Credit in PracticeDecisions leading to TC are inherently connected to a system’s business domain and product roadmap. However, not all design decisions yield true TC: those not enabling cost-effective modifications in line with business objectives might be deemed over-engineering. We create TC by crafting design decisions that ease future modifications anticipated by the product’s roadmap. Thus, a design decision yields technical credit upon its utilization.Drawing on extensive experience with product, architecture, and code reviews, we have identified examples of TC across different application domains.Platform abstraction layer.\\xa0 This strategy creates abstraction layers around third-party products and libraries, protecting application code from external API changes. When these products need replacing, adjustments are made only to the abstraction layer, not the application code. This approach exemplifies TC in reducing the\\n\\nFigure 2.\\xa0 Conceptual model of technical credit.1\\xa0Technical Credit in PracticeDecisions leading to TC are inherently connected to a system’s business domain and product roadmap. However, not all design decisions yield true TC: those not enabling cost-effective modifications in line with business objectives might be deemed over-engineering. We create TC by crafting design decisions that ease future modifications anticipated by the product’s roadmap. Thus, a design decision yields technical credit upon its utilization.Drawing on extensive experience with product, architecture, and code reviews, we have identified examples of TC across different application domains.Platform abstraction layer.\\xa0 This strategy creates abstraction layers around third-party products and libraries, protecting application code from external API changes. When these products need replacing, adjustments are made only to the abstraction layer, not the application code. This approach exemplifies TC in reducing the\\n\\nThe following are snippets of codes that are most similar to example codes of \\ntech credits.\\n\\n\\nQuestion: Tell me what tech credits does the repo possibly use?\\nAnswer:\\n\", additional_kwargs={}, response_metadata={})]\n",
      "Based on the provided context and documentation about technical credit, I can confidently identify one technical credit category:\n",
      "\n",
      "Platform Abstraction Layers\n",
      "\n",
      "The documentation explicitly describes this technical credit strategy as creating abstraction layers around third-party products and libraries. This approach protects application code from external API changes and allows for easier replacement of third-party components by making adjustments only in the abstraction layer.\n",
      "\n",
      "Without seeing the actual code snippets, I cannot definitively identify other technical credit categories. To provide a more comprehensive answer, I would need to review the specific code repositories or code snippets you mentioned.\n"
     ]
    }
   ],
   "source": [
    "response = graph.invoke(\n",
    "    {\n",
    "        \"question\": \"Tell me what tech credits does the repo possibly use?\",\n",
    "        \"url\": \"https://github.com/zacernst/circuit_breaker\",\n",
    "        \"branch\": \"master\",\n",
    "    }\n",
    ")\n",
    "print(response[\"answer\"])"
   ]
  },
  {
   "cell_type": "code",
   "execution_count": 139,
   "id": "9a574c51-5eeb-4581-9f96-a5ad263b8941",
   "metadata": {},
   "outputs": [
    {
     "name": "stdout",
     "output_type": "stream",
     "text": [
      "messages=[SystemMessage(content=\"You are an assistant for identifying technical credit. Use the following pieces                 of retrieved context to answer the question. If you don't know the answer, just                 say that you don't know. Please only use the provided technical credit categories. For each code snippet, use three sentences maximum and                 keep the answer concise.\", additional_kwargs={}, response_metadata={}), HumanMessage(content=\"The list of technical credit categories you must follow:\\n['Circuit Breaker', 'Strategy Pattern', 'Adapter Pattern', 'Model View Controller', 'Visitor Pattern', 'Iterator', 'Platform Abstraction Layers', 'Proxy', 'Chain of responsibility', 'Template method', 'Front controller', 'Command', 'Interpreter', 'Mediator', 'Memento', 'Observer or Publish/subscribe', 'Servant', 'Active Object', 'Event-based asynchronous', 'Messaging design pattern (MDP)', 'Thread pool']\\n\\nSome documentation about tech credit:\\nFigure 2.\\xa0 Conceptual model of technical credit.1\\xa0Technical Credit in PracticeDecisions leading to TC are inherently connected to a system’s business domain and product roadmap. However, not all design decisions yield true TC: those not enabling cost-effective modifications in line with business objectives might be deemed over-engineering. We create TC by crafting design decisions that ease future modifications anticipated by the product’s roadmap. Thus, a design decision yields technical credit upon its utilization.Drawing on extensive experience with product, architecture, and code reviews, we have identified examples of TC across different application domains.Platform abstraction layer.\\xa0 This strategy creates abstraction layers around third-party products and libraries, protecting application code from external API changes. When these products need replacing, adjustments are made only to the abstraction layer, not the application code. This approach exemplifies TC in reducing the\\n\\nFigure 2.\\xa0 Conceptual model of technical credit.1\\xa0Technical Credit in PracticeDecisions leading to TC are inherently connected to a system’s business domain and product roadmap. However, not all design decisions yield true TC: those not enabling cost-effective modifications in line with business objectives might be deemed over-engineering. We create TC by crafting design decisions that ease future modifications anticipated by the product’s roadmap. Thus, a design decision yields technical credit upon its utilization.Drawing on extensive experience with product, architecture, and code reviews, we have identified examples of TC across different application domains.Platform abstraction layer.\\xa0 This strategy creates abstraction layers around third-party products and libraries, protecting application code from external API changes. When these products need replacing, adjustments are made only to the abstraction layer, not the application code. This approach exemplifies TC in reducing the\\n\\nFigure 2.\\xa0 Conceptual model of technical credit.1\\xa0Technical Credit in PracticeDecisions leading to TC are inherently connected to a system’s business domain and product roadmap. However, not all design decisions yield true TC: those not enabling cost-effective modifications in line with business objectives might be deemed over-engineering. We create TC by crafting design decisions that ease future modifications anticipated by the product’s roadmap. Thus, a design decision yields technical credit upon its utilization.Drawing on extensive experience with product, architecture, and code reviews, we have identified examples of TC across different application domains.Platform abstraction layer.\\xa0 This strategy creates abstraction layers around third-party products and libraries, protecting application code from external API changes. When these products need replacing, adjustments are made only to the abstraction layer, not the application code. This approach exemplifies TC in reducing the\\n\\nFigure 2.\\xa0 Conceptual model of technical credit.1\\xa0Technical Credit in PracticeDecisions leading to TC are inherently connected to a system’s business domain and product roadmap. However, not all design decisions yield true TC: those not enabling cost-effective modifications in line with business objectives might be deemed over-engineering. We create TC by crafting design decisions that ease future modifications anticipated by the product’s roadmap. Thus, a design decision yields technical credit upon its utilization.Drawing on extensive experience with product, architecture, and code reviews, we have identified examples of TC across different application domains.Platform abstraction layer.\\xa0 This strategy creates abstraction layers around third-party products and libraries, protecting application code from external API changes. When these products need replacing, adjustments are made only to the abstraction layer, not the application code. This approach exemplifies TC in reducing the\\n\\nThe following are snippets of codes that are most similar to example codes of \\ntech credits.\\n\\n\\nQuestion: Tell me what tech credits does the repo possibly use?\\nAnswer:\\n\", additional_kwargs={}, response_metadata={})]\n",
      "Based on the provided context and documentation, the most prominent technical credit category is:\n",
      "\n",
      "Platform Abstraction Layers\n",
      "\n",
      "This is directly mentioned in the documentation as a technical credit strategy. The description explains that platform abstraction layers create abstraction around third-party products and libraries, which protects application code from external API changes. When third-party products need to be replaced, only the abstraction layer requires modifications, not the entire application code.\n",
      "\n",
      "The documentation emphasizes that technical credit involves making design decisions that:\n",
      "1. Are connected to the system's business domain and product roadmap\n",
      "2. Enable cost-effective modifications\n",
      "3. Anticipate future changes\n",
      "4. Yield benefits upon utilization\n",
      "\n",
      "Without seeing the actual code snippets, I cannot confidently suggest other technical credit categories. To provide a more precise answer, I would need to review the specific code repository or code samples.\n"
     ]
    }
   ],
   "source": [
    "response = graph.invoke(\n",
    "    {\n",
    "        \"question\": \"Tell me what tech credits does the repo possibly use?\",\n",
    "        \"url\": \"https://github.com/fabfuel/circuitbreaker\",\n",
    "        \"branch\": \"develop\",\n",
    "    }\n",
    ")\n",
    "print(response[\"answer\"])"
   ]
  },
  {
   "cell_type": "code",
   "execution_count": 140,
   "id": "f7b783b4-d5e7-4798-8964-aed0fc901c07",
   "metadata": {},
   "outputs": [
    {
     "name": "stdout",
     "output_type": "stream",
     "text": [
      "messages=[SystemMessage(content=\"You are an assistant for identifying technical credit. Use the following pieces                 of retrieved context to answer the question. If you don't know the answer, just                 say that you don't know. Please only use the provided technical credit categories. For each code snippet, use three sentences maximum and                 keep the answer concise.\", additional_kwargs={}, response_metadata={}), HumanMessage(content=\"The list of technical credit categories you must follow:\\n['Circuit Breaker', 'Strategy Pattern', 'Adapter Pattern', 'Model View Controller', 'Visitor Pattern', 'Iterator', 'Platform Abstraction Layers', 'Proxy', 'Chain of responsibility', 'Template method', 'Front controller', 'Command', 'Interpreter', 'Mediator', 'Memento', 'Observer or Publish/subscribe', 'Servant', 'Active Object', 'Event-based asynchronous', 'Messaging design pattern (MDP)', 'Thread pool']\\n\\nSome documentation about tech credit:\\nFigure 2.\\xa0 Conceptual model of technical credit.1\\xa0Technical Credit in PracticeDecisions leading to TC are inherently connected to a system’s business domain and product roadmap. However, not all design decisions yield true TC: those not enabling cost-effective modifications in line with business objectives might be deemed over-engineering. We create TC by crafting design decisions that ease future modifications anticipated by the product’s roadmap. Thus, a design decision yields technical credit upon its utilization.Drawing on extensive experience with product, architecture, and code reviews, we have identified examples of TC across different application domains.Platform abstraction layer.\\xa0 This strategy creates abstraction layers around third-party products and libraries, protecting application code from external API changes. When these products need replacing, adjustments are made only to the abstraction layer, not the application code. This approach exemplifies TC in reducing the\\n\\nFigure 2.\\xa0 Conceptual model of technical credit.1\\xa0Technical Credit in PracticeDecisions leading to TC are inherently connected to a system’s business domain and product roadmap. However, not all design decisions yield true TC: those not enabling cost-effective modifications in line with business objectives might be deemed over-engineering. We create TC by crafting design decisions that ease future modifications anticipated by the product’s roadmap. Thus, a design decision yields technical credit upon its utilization.Drawing on extensive experience with product, architecture, and code reviews, we have identified examples of TC across different application domains.Platform abstraction layer.\\xa0 This strategy creates abstraction layers around third-party products and libraries, protecting application code from external API changes. When these products need replacing, adjustments are made only to the abstraction layer, not the application code. This approach exemplifies TC in reducing the\\n\\nFigure 2.\\xa0 Conceptual model of technical credit.1\\xa0Technical Credit in PracticeDecisions leading to TC are inherently connected to a system’s business domain and product roadmap. However, not all design decisions yield true TC: those not enabling cost-effective modifications in line with business objectives might be deemed over-engineering. We create TC by crafting design decisions that ease future modifications anticipated by the product’s roadmap. Thus, a design decision yields technical credit upon its utilization.Drawing on extensive experience with product, architecture, and code reviews, we have identified examples of TC across different application domains.Platform abstraction layer.\\xa0 This strategy creates abstraction layers around third-party products and libraries, protecting application code from external API changes. When these products need replacing, adjustments are made only to the abstraction layer, not the application code. This approach exemplifies TC in reducing the\\n\\nFigure 2.\\xa0 Conceptual model of technical credit.1\\xa0Technical Credit in PracticeDecisions leading to TC are inherently connected to a system’s business domain and product roadmap. However, not all design decisions yield true TC: those not enabling cost-effective modifications in line with business objectives might be deemed over-engineering. We create TC by crafting design decisions that ease future modifications anticipated by the product’s roadmap. Thus, a design decision yields technical credit upon its utilization.Drawing on extensive experience with product, architecture, and code reviews, we have identified examples of TC across different application domains.Platform abstraction layer.\\xa0 This strategy creates abstraction layers around third-party products and libraries, protecting application code from external API changes. When these products need replacing, adjustments are made only to the abstraction layer, not the application code. This approach exemplifies TC in reducing the\\n\\nThe following are snippets of codes that are most similar to example codes of \\ntech credits.\\n\\n\\nQuestion: Tell me what tech credits does the repo possibly use?\\nAnswer:\\n\", additional_kwargs={}, response_metadata={})]\n",
      "Based on the provided context and documentation, the most prominent technical credit category mentioned is:\n",
      "\n",
      "Platform Abstraction Layers\n",
      "\n",
      "The documentation explicitly describes this technical credit strategy as creating abstraction layers around third-party products and libraries. This approach protects application code from external API changes and allows for easier replacement of third-party components by making modifications only in the abstraction layer.\n",
      "\n",
      "The key characteristics of Platform Abstraction Layers are:\n",
      "1. Creates a protective layer around external libraries and products\n",
      "2. Isolates application code from direct dependencies\n",
      "3. Enables easier future modifications and replacements of third-party components\n",
      "\n",
      "Without seeing the actual code snippets, I cannot confidently suggest any additional technical credit categories. The documentation provides a general overview of technical credit but does not specify other concrete patterns used in the specific repository.\n"
     ]
    }
   ],
   "source": [
    "response = graph.invoke(\n",
    "    {\n",
    "        \"question\": \"Tell me what tech credits does the repo possibly use?\",\n",
    "        \"url\": \"https://github.com/gmargari/pymvc\",\n",
    "        \"branch\": \"main\",\n",
    "    }\n",
    ")\n",
    "print(response[\"answer\"])"
   ]
  },
  {
   "cell_type": "code",
   "execution_count": 141,
   "id": "4a5be63f-a708-4608-9d98-b913cca422d8",
   "metadata": {},
   "outputs": [
    {
     "name": "stdout",
     "output_type": "stream",
     "text": [
      "messages=[SystemMessage(content=\"You are an assistant for identifying technical credit. Use the following pieces                 of retrieved context to answer the question. If you don't know the answer, just                 say that you don't know. Please only use the provided technical credit categories. For each code snippet, use three sentences maximum and                 keep the answer concise.\", additional_kwargs={}, response_metadata={}), HumanMessage(content=\"The list of technical credit categories you must follow:\\n['Circuit Breaker', 'Strategy Pattern', 'Adapter Pattern', 'Model View Controller', 'Visitor Pattern', 'Iterator', 'Platform Abstraction Layers', 'Proxy', 'Chain of responsibility', 'Template method', 'Front controller', 'Command', 'Interpreter', 'Mediator', 'Memento', 'Observer or Publish/subscribe', 'Servant', 'Active Object', 'Event-based asynchronous', 'Messaging design pattern (MDP)', 'Thread pool']\\n\\nSome documentation about tech credit:\\nFigure 2.\\xa0 Conceptual model of technical credit.1\\xa0Technical Credit in PracticeDecisions leading to TC are inherently connected to a system’s business domain and product roadmap. However, not all design decisions yield true TC: those not enabling cost-effective modifications in line with business objectives might be deemed over-engineering. We create TC by crafting design decisions that ease future modifications anticipated by the product’s roadmap. Thus, a design decision yields technical credit upon its utilization.Drawing on extensive experience with product, architecture, and code reviews, we have identified examples of TC across different application domains.Platform abstraction layer.\\xa0 This strategy creates abstraction layers around third-party products and libraries, protecting application code from external API changes. When these products need replacing, adjustments are made only to the abstraction layer, not the application code. This approach exemplifies TC in reducing the\\n\\nFigure 2.\\xa0 Conceptual model of technical credit.1\\xa0Technical Credit in PracticeDecisions leading to TC are inherently connected to a system’s business domain and product roadmap. However, not all design decisions yield true TC: those not enabling cost-effective modifications in line with business objectives might be deemed over-engineering. We create TC by crafting design decisions that ease future modifications anticipated by the product’s roadmap. Thus, a design decision yields technical credit upon its utilization.Drawing on extensive experience with product, architecture, and code reviews, we have identified examples of TC across different application domains.Platform abstraction layer.\\xa0 This strategy creates abstraction layers around third-party products and libraries, protecting application code from external API changes. When these products need replacing, adjustments are made only to the abstraction layer, not the application code. This approach exemplifies TC in reducing the\\n\\nFigure 2.\\xa0 Conceptual model of technical credit.1\\xa0Technical Credit in PracticeDecisions leading to TC are inherently connected to a system’s business domain and product roadmap. However, not all design decisions yield true TC: those not enabling cost-effective modifications in line with business objectives might be deemed over-engineering. We create TC by crafting design decisions that ease future modifications anticipated by the product’s roadmap. Thus, a design decision yields technical credit upon its utilization.Drawing on extensive experience with product, architecture, and code reviews, we have identified examples of TC across different application domains.Platform abstraction layer.\\xa0 This strategy creates abstraction layers around third-party products and libraries, protecting application code from external API changes. When these products need replacing, adjustments are made only to the abstraction layer, not the application code. This approach exemplifies TC in reducing the\\n\\nFigure 2.\\xa0 Conceptual model of technical credit.1\\xa0Technical Credit in PracticeDecisions leading to TC are inherently connected to a system’s business domain and product roadmap. However, not all design decisions yield true TC: those not enabling cost-effective modifications in line with business objectives might be deemed over-engineering. We create TC by crafting design decisions that ease future modifications anticipated by the product’s roadmap. Thus, a design decision yields technical credit upon its utilization.Drawing on extensive experience with product, architecture, and code reviews, we have identified examples of TC across different application domains.Platform abstraction layer.\\xa0 This strategy creates abstraction layers around third-party products and libraries, protecting application code from external API changes. When these products need replacing, adjustments are made only to the abstraction layer, not the application code. This approach exemplifies TC in reducing the\\n\\nThe following are snippets of codes that are most similar to example codes of \\ntech credits.\\n\\n\\nQuestion: Tell me what tech credits does the repo possibly use?\\nAnswer:\\n\", additional_kwargs={}, response_metadata={})]\n",
      "Based on the provided context and documentation, the most prominent technical credit category is:\n",
      "\n",
      "Platform Abstraction Layers\n",
      "\n",
      "This is directly mentioned in the documentation as a technical credit strategy. The description explains that platform abstraction layers create an abstraction around third-party products and libraries, which protects application code from external API changes. When third-party products need to be replaced, only the abstraction layer requires modifications, not the entire application code.\n",
      "\n",
      "The documentation emphasizes that technical credit involves making design decisions that:\n",
      "1. Are connected to the system's business domain and product roadmap\n",
      "2. Enable cost-effective modifications\n",
      "3. Anticipate future changes\n",
      "4. Yield benefits upon utilization\n",
      "\n",
      "Without seeing the actual code snippets, I cannot definitively state other technical credit patterns that might be used. To provide a more precise answer, I would need to review the specific code repository or additional context.\n"
     ]
    }
   ],
   "source": [
    "response = graph.invoke(\n",
    "    {\n",
    "        \"question\": \"Tell me what tech credits does the repo possibly use?\",\n",
    "        \"url\": \"https://github.com/etimberg/pycircuitbreaker\",\n",
    "        \"branch\": \"master\",\n",
    "    }\n",
    ")\n",
    "print(response[\"answer\"])"
   ]
  },
  {
   "cell_type": "code",
   "execution_count": 142,
   "id": "197d3c6f-9ed7-41a3-ac7a-f12633aa2330",
   "metadata": {},
   "outputs": [],
   "source": [
    "# response = graph.invoke({\"question\": \"Tell me if the following is a tech credit and what do these 3 states do?\",\n",
    "# \"url\": \"https://github.com/pallets/jinja\", \"branch\": \"main\"})\n",
    "# print(response[\"answer\"])"
   ]
  },
  {
   "cell_type": "markdown",
   "id": "1fe566a7-f5bf-4417-a90a-84ad342cf435",
   "metadata": {},
   "source": [
    "# Roadmap:\n",
    "\n",
    "1. Use a text embedding model.\n",
    "   - [x] gemini text-embedding-004\n",
    "2. Code splitter may not work properly.\n",
    "   - [x] change to code-splitter that works better.\n",
    "3. [x] Switch in memory vector storage to a vector database\n",
    "   - [x] code vector database with additional metadata for tech credit\n",
    "   - [x] document vector database with academic context about tech credit\n",
    "4. [ ] Load more standard example codes for tech credit (~20 more examples)\n",
    "5. [ ] Load more documents (academic contexts) for technical credit (3~5 related academic paper)\n",
    "6. [x] Allow user to ask about a repository, instead of small snippets of codes\n",
    "   - [x] load, chunk, split, embed and vectorize a repo\n",
    "   - [x] similarity search and filter user code by similarity score compared with example code\n",
    "   - [ ] batch process to LLM\n",
    "   - [ ] organize response and answers\n",
    "7. [ ] validate the results\n",
    "   - [ ] Test our trained data in TC-Examples\n",
    "   - [ ] use different embedding and LLM to test five example repos\n",
    "   - Gemini,\n",
    "   - claude-3.5-haiku,\n",
    "8. Jun 6:\n",
    "   1. [ ] choose five test repos\n",
    "   2. [ ] two more LLM and one more embeddings models\n",
    "   3. [ ] expected output:\n",
    "      1. [ ] human expert\n",
    "      2. [ ] LLM as judge\n"
   ]
  },
  {
   "cell_type": "code",
   "execution_count": null,
   "id": "7c4a11de-5053-4ef3-a889-fe3ea97a720e",
   "metadata": {},
   "outputs": [],
   "source": []
  }
 ],
 "metadata": {
  "kernelspec": {
   "display_name": "tcai",
   "language": "python",
   "name": "python3"
  },
  "language_info": {
   "codemirror_mode": {
    "name": "ipython",
    "version": 3
   },
   "file_extension": ".py",
   "mimetype": "text/x-python",
   "name": "python",
   "nbconvert_exporter": "python",
   "pygments_lexer": "ipython3",
   "version": "3.12.11"
  }
 },
 "nbformat": 4,
 "nbformat_minor": 5
}
