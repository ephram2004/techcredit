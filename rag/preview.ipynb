{
 "cells": [
  {
   "cell_type": "markdown",
   "id": "b1ec0f76-970a-47cd-aa1e-0a2e1a6ad92f",
   "metadata": {},
   "source": [
    "# Preview from LangChain\n",
    "\n",
    "## Step by step code\n",
    "\n",
    "1. get LangSmith API Key from environment\n",
    "2. set up anthropic key for chat model\n",
    "3. set up embedding model for embeddings\n",
    "4. select vector database\n",
    "5. set up document loader and split up"
   ]
  },
  {
   "cell_type": "markdown",
   "id": "dd8825c3-e6e4-4541-aa62-fc862ba42bc6",
   "metadata": {},
   "source": [
    "## Tutorials\n",
    "\n",
    "### LangChain RAG tutorial document\n",
    "\n",
    "#### Part 1\n",
    "\n",
    "- https://python.langchain.com/docs/tutorials/rag\n",
    "\n",
    "#### Part 2\n",
    "\n",
    "Extends the implementation to accommodate conversation-style interactions and multi-step retrieval processes.\n",
    "\n",
    "- https://python.langchain.com/docs/tutorials/qa_chat_history/\n",
    "\n",
    "LangChain document loader for GitHub Repo\n",
    "\n",
    "- https://python.langchain.com/docs/integrations/document_loaders/github/\n",
    "\n",
    "LangChain document loader for Git Repository\n",
    "\n",
    "- https://python.langchain.com/docs/integrations/document_loaders/git/\n",
    "\n",
    "LangChain document loader for Source Code (e.g. Python)\n",
    "\n",
    "- https://python.langchain.com/docs/integrations/document_loaders/source_code/\n",
    "\n",
    "LangSmith evaluation for a chatbot\n",
    "\n",
    "- https://docs.smith.langchain.com/evaluation/tutorials/evaluation\n",
    "\n",
    "LangSmith evaluation for a rag\n",
    "\n",
    "- https://docs.smith.langchain.com/evaluation/tutorials/rag"
   ]
  },
  {
   "cell_type": "code",
   "execution_count": 1,
   "id": "b23ba444",
   "metadata": {},
   "outputs": [],
   "source": [
    "import sys\n",
    "import os\n",
    "\n",
    "# Get the path to the parent directory of the notebook\n",
    "parent_dir = os.path.dirname(os.path.abspath(\"\"))\n",
    "\n",
    "# Add the parent directory to sys.path\n",
    "if parent_dir not in sys.path:\n",
    "    sys.path.append(parent_dir)\n",
    "\n",
    "# Now do the import\n",
    "from helper.secrets_loader import SecretsLoader\n",
    "\n",
    "envfile = os.path.join(parent_dir, \".env\")"
   ]
  },
  {
   "cell_type": "markdown",
   "id": "78ab7270",
   "metadata": {},
   "source": [
    "### 1000 Imports\n",
    "\n",
    "* [x] set up LangSmith key\n",
    "* [x] set up Claude key (Anthropic)\n",
    "* [x] set up Gemini key (Google)\n",
    "* [x] set up Github personal access token"
   ]
  },
  {
   "cell_type": "code",
   "execution_count": 4,
   "id": "b899eece",
   "metadata": {},
   "outputs": [
    {
     "name": "stdout",
     "output_type": "stream",
     "text": [
      "Loaded LANGSMITH_API_KEY from token file: /Users/ejacquin/Desktop/Northeastern/School_Work/Summer_II_2025/CS4973/techcredit/.env\n",
      "Loaded CLAUDE_API_KEY from token file: /Users/ejacquin/Desktop/Northeastern/School_Work/Summer_II_2025/CS4973/techcredit/.env\n",
      "Loaded GOOGLE_API_KEY from token file: /Users/ejacquin/Desktop/Northeastern/School_Work/Summer_II_2025/CS4973/techcredit/.env\n",
      "Loaded GITHUB_PA_TOKEN from token file: /Users/ejacquin/Desktop/Northeastern/School_Work/Summer_II_2025/CS4973/techcredit/.env\n"
     ]
    }
   ],
   "source": [
    "os.environ[\"LANGSMITH_TRACING\"] = \"true\"\n",
    "os.environ[\"LANGSMITH_API_KEY\"] = SecretsLoader.get_token(\"LANGSMITH_API_KEY\", envfile)\n",
    "os.environ[\"CLAUDE_API_KEY\"] = SecretsLoader.get_token(\"CLAUDE_API_KEY\", envfile)\n",
    "os.environ[\"GOOGLE_API_KEY\"] = SecretsLoader.get_token(\"GOOGLE_API_KEY\", envfile)\n",
    "os.environ[\"GITHUB_PA_TOKEN\"] = SecretsLoader.get_token(\"GITHUB_PA_TOKEN\", envfile)"
   ]
  },
  {
   "cell_type": "markdown",
   "id": "7032cc2a-ae18-40bf-86aa-08270b25fc32",
   "metadata": {},
   "source": [
    "* [x] set up Claude (Anthropic) llm\n",
    "* [x] set up Google Gemini as embedding model"
   ]
  },
  {
   "cell_type": "code",
   "execution_count": 5,
   "id": "ac315b7b-3b72-4f20-a641-9b2b498a7100",
   "metadata": {},
   "outputs": [],
   "source": [
    "\n",
    "from langchain.chat_models import init_chat_model\n",
    "from langchain_google_genai import GoogleGenerativeAIEmbeddings\n",
    "\n",
    "\n",
    "llm = init_chat_model(\"claude-3-5-haiku-latest\", model_provider=\"anthropic\")\n",
    "embeddings = GoogleGenerativeAIEmbeddings(model=\"models/text-embedding-004\")"
   ]
  },
  {
   "cell_type": "markdown",
   "id": "fad7a684-56c6-40e1-8a64-b86089a6e12c",
   "metadata": {},
   "source": [
    "# Choosing database\n",
    "\n",
    "Load, chunk, split, embed and vectorize code data and document data into database\n",
    "\n",
    "## Candidates\n",
    "\n",
    "1. cassandra\n",
    "2. open search https://opensearch.org/platform/os-search/vector-database/\n",
    "3. Pinecone\n",
    "4. MongoDB\n",
    "5. PostgreSQL\n",
    "6. [x] Chroma, locally hosted with sqlite --> **using this one**"
   ]
  },
  {
   "cell_type": "code",
   "execution_count": 6,
   "id": "5954c2e3-3c86-41f1-9ce2-d76e5fb88ec5",
   "metadata": {},
   "outputs": [],
   "source": [
    "from langchain_chroma import Chroma\n",
    "\n",
    "vector_store = Chroma(\n",
    "    collection_name=\"python_tech_credit\",\n",
    "    embedding_function=embeddings,\n",
    "    persist_directory=\"./chroma_langchain_db\",  # Where to save data locally, remove if not necessary\n",
    ")\n",
    "\n",
    "document_store = Chroma(\n",
    "    collection_name=\"document_tech_credit\",\n",
    "    embedding_function=embeddings,\n",
    "    persist_directory=\"./chroma_langchain_db\",\n",
    ")"
   ]
  },
  {
   "cell_type": "markdown",
   "id": "2ebf0591-3020-489b-9563-00a12e3a20bb",
   "metadata": {},
   "source": [
    "* [ ] Import and load a GitHub Repo as a document"
   ]
  },
  {
   "cell_type": "code",
   "execution_count": 7,
   "id": "f8ee1cb4-7571-4e12-a190-58e53b4d6be5",
   "metadata": {},
   "outputs": [],
   "source": [
    "from langchain_community.document_loaders import GithubFileLoader\n",
    "from langchain_core.documents import Document\n",
    "from langgraph.graph import START, StateGraph\n",
    "\n",
    "# Load and chunk contents of the github repo\n",
    "loader = GithubFileLoader(\n",
    "    repo=\"ameliarogerscodes/TC-Examples\",  # the repo name\n",
    "    access_token=os.environ[\"GITHUB_PA_TOKEN\"],\n",
    "    branch=\"main\",  # the branch name\n",
    "    github_api_url=\"https://api.github.com\",\n",
    "    file_filter=lambda file_path: file_path.endswith(\n",
    "        \".py\"\n",
    "    ),  # load all python files.\n",
    ")\n",
    "documents = loader.load()"
   ]
  },
  {
   "cell_type": "markdown",
   "id": "53f4df20-f761-4288-b10a-574e3a2a21f4",
   "metadata": {},
   "source": [
    "* [ ] test documents content"
   ]
  },
  {
   "cell_type": "code",
   "execution_count": null,
   "id": "23ad2951-9597-42c1-b399-1f7caa8e9949",
   "metadata": {},
   "outputs": [],
   "source": [
    "print(documents[7].metadata)"
   ]
  },
  {
   "cell_type": "markdown",
   "id": "20eb1b2a-4c2a-49f7-beae-e5200e0eee85",
   "metadata": {},
   "source": [
    "* [ ] map metadata"
   ]
  },
  {
   "cell_type": "code",
   "execution_count": null,
   "id": "c0d2c29e-4580-4232-b678-8db2d4028644",
   "metadata": {},
   "outputs": [],
   "source": [
    "import json\n",
    "\n",
    "# Step 1: Load the JSON metadata from a file (adjust path accordingly)\n",
    "with open('./repo_metadata.json', 'r', encoding='utf-8') as f:\n",
    "    json_metadata_list = json.load(f)\n",
    "\n",
    "# The sample JSON will be like a list of dicts, for example:\n",
    "# [\n",
    "#   {\"path\": \"src/pybreaker.py\", \"type\": \"source\", \"tech-credit\": \"Circuit Breaker\", \"tech_credit_description\": \"good design\"},\n",
    "#   {\"path\": \"test/unitest_pybreaker.py\", \"type\": \"test\", \"tech-credit\": \"Circuit Breaker\", \"tech_credit_description\": \"good design\"}\n",
    "# ]\n",
    "\n",
    "# Step 2: Create a dictionary mapping from path to metadata (excluding 'path' key)\n",
    "metadata_map = {\n",
    "    entry['path']: {k: v for k, v in entry.items() if k != 'path'}\n",
    "    for entry in json_metadata_list\n",
    "}"
   ]
  },
  {
   "cell_type": "markdown",
   "id": "95abeffb-07c5-4036-95ef-320590c19b61",
   "metadata": {},
   "source": [
    "* [X] use code splitter"
   ]
  },
  {
   "cell_type": "code",
   "execution_count": null,
   "id": "0a26421b-1478-4354-a169-62389fdd8d60",
   "metadata": {},
   "outputs": [],
   "source": [
    "# use code-splitter \n",
    "# https://pypi.org/project/code-splitter/\n",
    "python_splitter = TiktokenSplitter(Language.Python, max_size=200)\n",
    "\n",
    "all_splits = [\n",
    "    Document(\n",
    "        page_content=(\n",
    "            # \"# ===== code structure =====\\n\"\n",
    "            # + \"\\n\".join(f\"# {line}\" for line in splits.subtree.splitlines())\n",
    "            # + \"\\n\\n\"\n",
    "            splits.text\n",
    "        ),\n",
    "        metadata=metadata_map.get(doc.metadata.get('path'), {})\n",
    "    )\n",
    "    for doc in documents \n",
    "    for splits in python_splitter.split(doc.page_content.encode(\"utf-8\"))\n",
    "]"
   ]
  },
  {
   "cell_type": "markdown",
   "id": "280decb5-9f05-4303-9964-b10df988ab5c",
   "metadata": {},
   "source": [
    "* [ ] print page_content and metadata for a split"
   ]
  },
  {
   "cell_type": "code",
   "execution_count": null,
   "id": "7f9958ae-a050-4d27-b065-c6d9c63ec640",
   "metadata": {
    "scrolled": true
   },
   "outputs": [],
   "source": [
    "print(all_splits[34].page_content)\n",
    "print(all_splits[34].metadata)"
   ]
  },
  {
   "cell_type": "markdown",
   "id": "996ffe88-73d0-4bc0-9b33-299d1139db49",
   "metadata": {},
   "source": [
    "* [ ] load, split and embed documents into vector database"
   ]
  },
  {
   "cell_type": "markdown",
   "id": "77bfc96a-85ce-4a0b-9da0-4b7d00c46e23",
   "metadata": {},
   "source": [
    "* [x] index chunks for code vector db, DO NOT LOAD TWICE!"
   ]
  },
  {
   "cell_type": "code",
   "execution_count": null,
   "id": "57fa4981-55e9-40d1-9df3-b1891d549073",
   "metadata": {},
   "outputs": [],
   "source": [
    "# Index chunks\n",
    "code_embed_index = vector_store.add_documents(documents=all_splits)"
   ]
  },
  {
   "cell_type": "markdown",
   "id": "47f39c77-6a6d-4979-a565-3bdc65236170",
   "metadata": {},
   "source": [
    "* [ ] load, chunk, split and embed documents about technical credit"
   ]
  },
  {
   "cell_type": "code",
   "execution_count": null,
   "id": "b926570a-74c5-4b24-8b75-a830ab290d9f",
   "metadata": {},
   "outputs": [],
   "source": [
    "import bs4\n",
    "from langchain_community.document_loaders import WebBaseLoader\n",
    "from langchain_text_splitters import RecursiveCharacterTextSplitter\n",
    "\n",
    "# Load and chunk contents of the blog\n",
    "bs4_strainer = bs4.SoupStrainer(\n",
    "    class_=(\"article-header__section\", \"article-header__topic-and-issue-section\",\n",
    "            \"article-header article-header__title\", \"article-header__subtitle\",\n",
    "        \t\"article-header__meta\",\n",
    "        \t\"article-table-of-contents\",\n",
    "        \t\"article-contents\",\n",
    "        \t\"article-footer\")\n",
    ")\n",
    "\n",
    "doc_loader = WebBaseLoader(\n",
    "    web_paths=(\"https://cacm.acm.org/opinion/technical-credit/\",),\n",
    "    bs_kwargs=dict(\n",
    "        parse_only=bs4_strainer\n",
    "    ),\n",
    ")\n",
    "\n",
    "text_documents = doc_loader.load()\n",
    "# recurisive splitter , 7 , all splits"
   ]
  },
  {
   "cell_type": "markdown",
   "id": "57093c26-c49c-454b-964d-985d99c027e1",
   "metadata": {},
   "source": [
    "* [X] test the web page document"
   ]
  },
  {
   "cell_type": "code",
   "execution_count": null,
   "id": "775b323a-607b-478c-aeec-ca538dd21511",
   "metadata": {},
   "outputs": [],
   "source": [
    "assert len(text_documents) == 1\n",
    "print(f\"Total characters: {len(text_documents[0].page_content)}\")\n",
    "print(text_documents[0].page_content[:500])"
   ]
  },
  {
   "cell_type": "markdown",
   "id": "4a2dcd6c-3469-4211-95bd-eadd65f86743",
   "metadata": {},
   "source": [
    "* [ ] split the document"
   ]
  },
  {
   "cell_type": "code",
   "execution_count": null,
   "id": "1963b0b9-1ac0-44d4-8c7e-8246eb5e3979",
   "metadata": {},
   "outputs": [],
   "source": [
    "from langchain_text_splitters import RecursiveCharacterTextSplitter\n",
    "\n",
    "text_splitter = RecursiveCharacterTextSplitter(\n",
    "    chunk_size=1000,  # chunk size (characters)\n",
    "    chunk_overlap=200,  # chunk overlap (characters)\n",
    "    add_start_index=True,  # track index in original document\n",
    ")\n",
    "text_splits = text_splitter.split_documents(text_documents)\n",
    "\n",
    "print(f\"Split article into {len(text_splits)} sub-documents.\")"
   ]
  },
  {
   "cell_type": "markdown",
   "id": "8341841c-23d3-40c8-83d0-b2187ac2c44a",
   "metadata": {},
   "source": [
    "* [X] embed the documents into vector database, DO NOT LOAD TWICE!"
   ]
  },
  {
   "cell_type": "code",
   "execution_count": null,
   "id": "afd11df3-bfa5-418d-bd78-60ad0497b7b9",
   "metadata": {},
   "outputs": [],
   "source": [
    "document_ids = document_store.add_documents(documents=text_splits)"
   ]
  },
  {
   "cell_type": "markdown",
   "id": "a6178740-773d-432d-a533-45e2a4a21b4e",
   "metadata": {},
   "source": [
    "# RAG System Part\n",
    "## Customize Prompt\n",
    "## Define nodes and graphs in the rag system\n",
    "1. [X] retrieve code and metadata\n",
    "2. [X] retrieve academic documents\n",
    "3. [X] send message to LLM"
   ]
  },
  {
   "cell_type": "markdown",
   "id": "e93143ad-64df-4240-882f-e0b1d1d9b171",
   "metadata": {},
   "source": [
    "* [ ] design prompt template."
   ]
  },
  {
   "cell_type": "code",
   "execution_count": null,
   "id": "e5bf3a43-d68d-4415-bb28-c321c42870b1",
   "metadata": {},
   "outputs": [],
   "source": [
    "# Define prompt for question-answering\n",
    "# N.B. for non-US LangSmith endpoints, you may need to specify\n",
    "# api_url=\"https://api.smith.langchain.com\" in hub.pull.\n",
    "from langchain_core.prompts import ChatPromptTemplate\n",
    "from jinja2 import Environment, BaseLoader\n",
    "import textwrap\n",
    "\n",
    "jinja2_prompt = \"\"\"\\\n",
    "{% for part in parts %}\n",
    "Here is the No. {{ part.ordinal }} part of a tech credit\n",
    "Descirption:\n",
    "{{ part.tech_credit }}\n",
    "\n",
    "Example code for that tech credit:\n",
    "{{ part.context_code }}\n",
    "\n",
    "Here is the code from user:\n",
    "{{ part.user_code }}\n",
    "{% endfor %}\n",
    "\"\"\"\n",
    "\n",
    "user_prompt_template = Environment(loader=BaseLoader).from_string(jinja2_prompt)\n",
    "\n",
    "prompt = ChatPromptTemplate([\n",
    "    (\"system\", \"You are an assistant for identifying technical credit. Use the following pieces \\\n",
    "                of retrieved context to answer the question. If you don't know the answer, just \\\n",
    "                say that you don't know. For each code snippet, use three sentences maximum and \\\n",
    "                keep the answer concise.\"),\n",
    "    (\"user\", textwrap.dedent(\"\"\"\\\n",
    "                Some documentation about tech credit:\n",
    "                {context_doc}\n",
    "\n",
    "                The following are snippets of codes that are most similar to example codes of \n",
    "                tech credits.\n",
    "                {rendered}\n",
    "                \n",
    "                Question: {question}\n",
    "                Answer:\n",
    "                \"\"\"))\n",
    "    ])"
   ]
  },
  {
   "cell_type": "markdown",
   "id": "105bf4cf-a257-4323-99b7-45d4fd92d73b",
   "metadata": {},
   "source": [
    "* [ ] collect metadata from code"
   ]
  },
  {
   "cell_type": "code",
   "execution_count": null,
   "id": "ba89a7a6-3c3f-4969-bdff-5cc6627d330a",
   "metadata": {},
   "outputs": [],
   "source": [
    "def collect_unique_pairs(documents):\n",
    "    \"\"\"\n",
    "    Collect unique concatenated 'tech_credit: description' strings from document metadata.\n",
    "\n",
    "    Args:\n",
    "        documents (list[dict]): A list of Document objects, each with a 'metadata' field.\n",
    "\n",
    "    Returns:\n",
    "        list[str]: A list of unique 'tech_credit: description' strings.\n",
    "    \"\"\"\n",
    "    seen = set()\n",
    "\n",
    "    for doc in documents:\n",
    "        metadata = doc.metadata\n",
    "        credit = metadata.get(\"tech_credit\")\n",
    "        description = metadata.get(\"tech_credit_description\")\n",
    "        if credit and description:\n",
    "            combined = f\"{credit}: {description}\"\n",
    "            seen.add(combined)\n",
    "\n",
    "    return list(seen)"
   ]
  },
  {
   "cell_type": "code",
   "execution_count": null,
   "id": "67ceec1c-ca5f-481d-a56c-50a0a00c9341",
   "metadata": {},
   "outputs": [],
   "source": [
    "from urllib.parse import urlparse\n",
    "from typing import List\n",
    "\n",
    "def load_repo(url: str, branch: str) -> List[Document]:\n",
    "    \"\"\"\n",
    "    Loads all Python files from a GitHub repository using the repository URL.\n",
    "\n",
    "    Args:\n",
    "        url (str): The full URL of the GitHub repository (e.g., \"https://github.com/org/project\").\n",
    "\n",
    "    Returns:\n",
    "        List[Document]: A list of loaded document objects (the format depends on GithubFileLoader).\n",
    "\n",
    "    Raises:\n",
    "        ValueError: If the URL is not a valid GitHub repo URL.\n",
    "    \"\"\"\n",
    "    parsed = urlparse(url)\n",
    "    if parsed.netloc != \"github.com\":\n",
    "        raise ValueError(f\"URL is not a github.com repo: {url}\")\n",
    "\n",
    "    # The path is like '/org/project' or '/org/project/'\n",
    "    path_parts = parsed.path.strip('/').split('/')\n",
    "    if len(path_parts) < 2:\n",
    "        raise ValueError(f\"Invalid GitHub repository URL: {url}\")\n",
    "    repo_name = '/'.join(path_parts[:2])  # Only org/project, ignore any deeper paths\n",
    "\n",
    "    loader = GithubFileLoader(\n",
    "        repo=repo_name,\n",
    "        branch=branch,\n",
    "        # access_token=ACCESS_TOKEN,\n",
    "        github_api_url=\"https://api.github.com\",\n",
    "        file_filter=lambda file_path: not file_path.startswith(\"tests/\") and file_path.endswith(\".py\"),\n",
    "    )\n",
    "    documents = loader.load()\n",
    "    return documents\n",
    "\n",
    "def split_documents(documents: List[Document]) -> List[str]:\n",
    "    \"\"\"\n",
    "    Splits Python code documents into code snippets and prepends the code structure as a comment header.\n",
    "\n",
    "    Args:\n",
    "        documents (List[Document]): List of Document objects containing Python code.\n",
    "\n",
    "    Returns:\n",
    "        List[Document]: List of new strings, each with a code structure comment followed by the code snippet.\n",
    "    \"\"\"\n",
    "    python_splitter = TiktokenSplitter(Language.Python, max_size=200)\n",
    "\n",
    "    all_splits = []\n",
    "    for doc in documents:\n",
    "        splits = python_splitter.split(doc.page_content.encode(\"utf-8\"))\n",
    "        for snippet in splits:\n",
    "            # delete the header for now, only splitting the literal source code\n",
    "            # header = (\n",
    "            #    \"# ===== code structure =====\\n\" +\n",
    "            #    \"\\n\".join(f\"# {line}\" for line in snippet.subtree.splitlines()) +\n",
    "            #    \"\\n\\n\"\n",
    "            #)\n",
    "            all_splits.append(snippet.text)\n",
    "    return all_splits"
   ]
  },
  {
   "cell_type": "code",
   "execution_count": null,
   "id": "0e7fbf07-ec97-4bea-afe6-ba708826ba10",
   "metadata": {},
   "outputs": [],
   "source": [
    "import heapq\n",
    "from typing import Callable\n",
    "from statistics import mean, median # for later usage of different similarity score\n",
    "\n",
    "def default_min_score_fn(results: list[tuple[Document, float]]) -> float:\n",
    "    \"\"\"Default scoring function: returns the minimum score.\"\"\"\n",
    "    return min(score for _, score in results)\n",
    "\n",
    "def top_k_similar_queries(\n",
    "    queries: list[str],\n",
    "    vectorstore,\n",
    "    k: int = 3,\n",
    "    scoring_fn: Callable[[list[tuple[Document, float]]], float] = default_min_score_fn,\n",
    "    top_docs_per_query: int = 4\n",
    ") -> list[tuple[str, list[Document], float]]:\n",
    "    \"\"\"\n",
    "    Executes similarity_search_with_score for each query and returns top-k queries\n",
    "    sorted by a user-defined scoring function.\n",
    "\n",
    "    Args:\n",
    "        queries: List of query strings.\n",
    "        vectorstore: A LangChain-compatible vector store.\n",
    "        k: Number of top results to return.\n",
    "        scoring_fn: Function that maps a list of (Document, score) to a float score.\n",
    "        top_docs_per_query: Number of documents to retrieve for each query.\n",
    "\n",
    "    Returns:\n",
    "        A list of (query, documents, aggregated_score) sorted by aggregated_score descending.\n",
    "    \"\"\"\n",
    "    heap = []\n",
    "\n",
    "    for query in queries:\n",
    "        results = vectorstore.similarity_search_with_score(query, k=top_docs_per_query)\n",
    "        if not results:\n",
    "            continue\n",
    "\n",
    "        agg_score = scoring_fn(results)\n",
    "        \n",
    "        # if agg_score < 0.65:\n",
    "        #    continue\n",
    "    \n",
    "        docs = [doc for doc, _ in results]\n",
    "\n",
    "        # Use negative score to simulate a max-heap\n",
    "        heapq.heappush(heap, (-agg_score, query, docs))\n",
    "        if len(heap) > k:\n",
    "            heapq.heappop(heap)\n",
    "\n",
    "    # Return sorted results: highest score first\n",
    "    top_k = sorted([(-score, query, docs) for score, query, docs in heap], reverse=True)\n",
    "    return [(query, docs, score) for score, query, docs in top_k]\n"
   ]
  },
  {
   "cell_type": "code",
   "execution_count": null,
   "id": "ad89e54e-0483-47d8-bda7-45e4ecec352e",
   "metadata": {},
   "outputs": [],
   "source": [
    "from typing_extensions import List, TypedDict\n",
    "\n",
    "# Define state for application\n",
    "class State(TypedDict):\n",
    "    question: str\n",
    "    context_doc: List[Document]\n",
    "    # a part that contains example codes, user code, tech credit and index order\n",
    "    parts: list[dict]\n",
    "    url: str # user code\n",
    "    branch: str\n",
    "    answer: str\n",
    "\n",
    "# Define application steps\n",
    "def retrieve(state: State):\n",
    "    repo_splits = split_documents(load_repo(state[\"url\"], state[\"branch\"]))\n",
    "    retrieved_docs = top_k_similar_queries(repo_splits, vector_store)\n",
    "    parts = [\n",
    "        {\n",
    "            \"ordinal\": i + 1,\n",
    "            \"tech_credit\": \"\\n\".join(collect_unique_pairs(context_code)),\n",
    "            \"user_code\": user_code,\n",
    "            \"context_code\": \"\\n\\n\".join(doc.page_content for doc in context_code)\n",
    "        }\n",
    "        for i, (user_code, context_code, _) in enumerate(retrieved_docs)\n",
    "    ]\n",
    "    return {\"parts\": parts}\n",
    "\n",
    "def retrieve_doc(state: State):\n",
    "    retrieved_doc = document_store.similarity_search(state[\"question\"])\n",
    "    return {\"context_doc\": retrieved_doc}\n",
    "    \n",
    "def generate(state: State):\n",
    "    doc_content = \"\\n\\n\".join(doc.page_content for doc in state[\"context_doc\"])\n",
    "    user_prompt = user_prompt_template.render(parts=state[\"parts\"])\n",
    "    messages = prompt.invoke({\"question\": state[\"question\"], \"rendered\": user_prompt, \n",
    "                              \"context_doc\": doc_content})\n",
    "    response = llm.invoke(messages)\n",
    "    return {\"answer\": response.content}\n",
    "\n",
    "# Compile application and test\n",
    "graph_builder = StateGraph(State).add_sequence([retrieve, generate])\n",
    "graph_builder.add_node(retrieve_doc)\n",
    "graph_builder.add_edge(START, \"retrieve\")\n",
    "graph_builder.add_edge(START, \"retrieve_doc\")\n",
    "graph = graph_builder.compile()"
   ]
  },
  {
   "cell_type": "markdown",
   "id": "f2c890ef-9f4b-4f62-929b-64bc5b33b4c4",
   "metadata": {},
   "source": [
    "# Ask Question Part\n",
    "## Circuit Breaker\n",
    "## MVC model\n",
    "## Iterator pattern\n"
   ]
  },
  {
   "cell_type": "markdown",
   "id": "8bb72313-9804-4db0-a3fe-ccd2841f9c6a",
   "metadata": {},
   "source": [
    "* [ ] Ask questions and test RAG"
   ]
  },
  {
   "cell_type": "code",
   "execution_count": null,
   "id": "e17b8816-0600-47bb-8371-d010eaba2ef0",
   "metadata": {},
   "outputs": [],
   "source": [
    "response = graph.invoke({\"question\": \"Tell me what tech credits does the repo possibly use?\",\n",
    "\"url\": \"https://github.com/danielfm/pybreaker\", \"branch\": \"main\"})\n",
    "print(response[\"answer\"])"
   ]
  },
  {
   "cell_type": "code",
   "execution_count": null,
   "id": "cb5e3468-c0b0-4ed2-9f12-9eaaa9403acb",
   "metadata": {},
   "outputs": [],
   "source": [
    "response = graph.invoke({\"question\": \"Tell me what tech credits does the repo possibly use?\",\n",
    "\"url\": \"https://github.com/zacernst/circuit_breaker\", \"branch\": \"master\"})\n",
    "print(response[\"answer\"])"
   ]
  },
  {
   "cell_type": "code",
   "execution_count": null,
   "id": "9a574c51-5eeb-4581-9f96-a5ad263b8941",
   "metadata": {},
   "outputs": [],
   "source": [
    "response = graph.invoke({\"question\": \"Tell me what tech credits does the repo possibly use?\",\n",
    "\"url\": \"https://github.com/fabfuel/circuitbreaker\", \"branch\": \"develop\"})\n",
    "print(response[\"answer\"])"
   ]
  },
  {
   "cell_type": "code",
   "execution_count": null,
   "id": "f7b783b4-d5e7-4798-8964-aed0fc901c07",
   "metadata": {},
   "outputs": [],
   "source": [
    "response = graph.invoke({\"question\": \"Tell me what tech credits does the repo possibly use?\",\n",
    "\"url\": \"https://github.com/gmargari/pymvc\", \"branch\": \"main\"})\n",
    "print(response[\"answer\"])"
   ]
  },
  {
   "cell_type": "code",
   "execution_count": null,
   "id": "4a5be63f-a708-4608-9d98-b913cca422d8",
   "metadata": {},
   "outputs": [],
   "source": [
    "response = graph.invoke({\"question\": \"Tell me what tech credits does the repo possibly use?\",\n",
    "\"url\": \"https://github.com/etimberg/pycircuitbreaker\", \"branch\": \"master\"})\n",
    "print(response[\"answer\"])"
   ]
  },
  {
   "cell_type": "code",
   "execution_count": null,
   "id": "197d3c6f-9ed7-41a3-ac7a-f12633aa2330",
   "metadata": {},
   "outputs": [],
   "source": [
    "# response = graph.invoke({\"question\": \"Tell me if the following is a tech credit and what do these 3 states do?\",\n",
    "# \"url\": \"https://github.com/pallets/jinja\", \"branch\": \"main\"})\n",
    "# print(response[\"answer\"])"
   ]
  },
  {
   "cell_type": "markdown",
   "id": "1fe566a7-f5bf-4417-a90a-84ad342cf435",
   "metadata": {},
   "source": [
    "# Roadmap:\n",
    "\n",
    "1. Use a text embedding model.\n",
    "   + [X] gemini text-embedding-004\n",
    "2. Code splitter may not work properly.\n",
    "   + [X] change to code-splitter that works better.\n",
    "3. [X] Switch in memory vector storage to a vector database\n",
    "   + [X] code vector database with additional metadata for tech credit\n",
    "   + [X] document vector database with academic context about tech credit\n",
    "4. [ ] Load more standard example codes for tech credit (~20 more examples)\n",
    "5. [ ] Load more documents (academic contexts) for technical credit (3~5 related academic paper)\n",
    "6. [X] Allow user to ask about a repository, instead of small snippets of codes\n",
    "   * [X] load, chunk, split, embed and vectorize a repo\n",
    "   * [X] similarity search and filter user code by similarity score compared with example code\n",
    "   * [ ] batch process to LLM\n",
    "   * [ ] organize response and answers\n",
    "7. [ ] validate the results\n",
    "   * [ ] Test our trained data in TC-Examples\n",
    "   * [ ] use different embedding and LLM to test five example repos\n",
    "   * Gemini, \n",
    "   * claude-3.5-haiku,\n",
    "8. Jun 6:\n",
    "   1. [ ] choose five test repos\n",
    "   2. [ ] two more LLM and one more embeddings models\n",
    "   3. [ ] expected output:\n",
    "      1. [ ] human expert\n",
    "      2. [ ] LLM as judge"
   ]
  }
 ],
 "metadata": {
  "kernelspec": {
   "display_name": ".conda",
   "language": "python",
   "name": "python3"
  },
  "language_info": {
   "codemirror_mode": {
    "name": "ipython",
    "version": 3
   },
   "file_extension": ".py",
   "mimetype": "text/x-python",
   "name": "python",
   "nbconvert_exporter": "python",
   "pygments_lexer": "ipython3",
   "version": "3.12.11"
  }
 },
 "nbformat": 4,
 "nbformat_minor": 5
}
