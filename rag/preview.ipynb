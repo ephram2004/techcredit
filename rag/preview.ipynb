{
 "cells": [
  {
   "cell_type": "markdown",
   "id": "b1ec0f76-970a-47cd-aa1e-0a2e1a6ad92f",
   "metadata": {},
   "source": [
    "# Preview from LangChain\n",
    "\n",
    "## Step by step code\n",
    "\n",
    "1. get LangSmith API Key from environment\n",
    "2. set up anthropic key for chat model\n",
    "3. set up embedding model for embeddings\n",
    "4. select vector database\n",
    "5. set up document loader and split up\n",
    "\n",
    "## Set up API keys\n"
   ]
  },
  {
   "cell_type": "markdown",
   "id": "dd8825c3-e6e4-4541-aa62-fc862ba42bc6",
   "metadata": {},
   "source": [
    "## Tutorials\n",
    "\n",
    "LangChain RAG tutorial document\n",
    "Part 1\n",
    "https://python.langchain.com/docs/tutorials/rag\n",
    "\n",
    "Part 2\n",
    "extends the implementation to accommodate conversation-style interactions and\n",
    "multi-step retrieval processes.\n",
    "https://python.langchain.com/docs/tutorials/qa_chat_history/\n",
    "\n",
    "LangChain document loader for GitHub Repo\n",
    "https://python.langchain.com/docs/integrations/document_loaders/github/\n",
    "\n",
    "LangChain document loader for Git Repository\n",
    "https://python.langchain.com/docs/integrations/document_loaders/git/\n",
    "\n",
    "LangChain document loader for Source Code (e.g. Python)\n",
    "https://python.langchain.com/docs/integrations/document_loaders/source_code/\n",
    "\n",
    "LangSmith evaluation for a chatbot\n",
    "https://docs.smith.langchain.com/evaluation/tutorials/evaluation\n",
    "\n",
    "LangSmith evaluation for a rag\n",
    "https://docs.smith.langchain.com/evaluation/tutorials/rag\n"
   ]
  },
  {
   "cell_type": "markdown",
   "id": "f00262b7-72d9-4472-bdcb-f1a85e3321eb",
   "metadata": {},
   "source": [
    "- [x] set up LangSmith key\n"
   ]
  },
  {
   "cell_type": "code",
   "execution_count": 2,
   "id": "f79f4383-61f6-41d8-9536-0873e426f630",
   "metadata": {},
   "outputs": [],
   "source": [
    "import getpass\n",
    "import os\n",
    "%reload_ext dotenv\n",
    "%dotenv\n",
    "os.environ[\"LANGSMITH_TRACING\"] = \"true\"\n",
    "os.environ[\"LANGSMITH_API_KEY\"] = os.getenv(\"LANGSMITH_API_KEY\")\n"
   ]
  },
  {
   "cell_type": "markdown",
   "id": "36908430-f05f-4d6f-ae67-cafb09ed39db",
   "metadata": {},
   "source": [
    "- [x] set up Anthropic key\n"
   ]
  },
  {
   "cell_type": "code",
   "execution_count": 3,
   "id": "ac315b7b-3b72-4f20-a641-9b2b498a7100",
   "metadata": {},
   "outputs": [],
   "source": [
    "if not os.environ.get(\"ANTHROPIC_API_KEY\"):\n",
    "    os.environ[\"ANTHROPIC_API_KEY\"] = os.getenv(\"ANTHROPIC_API_KEY\")\n",
    "\n",
    "from langchain.chat_models import init_chat_model\n",
    "\n",
    "llm = init_chat_model(\n",
    "    \"claude-3-5-haiku-latest\", model_provider=\"anthropic\", temperature=0\n",
    ")"
   ]
  },
  {
   "cell_type": "markdown",
   "id": "7032cc2a-ae18-40bf-86aa-08270b25fc32",
   "metadata": {},
   "source": [
    "- [x] set up Google gemini as embedding model\n"
   ]
  },
  {
   "cell_type": "code",
   "execution_count": 4,
   "id": "278e39ad-8e1c-44eb-9502-0e7a84d36964",
   "metadata": {},
   "outputs": [],
   "source": [
    "if not os.environ.get(\"GOOGLE_API_KEY\"):\n",
    "    os.environ[\"GOOGLE_API_KEY\"] = os.getenv(\"GOOGLE_API_KEY\")\n",
    "\n",
    "from langchain_google_genai import GoogleGenerativeAIEmbeddings\n",
    "\n",
    "embeddings = GoogleGenerativeAIEmbeddings(model=\"models/text-embedding-004\")"
   ]
  },
  {
   "cell_type": "markdown",
   "id": "fad7a684-56c6-40e1-8a64-b86089a6e12c",
   "metadata": {},
   "source": [
    "- [x] set up vector database\n",
    "\n",
    "# Choosing database\n",
    "\n",
    "Load, chunk, split, embed and vectorize code data and document data into database\n",
    "\n",
    "## Candidates\n",
    "\n",
    "1. cassandra\n",
    "2. open search https://opensearch.org/platform/os-search/vector-database/\n",
    "3. Pinecone\n",
    "4. MongoDB\n",
    "5. PostgreSQL\n",
    "6. [x] Chroma, locally hosted with sqlite\n"
   ]
  },
  {
   "cell_type": "code",
   "execution_count": 5,
   "id": "5954c2e3-3c86-41f1-9ce2-d76e5fb88ec5",
   "metadata": {},
   "outputs": [],
   "source": [
    "from langchain_chroma import Chroma\n",
    "\n",
    "# huggingface_store = Chroma(\n",
    "#    collection_name=\"hf_python_tech_credit\",\n",
    "#    embedding_function=embeddings,\n",
    "#    persist_directory=\"./chroma_langchain_db\",\n",
    "# )\n",
    "\n",
    "vector_store = Chroma(\n",
    "    collection_name=\"java_tech_credit\",\n",
    "    embedding_function=embeddings,\n",
    "    persist_directory=\"./chroma_langchain_db\",  # Where to save data locally, remove if not necessary\n",
    ")\n",
    "\n",
    "document_store = Chroma(\n",
    "    collection_name=\"document_tech_credit\",\n",
    "    embedding_function=embeddings,\n",
    "    persist_directory=\"./chroma_langchain_db\",\n",
    ")"
   ]
  },
  {
   "cell_type": "markdown",
   "id": "2ebf0591-3020-489b-9563-00a12e3a20bb",
   "metadata": {},
   "source": [
    "- [ ] Import and load a GitHub Repo as a document\n"
   ]
  },
  {
   "cell_type": "code",
   "execution_count": 6,
   "id": "f8ee1cb4-7571-4e12-a190-58e53b4d6be5",
   "metadata": {},
   "outputs": [],
   "source": [
    "from langchain_community.document_loaders import GithubFileLoader\n",
    "from langchain_community.document_loaders import JSONLoader\n",
    "from langchain_core.documents import Document\n",
    "from langgraph.graph import START, StateGraph\n",
    "\n",
    "# from code_splitter import Language, TiktokenSplitter\n",
    "\n",
    "if not os.environ.get(\"GITHUB_PERSONAL_ACCESS_TOKEN\"):\n",
    "    os.environ[\"GITHUB_PERSONAL_ACCESS_TOKEN\"] = os.getenv(\n",
    "        \"GITHUB_PERSONAL_ACCESS_TOKEN\"\n",
    "    )\n",
    "\n",
    "# Load and chunk contents of the github repo\n",
    "loader = GithubFileLoader(\n",
    "    repo=\"alexsun2/TC-Examples\",  # the repo name\n",
    "    branch=\"main\",  # the branch name\n",
    "    # access_token=ACCESS_TOKEN, # delete/comment out this argument if you've set the access token as an env var.\n",
    "    github_api_url=\"https://api.github.com\",\n",
    "    # parser=LanguageParser(language=Language.JAVA, parser_threshold=200),\n",
    "    file_filter=lambda file_path: file_path.endswith(\".java\"),  # load all java files.\n",
    ")\n",
    "documents = loader.load()"
   ]
  },
  {
   "cell_type": "markdown",
   "id": "53f4df20-f761-4288-b10a-574e3a2a21f4",
   "metadata": {},
   "source": [
    "- [ ] test documents content\n"
   ]
  },
  {
   "cell_type": "code",
   "execution_count": 7,
   "id": "23ad2951-9597-42c1-b399-1f7caa8e9949",
   "metadata": {},
   "outputs": [
    {
     "name": "stdout",
     "output_type": "stream",
     "text": [
      "{'path': 'Adapter/PlugExample/EUPlug.java', 'sha': 'c2dee94bb95c4ea8e8c6ede84c8942a68098e0ce', 'source': 'https://api.github.com/alexsun2/TC-Examples/blob/main/Adapter/PlugExample/EUPlug.java'}\n"
     ]
    }
   ],
   "source": [
    "print(documents[7].metadata)"
   ]
  },
  {
   "cell_type": "markdown",
   "id": "20eb1b2a-4c2a-49f7-beae-e5200e0eee85",
   "metadata": {},
   "source": [
    "- [ ] map metadata\n"
   ]
  },
  {
   "cell_type": "code",
   "execution_count": 8,
   "id": "c0d2c29e-4580-4232-b678-8db2d4028644",
   "metadata": {},
   "outputs": [],
   "source": [
    "import json\n",
    "\n",
    "# Step 1: Load the JSON metadata from a file (adjust path accordingly)\n",
    "with open(\"./repo_metadata.json\", \"r\", encoding=\"utf-8\") as f:\n",
    "    json_metadata_list = json.load(f)\n",
    "\n",
    "# The sample JSON will be like a list of dicts, for example:\n",
    "# [\n",
    "#   {\"path\": \"src/pybreaker.py\", \"type\": \"source\", \"tech-credit\": \"Circuit Breaker\", \"tech_credit_description\": \"good design\"},\n",
    "#   {\"path\": \"test/unitest_pybreaker.py\", \"type\": \"test\", \"tech-credit\": \"Circuit Breaker\", \"tech_credit_description\": \"good design\"}\n",
    "# ]\n",
    "\n",
    "# Step 2: Create a dictionary mapping from path to metadata (excluding 'path' key)\n",
    "metadata_map = {\n",
    "    entry[\"path\"]: {k: v for k, v in entry.items() if k != \"path\"}\n",
    "    for entry in json_metadata_list\n",
    "}"
   ]
  },
  {
   "cell_type": "markdown",
   "id": "95abeffb-07c5-4036-95ef-320590c19b61",
   "metadata": {},
   "source": [
    "- [x] use code splitter\n"
   ]
  },
  {
   "cell_type": "code",
   "execution_count": 9,
   "id": "0a26421b-1478-4354-a169-62389fdd8d60",
   "metadata": {},
   "outputs": [],
   "source": [
    "from langchain_text_splitters import Language, RecursiveCharacterTextSplitter\n",
    "\n",
    "# from code_splitter import Language, TiktokenSplitter\n",
    "# use code-splitter\n",
    "# https://pypi.org/project/code-splitter/\n",
    "# python_splitter = TiktokenSplitter(Language.Python, max_size=200)\n",
    "java_splitter = RecursiveCharacterTextSplitter.from_language(\n",
    "    language=Language.JAVA, chunk_size=200\n",
    ").from_tiktoken_encoder()\n",
    "\n",
    "all_splits = [\n",
    "    Document(\n",
    "        page_content=(\n",
    "            # \"# ===== code structure =====\\n\"\n",
    "            # + \"\\n\".join(f\"# {line}\" for line in splits.subtree.splitlines())\n",
    "            # + \"\\n\\n\"\n",
    "            splits\n",
    "        ),\n",
    "        metadata=metadata_map.get(doc.metadata.get(\"path\"), {}),\n",
    "    )\n",
    "    for doc in documents\n",
    "    for splits in java_splitter.split_text(doc.page_content)\n",
    "]"
   ]
  },
  {
   "cell_type": "markdown",
   "id": "280decb5-9f05-4303-9964-b10df988ab5c",
   "metadata": {},
   "source": [
    "- [ ] print page_content and metadata for a split\n"
   ]
  },
  {
   "cell_type": "code",
   "execution_count": 10,
   "id": "7f9958ae-a050-4d27-b065-c6d9c63ec640",
   "metadata": {
    "scrolled": true
   },
   "outputs": [
    {
     "name": "stdout",
     "output_type": "stream",
     "text": [
      "package Decorator.JavaExample1;\n",
      "\n",
      "/**\n",
      " * The Service interface defines the method that concrete services will\n",
      " * implement.\n",
      " */\n",
      "public interface Service {\n",
      "    /**\n",
      "     * Execute the service's operation.\n",
      "     */\n",
      "    void execute();\n",
      "}\n",
      "{}\n"
     ]
    }
   ],
   "source": [
    "print(all_splits[20].page_content)\n",
    "print(all_splits[20].metadata)"
   ]
  },
  {
   "cell_type": "markdown",
   "id": "996ffe88-73d0-4bc0-9b33-299d1139db49",
   "metadata": {},
   "source": [
    "- [ ] load, split and embed documents into vector database\n"
   ]
  },
  {
   "cell_type": "markdown",
   "id": "77bfc96a-85ce-4a0b-9da0-4b7d00c46e23",
   "metadata": {},
   "source": [
    "- [x] index chunks for code vector db, DO NOT LOAD TWICE!\n"
   ]
  },
  {
   "cell_type": "code",
   "execution_count": 11,
   "id": "57fa4981-55e9-40d1-9df3-b1891d549073",
   "metadata": {},
   "outputs": [],
   "source": [
    "# Index chunks\n",
    "code_embed_index = vector_store.add_documents(documents=all_splits)"
   ]
  },
  {
   "cell_type": "markdown",
   "id": "47f39c77-6a6d-4979-a565-3bdc65236170",
   "metadata": {},
   "source": [
    "- [ ] load, chunk, split and embed documents about technical credit\n"
   ]
  },
  {
   "cell_type": "code",
   "execution_count": 12,
   "id": "b926570a-74c5-4b24-8b75-a830ab290d9f",
   "metadata": {},
   "outputs": [
    {
     "name": "stderr",
     "output_type": "stream",
     "text": [
      "USER_AGENT environment variable not set, consider setting it to identify your requests.\n"
     ]
    }
   ],
   "source": [
    "import bs4\n",
    "from langchain_community.document_loaders import WebBaseLoader\n",
    "from langchain_text_splitters import RecursiveCharacterTextSplitter\n",
    "\n",
    "# Load and chunk contents of the blog\n",
    "bs4_strainer = bs4.SoupStrainer(\n",
    "    class_=(\n",
    "        \"article-header__section\",\n",
    "        \"article-header__topic-and-issue-section\",\n",
    "        \"article-header article-header__title\",\n",
    "        \"article-header__subtitle\",\n",
    "        \"article-header__meta\",\n",
    "        \"article-table-of-contents\",\n",
    "        \"article-contents\",\n",
    "        \"article-footer\",\n",
    "    )\n",
    ")\n",
    "\n",
    "doc_loader = WebBaseLoader(\n",
    "    web_paths=(\"https://cacm.acm.org/opinion/technical-credit/\",),\n",
    "    bs_kwargs=dict(parse_only=bs4_strainer),\n",
    ")\n",
    "\n",
    "text_documents = doc_loader.load()\n",
    "# recurisive splitter , 7 , all splits"
   ]
  },
  {
   "cell_type": "markdown",
   "id": "57093c26-c49c-454b-964d-985d99c027e1",
   "metadata": {},
   "source": [
    "- [x] test the web page document\n"
   ]
  },
  {
   "cell_type": "code",
   "execution_count": 13,
   "id": "775b323a-607b-478c-aeec-ca538dd21511",
   "metadata": {},
   "outputs": [
    {
     "name": "stdout",
     "output_type": "stream",
     "text": [
      "Total characters: 14484\n",
      "Opinion\n",
      "\n",
      "Computing Profession \n",
      "\n",
      "\n",
      "Balancing initial investment and long-term results in the software development process.\n",
      "\n",
      "\n",
      "\t\t\t\tBy Ian Gorton, Alessio Bucaioni, and Patrizio Pelliccione \n",
      "\n",
      "Posted Dec 26 2024 \n",
      "\n",
      "\n",
      "\n",
      "What Is Technical Credit?\n",
      "Technical Credit in Practice\n",
      "A Research Agenda for Technical Credit\n",
      "Conclusion\n",
      "References\n",
      "Footnotes\n",
      "\n",
      "\n",
      "\n",
      "\n",
      "Technical debt (TD) is an established concept in software engineering encompassing an unavoidable side effect of software development.3 It arises due to tight s\n"
     ]
    }
   ],
   "source": [
    "assert len(text_documents) == 1\n",
    "print(f\"Total characters: {len(text_documents[0].page_content)}\")\n",
    "print(text_documents[0].page_content[:500])"
   ]
  },
  {
   "cell_type": "markdown",
   "id": "4a2dcd6c-3469-4211-95bd-eadd65f86743",
   "metadata": {},
   "source": [
    "- [ ] split the document\n"
   ]
  },
  {
   "cell_type": "code",
   "execution_count": 14,
   "id": "1963b0b9-1ac0-44d4-8c7e-8246eb5e3979",
   "metadata": {},
   "outputs": [
    {
     "name": "stdout",
     "output_type": "stream",
     "text": [
      "Split article into 20 sub-documents.\n"
     ]
    }
   ],
   "source": [
    "text_splitter = RecursiveCharacterTextSplitter(\n",
    "    chunk_size=1000,  # chunk size (characters)\n",
    "    chunk_overlap=200,  # chunk overlap (characters)\n",
    "    add_start_index=True,  # track index in original document\n",
    ")\n",
    "text_splits = text_splitter.split_documents(text_documents)\n",
    "\n",
    "print(f\"Split article into {len(text_splits)} sub-documents.\")"
   ]
  },
  {
   "cell_type": "markdown",
   "id": "8341841c-23d3-40c8-83d0-b2187ac2c44a",
   "metadata": {},
   "source": [
    "- [x] embed the documents into vector database, DO NOT LOAD TWICE!\n"
   ]
  },
  {
   "cell_type": "code",
   "execution_count": 15,
   "id": "afd11df3-bfa5-418d-bd78-60ad0497b7b9",
   "metadata": {},
   "outputs": [],
   "source": [
    "document_ids = document_store.add_documents(documents=text_splits)"
   ]
  },
  {
   "cell_type": "markdown",
   "id": "a6178740-773d-432d-a533-45e2a4a21b4e",
   "metadata": {},
   "source": [
    "# RAG System Part\n",
    "\n",
    "## Customize Prompt\n",
    "\n",
    "## Define nodes and graphs in the rag system\n",
    "\n",
    "1. [x] retrieve code and metadata\n",
    "2. [x] retrieve academic documents\n",
    "3. [x] send message to LLM\n"
   ]
  },
  {
   "cell_type": "markdown",
   "id": "e93143ad-64df-4240-882f-e0b1d1d9b171",
   "metadata": {},
   "source": [
    "- [ ] design prompt template.\n"
   ]
  },
  {
   "cell_type": "code",
   "execution_count": 16,
   "id": "e5bf3a43-d68d-4415-bb28-c321c42870b1",
   "metadata": {},
   "outputs": [],
   "source": [
    "# Define prompt for question-answering\n",
    "# N.B. for non-US LangSmith endpoints, you may need to specify\n",
    "# api_url=\"https://api.smith.langchain.com\" in hub.pull.\n",
    "from langchain_core.prompts import ChatPromptTemplate\n",
    "from jinja2 import Environment, BaseLoader\n",
    "import textwrap\n",
    "\n",
    "jinja2_prompt = \"\"\"\\\n",
    "{% for part in parts %}\n",
    "Here is the No. {{ part.ordinal }} part of a tech credit\n",
    "Descirption:\n",
    "{{ part.tech_credit }}\n",
    "\n",
    "Example code for that tech credit:\n",
    "{{ part.context_code }}\n",
    "\n",
    "Here is the code from user:\n",
    "{{ part.user_code }}\n",
    "{% endfor %}\n",
    "\"\"\"\n",
    "\n",
    "user_prompt_template = Environment(loader=BaseLoader).from_string(jinja2_prompt)\n",
    "\n",
    "prompt = ChatPromptTemplate(\n",
    "    [\n",
    "        (\n",
    "            \"system\",\n",
    "            \"You are an assistant for identifying technical credit. Use the following pieces \\\n",
    "                of retrieved context to answer the question. If you don't know the answer, just \\\n",
    "                say that you don't know. Please only use the provided technical credit categories. For each code snippet, use three sentences maximum and \\\n",
    "                keep the answer concise.\",\n",
    "        ),\n",
    "        (\n",
    "            \"user\",\n",
    "            textwrap.dedent(\n",
    "                \"\"\"\\\n",
    "                The list of technical credit categories you must follow:\n",
    "                {tech_credit_list}\n",
    "                \n",
    "                Some documentation about tech credit:\n",
    "                {context_doc}\n",
    "\n",
    "                The following are snippets of codes that are most similar to example codes of \n",
    "                tech credits.\n",
    "                {rendered}\n",
    "                \n",
    "                Question: {question}\n",
    "                Answer:\n",
    "                \"\"\"\n",
    "            ),\n",
    "        ),\n",
    "    ]\n",
    ")"
   ]
  },
  {
   "cell_type": "markdown",
   "id": "105bf4cf-a257-4323-99b7-45d4fd92d73b",
   "metadata": {},
   "source": [
    "- [ ] collect metadata from code\n"
   ]
  },
  {
   "cell_type": "code",
   "execution_count": 17,
   "id": "ba89a7a6-3c3f-4969-bdff-5cc6627d330a",
   "metadata": {},
   "outputs": [],
   "source": [
    "def collect_unique_pairs(documents):\n",
    "    \"\"\"\n",
    "    Collect unique concatenated 'tech_credit: description' strings from document metadata.\n",
    "\n",
    "    Args:\n",
    "        documents (list[dict]): A list of Document objects, each with a 'metadata' field.\n",
    "\n",
    "    Returns:\n",
    "        list[str]: A list of unique 'tech_credit: description' strings.\n",
    "    \"\"\"\n",
    "    seen = set()\n",
    "\n",
    "    for doc in documents:\n",
    "        metadata = doc.metadata\n",
    "        credit = metadata.get(\"tech_credit\")\n",
    "        description = metadata.get(\"tech_credit_description\")\n",
    "        if credit and description:\n",
    "            combined = f\"{credit}: {description}\"\n",
    "            seen.add(combined)\n",
    "\n",
    "    return list(seen)"
   ]
  },
  {
   "cell_type": "code",
   "execution_count": 18,
   "id": "67ceec1c-ca5f-481d-a56c-50a0a00c9341",
   "metadata": {},
   "outputs": [],
   "source": [
    "from urllib.parse import urlparse\n",
    "from typing import List\n",
    "\n",
    "\n",
    "def load_repo(url: str, branch: str, folder: str = \"\") -> List[Document]:\n",
    "    \"\"\"\n",
    "    Loads all Python files from a GitHub repository using the repository URL.\n",
    "\n",
    "    Args:\n",
    "        url (str): The full URL of the GitHub repository (e.g., \"https://github.com/org/project\").\n",
    "\n",
    "    Returns:\n",
    "        List[Document]: A list of loaded document objects (the format depends on GithubFileLoader).\n",
    "\n",
    "    Raises:\n",
    "        ValueError: If the URL is not a valid GitHub repo URL.\n",
    "    \"\"\"\n",
    "    parsed = urlparse(url)\n",
    "    if parsed.netloc != \"github.com\":\n",
    "        raise ValueError(f\"URL is not a github.com repo: {url}\")\n",
    "\n",
    "    # The path is like '/org/project' or '/org/project/'\n",
    "    path_parts = parsed.path.strip(\"/\").split(\"/\")\n",
    "    if len(path_parts) < 2:\n",
    "        raise ValueError(f\"Invalid GitHub repository URL: {url}\")\n",
    "    repo_name = \"/\".join(path_parts[:2])  # Only org/project, ignore any deeper paths\n",
    "\n",
    "    loader = GithubFileLoader(\n",
    "        repo=repo_name,\n",
    "        branch=branch,\n",
    "        repo_path = folder,\n",
    "        # access_token=ACCESS_TOKEN,\n",
    "        github_api_url=\"https://api.github.com\",\n",
    "        file_filter=lambda file_path: not file_path.startswith(\"tests/\")\n",
    "        and file_path.endswith(\".java\") and file_path.startswith(folder),\n",
    "    )\n",
    "    documents = loader.load()\n",
    "    return documents\n",
    "\n",
    "\n",
    "def split_documents(documents: List[Document]) -> List[str]:\n",
    "    \"\"\"\n",
    "    Splits Python code documents into code snippets and prepends the code structure as a comment header.\n",
    "\n",
    "    Args:\n",
    "        documents (List[Document]): List of Document objects containing Python code.\n",
    "\n",
    "    Returns:\n",
    "        List[Document]: List of new strings, each with a code structure comment followed by the code snippet.\n",
    "    \"\"\"\n",
    "\n",
    "    all_splits = []\n",
    "    for doc in documents:\n",
    "        splits = java_splitter.split_text(doc.page_content)\n",
    "        for snippet in splits:\n",
    "            # delete the header for now, only splitting the literal source code\n",
    "            # header = (\n",
    "            #    \"# ===== code structure =====\\n\" +\n",
    "            #    \"\\n\".join(f\"# {line}\" for line in snippet.subtree.splitlines()) +\n",
    "            #    \"\\n\\n\"\n",
    "            # )\n",
    "            all_splits.append(snippet)\n",
    "    return all_splits"
   ]
  },
  {
   "cell_type": "code",
   "execution_count": 19,
   "id": "0e7fbf07-ec97-4bea-afe6-ba708826ba10",
   "metadata": {},
   "outputs": [],
   "source": [
    "import heapq\n",
    "from typing import Callable\n",
    "from statistics import mean, median  # for later usage of different similarity score\n",
    "\n",
    "\n",
    "def default_min_score_fn(results: list[tuple[Document, float]]) -> float:\n",
    "    \"\"\"Default scoring function: returns the minimum score.\"\"\"\n",
    "    return min(score for _, score in results)\n",
    "\n",
    "\n",
    "def top_k_similar_queries(\n",
    "    queries: list[str],\n",
    "    vectorstore,\n",
    "    k: int = 3,\n",
    "    scoring_fn: Callable[[list[tuple[Document, float]]], float] = default_min_score_fn,\n",
    "    top_docs_per_query: int = 4,\n",
    ") -> list[tuple[str, list[Document], float]]:\n",
    "    \"\"\"\n",
    "    Executes similarity_search_with_score for each query and returns top-k queries\n",
    "    sorted by a user-defined scoring function.\n",
    "\n",
    "    Args:\n",
    "        queries: List of query strings.\n",
    "        vectorstore: A LangChain-compatible vector store.\n",
    "        k: Number of top results to return.\n",
    "        scoring_fn: Function that maps a list of (Document, score) to a float score.\n",
    "        top_docs_per_query: Number of documents to retrieve for each query.\n",
    "\n",
    "    Returns:\n",
    "        A list of (query, documents, aggregated_score) sorted by aggregated_score descending.\n",
    "    \"\"\"\n",
    "    heap = []\n",
    "\n",
    "    for query in queries:\n",
    "        results = vectorstore.similarity_search_with_score(query, k=top_docs_per_query)\n",
    "        if not results:\n",
    "            continue\n",
    "        \n",
    "        agg_score = scoring_fn(results)\n",
    "\n",
    "        # if agg_score < 0.65:\n",
    "        #    continue\n",
    "\n",
    "        docs = [doc for doc, _ in results]\n",
    "\n",
    "        # Use negative score to simulate a max-heap\n",
    "        heapq.heappush(heap, (-agg_score, query, docs))\n",
    "        if len(heap) > k:\n",
    "            heapq.heappop(heap)\n",
    "\n",
    "    # Return sorted results: highest score first\n",
    "    top_k = sorted([(-score, query, docs) for score, query, docs in heap], reverse=True)\n",
    "    return [(query, docs, score) for score, query, docs in top_k]"
   ]
  },
  {
   "cell_type": "code",
   "execution_count": null,
   "id": "ad89e54e-0483-47d8-bda7-45e4ecec352e",
   "metadata": {},
   "outputs": [],
   "source": [
    "from typing_extensions import List, TypedDict\n",
    "\n",
    "\n",
    "# Define state for application\n",
    "class State(TypedDict):\n",
    "    question: str\n",
    "    context_doc: List[Document]\n",
    "    # a part that contains example codes, user code, tech credit and index order\n",
    "    parts: list[dict]\n",
    "    url: str  # user code\n",
    "    branch: str\n",
    "    folder: str\n",
    "    answer: str\n",
    "\n",
    "\n",
    "# Define application steps\n",
    "def retrieve(state: State):\n",
    "    repo_splits = split_documents(load_repo(state[\"url\"], state[\"branch\"], state.get(\"folder\")))\n",
    "    retrieved_docs = top_k_similar_queries(repo_splits, vector_store)\n",
    "    parts = [\n",
    "        {\n",
    "            \"ordinal\": i + 1,\n",
    "            \"tech_credit\": \"\\n\".join(collect_unique_pairs(context_code)),\n",
    "            \"user_code\": user_code,\n",
    "            \"context_code\": \"\\n\\n\".join(doc.page_content for doc in context_code),\n",
    "        }\n",
    "        for i, (user_code, context_code, _) in enumerate(retrieved_docs)\n",
    "    ]\n",
    "    return {\"parts\": parts}\n",
    "\n",
    "\n",
    "def retrieve_doc(state: State):\n",
    "    retrieved_doc = document_store.similarity_search(state[\"question\"])\n",
    "    return {\"context_doc\": retrieved_doc}\n",
    "\n",
    "\n",
    "def load_tech_credit_categories() -> list[str]:\n",
    "    # Define the loader for the JSON file in the GitHub repo\n",
    "    loader = GithubFileLoader(\n",
    "        repo=\"alexsun2/TC-Examples\",  # The repo name\n",
    "        branch=\"main\",  # The branch name\n",
    "        github_api_url=\"https://api.github.com\",\n",
    "        file_filter=lambda file_path: file_path.endswith(\"tech_credit_patterns.json\"),\n",
    "    )\n",
    "\n",
    "    # Load the JSON document from the repo\n",
    "    documents = loader.load()\n",
    "\n",
    "    # Assuming the content is in the first document (if it's only one file)\n",
    "    tech_credit_patterns_json = json.loads(documents[0].page_content)\n",
    "\n",
    "    # Extract pattern names\n",
    "    pattern_names = [entry[\"pattern_name\"] for entry in tech_credit_patterns_json]\n",
    "\n",
    "    return pattern_names\n",
    "\n",
    "\n",
    "def generate(state: State):\n",
    "    doc_content = \"\\n\\n\".join(doc.page_content for doc in state[\"context_doc\"])\n",
    "    user_prompt = user_prompt_template.render(parts=state[\"parts\"])\n",
    "    java_splitter = RecursiveCharacterTextSplitter(\n",
    "        Language.JAVA, chunk_size=200\n",
    "    ).from_tiktoken_encoder()\n",
    "    tech_credit_categories = load_tech_credit_categories()\n",
    "\n",
    "    messages = prompt.invoke(\n",
    "        {\n",
    "            \"question\": state[\"question\"],\n",
    "            \"rendered\": user_prompt,\n",
    "            \"context_doc\": doc_content,\n",
    "            \"tech_credit_list\": tech_credit_categories,\n",
    "        }\n",
    "    )\n",
    "\n",
    "    print(messages)\n",
    "\n",
    "    with open(\"context_doc_content.txt\", \"w\", encoding=\"utf-8\") as f:\n",
    "        f.write(messages.to_string())\n",
    "\n",
    "    response = llm.invoke(messages)\n",
    "    return {\"answer\": response.content}\n",
    "\n",
    "\n",
    "# Compile application and test\n",
    "graph_builder = StateGraph(State).add_sequence([retrieve, generate])\n",
    "graph_builder.add_node(retrieve_doc)\n",
    "graph_builder.add_edge(START, \"retrieve\")\n",
    "graph_builder.add_edge(START, \"retrieve_doc\")\n",
    "graph = graph_builder.compile()"
   ]
  },
  {
   "cell_type": "markdown",
   "id": "f2c890ef-9f4b-4f62-929b-64bc5b33b4c4",
   "metadata": {},
   "source": [
    "# Ask Question Part\n",
    "\n",
    "## Circuit Breaker\n",
    "\n",
    "## MVC model\n",
    "\n",
    "## Iterator pattern\n"
   ]
  },
  {
   "cell_type": "markdown",
   "id": "8bb72313-9804-4db0-a3fe-ccd2841f9c6a",
   "metadata": {},
   "source": [
    "- [ ] Ask questions and test RAG\n"
   ]
  },
  {
   "cell_type": "code",
   "execution_count": 24,
   "id": "e17b8816-0600-47bb-8371-d010eaba2ef0",
   "metadata": {},
   "outputs": [
    {
     "name": "stdout",
     "output_type": "stream",
     "text": [
      "messages=[SystemMessage(content=\"You are an assistant for identifying technical credit. Use the following pieces                 of retrieved context to answer the question. If you don't know the answer, just                 say that you don't know. Please only use the provided technical credit categories. For each code snippet, use three sentences maximum and                 keep the answer concise.\", additional_kwargs={}, response_metadata={}), HumanMessage(content='The list of technical credit categories you must follow:\\n[\\'Circuit Breaker\\', \\'Strategy Pattern\\', \\'Adapter Pattern\\', \\'Model View Controller\\', \\'Visitor Pattern\\', \\'Decorator Pattern\\', \\'Iterator\\', \\'Platform Abstraction Layers\\', \\'Proxy\\', \\'Chain of responsibility\\', \\'Template method\\', \\'Front controller\\', \\'Command\\', \\'Interpreter\\', \\'Mediator\\', \\'Memento\\', \\'Observer or Publish/subscribe\\', \\'Servant\\', \\'Active Object\\', \\'Event-based asynchronous\\', \\'Messaging design pattern (MDP)\\', \\'Thread pool\\']\\n\\nSome documentation about tech credit:\\nReferences\\t\\t\\n\\n \\n\\n\\n\\nReferences\\n\\n\\n1. Avgeriou, P. et al. Managing technical debt in software engineering (Dagstuhl seminar 16162), In Dagstuhl Reports 6, Schloss Dagstuhl-Leibniz-Zentrum fuer Informatik (2016).\\n\\n\\n2. Berenbach, B. On technical credit. Procedia Computer Science\\xa028 (2014).\\n\\n\\n3. Cunningham, W. The WyCash portfolio management system. In Addendum to the Proceedings on Object-Oriented Programming Systems, Languages, and Applications (Addendum), OOPSLA \\'92. ACM, NY (1992); 10.1145/157709.157715\\n\\n\\n4. Ford, N., Parsons, R., and Kua, P. Building Evolutionary Architectures: Support Constant Change. 1st Edition. O’Reilly Media, Inc. (2017).\\n\\n\\n5. Kruchten, P., Nord, R.L., and Ozkaya, I. Technical debt: From metaphor to theory and practice. IEEE Software\\xa029, 6 (2012).\\n\\n\\n6. Lemaire, M. Refactoring At Scale. O’Reilly Media, Inc. (2020).\\n\\n\\n\\n\\n\\n\\n\\n\\n\\n\\t\\t\\tFootnotes\\n\\nReferences\\t\\t\\n\\n \\n\\n\\n\\nReferences\\n\\n\\n1. Avgeriou, P. et al. Managing technical debt in software engineering (Dagstuhl seminar 16162), In Dagstuhl Reports 6, Schloss Dagstuhl-Leibniz-Zentrum fuer Informatik (2016).\\n\\n\\n2. Berenbach, B. On technical credit. Procedia Computer Science\\xa028 (2014).\\n\\n\\n3. Cunningham, W. The WyCash portfolio management system. In Addendum to the Proceedings on Object-Oriented Programming Systems, Languages, and Applications (Addendum), OOPSLA \\'92. ACM, NY (1992); 10.1145/157709.157715\\n\\n\\n4. Ford, N., Parsons, R., and Kua, P. Building Evolutionary Architectures: Support Constant Change. 1st Edition. O’Reilly Media, Inc. (2017).\\n\\n\\n5. Kruchten, P., Nord, R.L., and Ozkaya, I. Technical debt: From metaphor to theory and practice. IEEE Software\\xa029, 6 (2012).\\n\\n\\n6. Lemaire, M. Refactoring At Scale. O’Reilly Media, Inc. (2020).\\n\\n\\n\\n\\n\\n\\n\\n\\n\\n\\t\\t\\tFootnotes\\n\\nReferences\\t\\t\\n\\n \\n\\n\\n\\nReferences\\n\\n\\n1. Avgeriou, P. et al. Managing technical debt in software engineering (Dagstuhl seminar 16162), In Dagstuhl Reports 6, Schloss Dagstuhl-Leibniz-Zentrum fuer Informatik (2016).\\n\\n\\n2. Berenbach, B. On technical credit. Procedia Computer Science\\xa028 (2014).\\n\\n\\n3. Cunningham, W. The WyCash portfolio management system. In Addendum to the Proceedings on Object-Oriented Programming Systems, Languages, and Applications (Addendum), OOPSLA \\'92. ACM, NY (1992); 10.1145/157709.157715\\n\\n\\n4. Ford, N., Parsons, R., and Kua, P. Building Evolutionary Architectures: Support Constant Change. 1st Edition. O’Reilly Media, Inc. (2017).\\n\\n\\n5. Kruchten, P., Nord, R.L., and Ozkaya, I. Technical debt: From metaphor to theory and practice. IEEE Software\\xa029, 6 (2012).\\n\\n\\n6. Lemaire, M. Refactoring At Scale. O’Reilly Media, Inc. (2020).\\n\\n\\n\\n\\n\\n\\n\\n\\n\\n\\t\\t\\tFootnotes\\n\\nReferences\\t\\t\\n\\n \\n\\n\\n\\nReferences\\n\\n\\n1. Avgeriou, P. et al. Managing technical debt in software engineering (Dagstuhl seminar 16162), In Dagstuhl Reports 6, Schloss Dagstuhl-Leibniz-Zentrum fuer Informatik (2016).\\n\\n\\n2. Berenbach, B. On technical credit. Procedia Computer Science\\xa028 (2014).\\n\\n\\n3. Cunningham, W. The WyCash portfolio management system. In Addendum to the Proceedings on Object-Oriented Programming Systems, Languages, and Applications (Addendum), OOPSLA \\'92. ACM, NY (1992); 10.1145/157709.157715\\n\\n\\n4. Ford, N., Parsons, R., and Kua, P. Building Evolutionary Architectures: Support Constant Change. 1st Edition. O’Reilly Media, Inc. (2017).\\n\\n\\n5. Kruchten, P., Nord, R.L., and Ozkaya, I. Technical debt: From metaphor to theory and practice. IEEE Software\\xa029, 6 (2012).\\n\\n\\n6. Lemaire, M. Refactoring At Scale. O’Reilly Media, Inc. (2020).\\n\\n\\n\\n\\n\\n\\n\\n\\n\\n\\t\\t\\tFootnotes\\n\\nThe following are snippets of codes that are most similar to example codes of \\ntech credits.\\n\\nHere is the No. 1 part of a tech credit\\nDescirption:\\nModel View Controller: Separate application concerns into three interconnected components: Model for business logic and data, View for user interface, and Controller for input handling. MVC promotes modularity, enabling independent development, testing, and reuse of each component.\\n\\nExample code for that tech credit:\\n// TC_TYPE: model_view_controller\\n\\npackage MVC;\\n\\nimport java.util.ArrayList;\\nimport java.util.List;\\n\\n/**\\n * Model class that manages the list of tasks\\n */\\npublic class TaskModel {\\n    private List<String> tasks;\\n\\n    public TaskModel() {\\n        tasks = new ArrayList<>();\\n    }\\n\\n    public void addTask(String task) {\\n        tasks.add(task);\\n    }\\n\\n    public List<String> getTasks() {\\n        return tasks;\\n    }\\n}\\n\\n// TC_TYPE: model_view_controller\\n\\npackage MVC;\\n\\nimport java.util.ArrayList;\\nimport java.util.List;\\n\\n/**\\n * Model class that manages the list of tasks\\n */\\npublic class TaskModel {\\n    private List<String> tasks;\\n\\n    public TaskModel() {\\n        tasks = new ArrayList<>();\\n    }\\n\\n    public void addTask(String task) {\\n        tasks.add(task);\\n    }\\n\\n    public List<String> getTasks() {\\n        return tasks;\\n    }\\n}\\n\\n// TC_TYPE: model_view_controller\\n\\npackage MVC;\\n\\nimport java.util.ArrayList;\\nimport java.util.List;\\n\\n/**\\n * Model class that manages the list of tasks\\n */\\npublic class TaskModel {\\n    private List<String> tasks;\\n\\n    public TaskModel() {\\n        tasks = new ArrayList<>();\\n    }\\n\\n    public void addTask(String task) {\\n        tasks.add(task);\\n    }\\n\\n    public List<String> getTasks() {\\n        return tasks;\\n    }\\n}\\n\\n// TC_TYPE: model_view_controller\\n\\npackage MVC;\\n\\nimport java.util.ArrayList;\\nimport java.util.List;\\n\\n/**\\n * Model class that manages the list of tasks\\n */\\npublic class TaskModel {\\n    private List<String> tasks;\\n\\n    public TaskModel() {\\n        tasks = new ArrayList<>();\\n    }\\n\\n    public void addTask(String task) {\\n        tasks.add(task);\\n    }\\n\\n    public List<String> getTasks() {\\n        return tasks;\\n    }\\n}\\n\\nHere is the code from user:\\nimport java.util.ArrayList;\\nimport java.util.List;\\n\\n/**\\n * PillCounterMonitor is a decorator class that extends AbstractPillCounterDecorator. It is used to\\n * monitor the number of pills added to the pill counter and store the number of pills added in a\\n * list.\\n */\\npublic class PillCounterMonitor extends SimplePillCounterDecorator {\\n  private final List<Integer> listPillCounts;\\n  private int numPills;\\n\\n  /**\\n   * Creates an instance of a PillCounterMonitor with a given PillCounter object.\\n   *\\n   * @param pillCounter the pill counter to be decorated\\n   */\\n  public PillCounterMonitor(PillCounter pillCounter) {\\n    super(pillCounter);\\n    this.listPillCounts = new ArrayList<>();\\n    this.numPills = 0;\\n  }\\n\\n  @Override\\n  public void addPill(int count) {\\n    super.addPill(count);\\n    this.numPills += count;\\n  }\\n\\n  @Override\\n  public void reset() {\\n    this.listPillCounts.add(this.numPills);\\n    super.reset();\\n  }\\n\\n  /**\\n   * Returns a list of the number of pills added to the pill counter,\\n   * which adds a new count each time the reset method is called.\\n   * Used to print out the list of pill counts after the reset method is called.\\n   *\\n   * @return a list of the number of pills added to the pill counter\\n   */\\n  public List<Integer> getPillCountList() {\\n    return new ArrayList<>(this.listPillCounts);\\n  }\\n}\\n\\nHere is the No. 2 part of a tech credit\\nDescirption:\\n\\n\\nExample code for that tech credit:\\npackage Decorator.JavaExample1;\\n\\n/**\\n * LoggingDecorator is a decorator that logs the execution time of the wrapped\\n * Service.\\n * It adds additional functionality to the execute method without modifying the\\n * BaseService.\\n */\\npublic class LoggingDecorator implements Service {\\n    private final Service wrappedService;\\n\\n    /**\\n     * Constructs a LoggingDecorator that wraps a Service.\\n     * \\n     * @param service the Service to decorate\\n     */\\n    public LoggingDecorator(Service service) {\\n        this.wrappedService = service; // Store the service to be decorated\\n    }\\n\\n    /**\\n     * Executes the wrapped service and logs the time taken for execution.\\n     */\\n    @Override\\n    public void execute() {\\n        long startTime = System.currentTimeMillis(); // Start time\\n        wrappedService.execute(); // Delegate the execution to the wrapped service\\n        long endTime = System.currentTimeMillis(); // End time\\n\\n        // Log the execution time\\n        System.out.println(\"Execution time: \" + (endTime - startTime) + \" milliseconds\");\\n    }\\n}\\n\\npackage Decorator.JavaExample1;\\n\\n/**\\n * LoggingDecorator is a decorator that logs the execution time of the wrapped\\n * Service.\\n * It adds additional functionality to the execute method without modifying the\\n * BaseService.\\n */\\npublic class LoggingDecorator implements Service {\\n    private final Service wrappedService;\\n\\n    /**\\n     * Constructs a LoggingDecorator that wraps a Service.\\n     * \\n     * @param service the Service to decorate\\n     */\\n    public LoggingDecorator(Service service) {\\n        this.wrappedService = service; // Store the service to be decorated\\n    }\\n\\n    /**\\n     * Executes the wrapped service and logs the time taken for execution.\\n     */\\n    @Override\\n    public void execute() {\\n        long startTime = System.currentTimeMillis(); // Start time\\n        wrappedService.execute(); // Delegate the execution to the wrapped service\\n        long endTime = System.currentTimeMillis(); // End time\\n\\n        // Log the execution time\\n        System.out.println(\"Execution time: \" + (endTime - startTime) + \" milliseconds\");\\n    }\\n}\\n\\npackage Decorator.JavaExample1;\\n\\n/**\\n * BaseService provides a simple implementation of the Service interface.\\n * This service executes a task (simulated by a delay).\\n */\\npublic class BaseService implements Service {\\n\\n    /**\\n     * Executes the base service operation, simulating a task with a delay.\\n     */\\n    @Override\\n    public void execute() {\\n        System.out.println(\"Executing base service...\");\\n        try {\\n            // Simulate a delay of 1 second\\n            Thread.sleep(1000);\\n        } catch (InterruptedException e) {\\n            e.printStackTrace();\\n        }\\n    }\\n}\\n\\npackage Decorator.JavaExample1;\\n\\n/**\\n * BaseService provides a simple implementation of the Service interface.\\n * This service executes a task (simulated by a delay).\\n */\\npublic class BaseService implements Service {\\n\\n    /**\\n     * Executes the base service operation, simulating a task with a delay.\\n     */\\n    @Override\\n    public void execute() {\\n        System.out.println(\"Executing base service...\");\\n        try {\\n            // Simulate a delay of 1 second\\n            Thread.sleep(1000);\\n        } catch (InterruptedException e) {\\n            e.printStackTrace();\\n        }\\n    }\\n}\\n\\nHere is the code from user:\\n/**\\n * A decorator class that adds a batch of pills to the pill counter when getPillCount is called.\\n * The addPill method updates the number of pills to be added to the pill counter.\\n * Pills are added to the pill counter when getPillCount is called.\\n */\\npublic class BatchAddPillCounter extends SimplePillCounterDecorator {\\n  private int numPillsToAdd;\\n\\n  /**\\n   * Creates an instance of a BatchAddPillCounter with a given pill counter.\\n   *\\n   * @param pillCounter the pill counter to be decorated\\n   */\\n  public BatchAddPillCounter(PillCounter pillCounter) {\\n    super(pillCounter);\\n    this.numPillsToAdd = 0;\\n  }\\n\\n  @Override\\n  public void addPill(int count) {\\n    this.numPillsToAdd += count;\\n  }\\n\\n  @Override\\n  public int getPillCount() {\\n    super.addPill(this.numPillsToAdd);\\n    this.numPillsToAdd = 0;\\n    return super.getPillCount();\\n  }\\n}\\n\\nHere is the No. 3 part of a tech credit\\nDescirption:\\n\\n\\nExample code for that tech credit:\\npackage Decorator.JavaExample1;\\n\\n/**\\n * The Service interface defines the method that concrete services will\\n * implement.\\n */\\npublic interface Service {\\n    /**\\n     * Execute the service\\'s operation.\\n     */\\n    void execute();\\n}\\n\\npackage Decorator.JavaExample1;\\n\\n/**\\n * The Service interface defines the method that concrete services will\\n * implement.\\n */\\npublic interface Service {\\n    /**\\n     * Execute the service\\'s operation.\\n     */\\n    void execute();\\n}\\n\\npackage Decorator.JavaExample1;\\n\\n/**\\n * BaseService provides a simple implementation of the Service interface.\\n * This service executes a task (simulated by a delay).\\n */\\npublic class BaseService implements Service {\\n\\n    /**\\n     * Executes the base service operation, simulating a task with a delay.\\n     */\\n    @Override\\n    public void execute() {\\n        System.out.println(\"Executing base service...\");\\n        try {\\n            // Simulate a delay of 1 second\\n            Thread.sleep(1000);\\n        } catch (InterruptedException e) {\\n            e.printStackTrace();\\n        }\\n    }\\n}\\n\\npackage Decorator.JavaExample1;\\n\\n/**\\n * BaseService provides a simple implementation of the Service interface.\\n * This service executes a task (simulated by a delay).\\n */\\npublic class BaseService implements Service {\\n\\n    /**\\n     * Executes the base service operation, simulating a task with a delay.\\n     */\\n    @Override\\n    public void execute() {\\n        System.out.println(\"Executing base service...\");\\n        try {\\n            // Simulate a delay of 1 second\\n            Thread.sleep(1000);\\n        } catch (InterruptedException e) {\\n            e.printStackTrace();\\n        }\\n    }\\n}\\n\\nHere is the code from user:\\n/**\\n * A decorator class for the PillCounter interface that provides a simple implementation of the\\n * PillCounter interface. It wraps a PillCounter object and delegates all method calls to the\\n * wrapped object.\\n */\\npublic class SimplePillCounterDecorator implements PillCounter {\\n  protected final PillCounter pillCounter;\\n\\n  /**\\n   * Creates an instance of a SimplePillCounterDecorator with a given PillCounter object.\\n   *\\n   * @param pillCounter the pill counter to be decorated\\n   * @throws IllegalArgumentException if the pillCounter is null\\n   */\\n  public SimplePillCounterDecorator(PillCounter pillCounter) {\\n    if (pillCounter == null) {\\n      throw new IllegalArgumentException(\"PillCounter cannot be null.\");\\n    }\\n    this.pillCounter = pillCounter;\\n  }\\n\\n  @Override\\n  public void addPill(int count) {\\n    this.pillCounter.addPill(count);\\n  }\\n\\n  @Override\\n  public void removePill() {\\n    this.pillCounter.removePill();\\n  }\\n\\n  @Override\\n  public void reset() {\\n    this.pillCounter.reset();\\n  }\\n\\n  @Override\\n  public int getPillCount() {\\n    return this.pillCounter.getPillCount();\\n  }\\n}\\n\\n\\nQuestion: Tell me what tech credits does the repo possibly use?\\nAnswer:\\n', additional_kwargs={}, response_metadata={})]\n",
      "Based on the code snippets provided, the repository appears to be using the following technical credit:\n",
      "\n",
      "Decorator Pattern: The code demonstrates a clear implementation of the Decorator Pattern. This is evident from the classes:\n",
      "- SimplePillCounterDecorator: A base decorator that wraps a PillCounter and delegates method calls\n",
      "- PillCounterMonitor: A concrete decorator that adds monitoring functionality to the pill counter\n",
      "- BatchAddPillCounter: Another concrete decorator that modifies the behavior of adding pills\n",
      "\n",
      "The Decorator Pattern allows for dynamically adding new behaviors to existing objects without altering their structure. In this case, different decorators (PillCounterMonitor and BatchAddPillCounter) extend the functionality of the base PillCounter by wrapping and enhancing its methods.\n",
      "\n",
      "The code follows the classic Decorator Pattern structure with:\n",
      "1. A base interface (PillCounter)\n",
      "2. A base decorator (SimplePillCounterDecorator)\n",
      "3. Concrete decorators that add specific behaviors\n"
     ]
    }
   ],
   "source": [
    "response = graph.invoke(\n",
    "    {\n",
    "        \"question\": \"Tell me what tech credits does the repo possibly use?\",\n",
    "        \"url\": \"https://github.com/alexsun2/cs3500lab9\",\n",
    "        \"branch\": \"main\",\n",
    "        \"folder\" : \"\",\n",
    "    }\n",
    ")\n",
    "print(response[\"answer\"])"
   ]
  },
  {
   "cell_type": "code",
   "execution_count": null,
   "id": "5fb48cc7",
   "metadata": {},
   "outputs": [
    {
     "name": "stdout",
     "output_type": "stream",
     "text": [
      "messages=[SystemMessage(content=\"You are an assistant for identifying technical credit. Use the following pieces                 of retrieved context to answer the question. If you don't know the answer, just                 say that you don't know. Please only use the provided technical credit categories. For each code snippet, use three sentences maximum and                 keep the answer concise.\", additional_kwargs={}, response_metadata={}), HumanMessage(content=\"The list of technical credit categories you must follow:\\n['Circuit Breaker', 'Strategy Pattern', 'Adapter Pattern', 'Model View Controller', 'Visitor Pattern', 'Decorator Pattern', 'Iterator', 'Platform Abstraction Layers', 'Proxy', 'Chain of responsibility', 'Template method', 'Front controller', 'Command', 'Interpreter', 'Mediator', 'Memento', 'Observer or Publish/subscribe', 'Servant', 'Active Object', 'Event-based asynchronous', 'Messaging design pattern (MDP)', 'Thread pool']\\n\\nSome documentation about tech credit:\\nReferences\\t\\t\\n\\n \\n\\n\\n\\nReferences\\n\\n\\n1. Avgeriou, P. et al. Managing technical debt in software engineering (Dagstuhl seminar 16162), In Dagstuhl Reports 6, Schloss Dagstuhl-Leibniz-Zentrum fuer Informatik (2016).\\n\\n\\n2. Berenbach, B. On technical credit. Procedia Computer Science\\xa028 (2014).\\n\\n\\n3. Cunningham, W. The WyCash portfolio management system. In Addendum to the Proceedings on Object-Oriented Programming Systems, Languages, and Applications (Addendum), OOPSLA '92. ACM, NY (1992); 10.1145/157709.157715\\n\\n\\n4. Ford, N., Parsons, R., and Kua, P. Building Evolutionary Architectures: Support Constant Change. 1st Edition. O’Reilly Media, Inc. (2017).\\n\\n\\n5. Kruchten, P., Nord, R.L., and Ozkaya, I. Technical debt: From metaphor to theory and practice. IEEE Software\\xa029, 6 (2012).\\n\\n\\n6. Lemaire, M. Refactoring At Scale. O’Reilly Media, Inc. (2020).\\n\\n\\n\\n\\n\\n\\n\\n\\n\\n\\t\\t\\tFootnotes\\n\\nReferences\\t\\t\\n\\n \\n\\n\\n\\nReferences\\n\\n\\n1. Avgeriou, P. et al. Managing technical debt in software engineering (Dagstuhl seminar 16162), In Dagstuhl Reports 6, Schloss Dagstuhl-Leibniz-Zentrum fuer Informatik (2016).\\n\\n\\n2. Berenbach, B. On technical credit. Procedia Computer Science\\xa028 (2014).\\n\\n\\n3. Cunningham, W. The WyCash portfolio management system. In Addendum to the Proceedings on Object-Oriented Programming Systems, Languages, and Applications (Addendum), OOPSLA '92. ACM, NY (1992); 10.1145/157709.157715\\n\\n\\n4. Ford, N., Parsons, R., and Kua, P. Building Evolutionary Architectures: Support Constant Change. 1st Edition. O’Reilly Media, Inc. (2017).\\n\\n\\n5. Kruchten, P., Nord, R.L., and Ozkaya, I. Technical debt: From metaphor to theory and practice. IEEE Software\\xa029, 6 (2012).\\n\\n\\n6. Lemaire, M. Refactoring At Scale. O’Reilly Media, Inc. (2020).\\n\\n\\n\\n\\n\\n\\n\\n\\n\\n\\t\\t\\tFootnotes\\n\\nReferences\\t\\t\\n\\n \\n\\n\\n\\nReferences\\n\\n\\n1. Avgeriou, P. et al. Managing technical debt in software engineering (Dagstuhl seminar 16162), In Dagstuhl Reports 6, Schloss Dagstuhl-Leibniz-Zentrum fuer Informatik (2016).\\n\\n\\n2. Berenbach, B. On technical credit. Procedia Computer Science\\xa028 (2014).\\n\\n\\n3. Cunningham, W. The WyCash portfolio management system. In Addendum to the Proceedings on Object-Oriented Programming Systems, Languages, and Applications (Addendum), OOPSLA '92. ACM, NY (1992); 10.1145/157709.157715\\n\\n\\n4. Ford, N., Parsons, R., and Kua, P. Building Evolutionary Architectures: Support Constant Change. 1st Edition. O’Reilly Media, Inc. (2017).\\n\\n\\n5. Kruchten, P., Nord, R.L., and Ozkaya, I. Technical debt: From metaphor to theory and practice. IEEE Software\\xa029, 6 (2012).\\n\\n\\n6. Lemaire, M. Refactoring At Scale. O’Reilly Media, Inc. (2020).\\n\\n\\n\\n\\n\\n\\n\\n\\n\\n\\t\\t\\tFootnotes\\n\\nReferences\\t\\t\\n\\n \\n\\n\\n\\nReferences\\n\\n\\n1. Avgeriou, P. et al. Managing technical debt in software engineering (Dagstuhl seminar 16162), In Dagstuhl Reports 6, Schloss Dagstuhl-Leibniz-Zentrum fuer Informatik (2016).\\n\\n\\n2. Berenbach, B. On technical credit. Procedia Computer Science\\xa028 (2014).\\n\\n\\n3. Cunningham, W. The WyCash portfolio management system. In Addendum to the Proceedings on Object-Oriented Programming Systems, Languages, and Applications (Addendum), OOPSLA '92. ACM, NY (1992); 10.1145/157709.157715\\n\\n\\n4. Ford, N., Parsons, R., and Kua, P. Building Evolutionary Architectures: Support Constant Change. 1st Edition. O’Reilly Media, Inc. (2017).\\n\\n\\n5. Kruchten, P., Nord, R.L., and Ozkaya, I. Technical debt: From metaphor to theory and practice. IEEE Software\\xa029, 6 (2012).\\n\\n\\n6. Lemaire, M. Refactoring At Scale. O’Reilly Media, Inc. (2020).\\n\\n\\n\\n\\n\\n\\n\\n\\n\\n\\t\\t\\tFootnotes\\n\\nThe following are snippets of codes that are most similar to example codes of \\ntech credits.\\n\\nHere is the No. 1 part of a tech credit\\nDescirption:\\nIterator: Provide a way to access the elements of an aggregate object sequentially without exposing its underlying representation.\\n\\nExample code for that tech credit:\\npublic void addTask(String task) {\\n        tasks.add(task);\\n    }\\n\\n    public List<String> getTasks() {\\n        return tasks;\\n    }\\n}\\n\\npublic class BookCollection implements Iterable<Book> {\\n\\n    private List<Book> books = new ArrayList<>();\\n\\n    public void addBook(Book book) {\\n        books.add(book);\\n    }\\n\\n// TC_TYPE: iterator \\n\\npackage Iterator;\\n\\nimport java.util.Iterator;\\nimport java.util.List;\\n\\n/**\\n * Iterator class that knows how to traverse the collection\\n */\\npublic class BookIterator implements Iterator<Book> {\\n\\n    private List<Book> books;\\n    private int index = 0;\\n\\n    public BookIterator(List<Book> books) {\\n        this.books = books;\\n    }\\n\\n    @Override\\n    public boolean hasNext() {\\n        return index < books.size();\\n    }\\n\\n    @Override\\n    public Book next() {\\n        return books.get(index++);\\n    }\\n}\\n\\n// TC_TYPE: iterator \\n\\npackage Iterator;\\n\\nimport java.util.Iterator;\\nimport java.util.List;\\n\\n/**\\n * Iterator class that knows how to traverse the collection\\n */\\npublic class BookIterator implements Iterator<Book> {\\n\\n    private List<Book> books;\\n    private int index = 0;\\n\\n    public BookIterator(List<Book> books) {\\n        this.books = books;\\n    }\\n\\n    @Override\\n    public boolean hasNext() {\\n        return index < books.size();\\n    }\\n\\n    @Override\\n    public Book next() {\\n        return books.get(index++);\\n    }\\n}\\n\\nHere is the code from user:\\npackage listadt;\\n\\n/**\\n * This interface represents a generic list.\\n * @param <T> the type of elements in this list\\n */\\npublic interface ListADT<T> extends CommonListADT<T> {\\n  /**\\n   * Add an object to the front of this list.\\n   *\\n   * @param b the object to be added to the front of this list\\n   */\\n  void addFront(T b);\\n\\n  /**\\n   * Add an object to the back of this list (so it is the last object in the\\n   * list.\\n   *\\n   * @param b the object to be added to teh back of this list\\n   */\\n  void addBack(T b);\\n\\n  /**\\n   * Add an object to this list so that it occupies the provided index. Index\\n   * begins with 0.\\n   *\\n   * @param index the index to be occupied by this object, beginning at 0\\n   * @param b     the object to be added to the list\\n   */\\n  void add(int index, T b);\\n\\n\\n  /**\\n   * Remove the first instance of this object from this list.\\n   *\\n   * @param b the object to be removed\\n   */\\n  void remove(T b);\\n}\\n\\nHere is the No. 2 part of a tech credit\\nDescirption:\\nIterator: Provide a way to access the elements of an aggregate object sequentially without exposing its underlying representation.\\n\\nExample code for that tech credit:\\npublic class BookCollection implements Iterable<Book> {\\n\\n    private List<Book> books = new ArrayList<>();\\n\\n    public void addBook(Book book) {\\n        books.add(book);\\n    }\\n\\n// TC_TYPE: iterator \\n\\npackage Iterator;\\n\\nimport java.util.ArrayList;\\nimport java.util.Iterator;\\nimport java.util.List;\\n\\n/**\\n * Aggregate class that holds a collection of books\\n */\\npublic class BookCollection implements Iterable<Book> {\\n\\n    private List<Book> books = new ArrayList<>();\\n\\n    public void addBook(Book book) {\\n        books.add(book);\\n    }\\n\\n    @Override\\n    public Iterator<Book> iterator() {\\n        return new BookIterator(books);\\n    }\\n}\\n\\n// TC_TYPE: iterator \\n\\npackage Iterator;\\n\\nimport java.util.ArrayList;\\nimport java.util.Iterator;\\nimport java.util.List;\\n\\n/**\\n * Aggregate class that holds a collection of books\\n */\\npublic class BookCollection implements Iterable<Book> {\\n\\n    private List<Book> books = new ArrayList<>();\\n\\n    public void addBook(Book book) {\\n        books.add(book);\\n    }\\n\\n    @Override\\n    public Iterator<Book> iterator() {\\n        return new BookIterator(books);\\n    }\\n}\\n\\n// TC_TYPE: iterator \\n\\npackage Iterator;\\n\\nimport java.util.ArrayList;\\nimport java.util.Iterator;\\nimport java.util.List;\\n\\n/**\\n * Aggregate class that holds a collection of books\\n */\\npublic class BookCollection implements Iterable<Book> {\\n\\n    private List<Book> books = new ArrayList<>();\\n\\n    public void addBook(Book book) {\\n        books.add(book);\\n    }\\n\\n    @Override\\n    public Iterator<Book> iterator() {\\n        return new BookIterator(books);\\n    }\\n}\\n\\nHere is the code from user:\\npackage listadt;\\n\\n/**\\n * This interface represents a mutable list. It extends the ListADT interface,\\n * and includes a method to convert the list to an immutable list.\\n *\\n * @param <T> the type of data in the list\\n */\\npublic interface MutableListADT<T> extends ListADT<T> {\\n\\n  /**\\n   * Converts the mutable list to an immutable list that has the same elements as this list.\\n   *\\n   * @return an immutable list that has the same elements as this list\\n   */\\n  ImmutableListADT<T> getImmutableList();\\n}\\n\\nHere is the No. 3 part of a tech credit\\nDescirption:\\nIterator: Provide a way to access the elements of an aggregate object sequentially without exposing its underlying representation.\\n\\nExample code for that tech credit:\\n// TC_TYPE: iterator \\n\\npackage Iterator;\\n\\nimport java.util.ArrayList;\\nimport java.util.Iterator;\\nimport java.util.List;\\n\\n/**\\n * Aggregate class that holds a collection of books\\n */\\npublic class BookCollection implements Iterable<Book> {\\n\\n    private List<Book> books = new ArrayList<>();\\n\\n    public void addBook(Book book) {\\n        books.add(book);\\n    }\\n\\n    @Override\\n    public Iterator<Book> iterator() {\\n        return new BookIterator(books);\\n    }\\n}\\n\\n// TC_TYPE: iterator \\n\\npackage Iterator;\\n\\nimport java.util.ArrayList;\\nimport java.util.Iterator;\\nimport java.util.List;\\n\\n/**\\n * Aggregate class that holds a collection of books\\n */\\npublic class BookCollection implements Iterable<Book> {\\n\\n    private List<Book> books = new ArrayList<>();\\n\\n    public void addBook(Book book) {\\n        books.add(book);\\n    }\\n\\n    @Override\\n    public Iterator<Book> iterator() {\\n        return new BookIterator(books);\\n    }\\n}\\n\\n// TC_TYPE: iterator \\n\\npackage Iterator;\\n\\nimport java.util.ArrayList;\\nimport java.util.Iterator;\\nimport java.util.List;\\n\\n/**\\n * Aggregate class that holds a collection of books\\n */\\npublic class BookCollection implements Iterable<Book> {\\n\\n    private List<Book> books = new ArrayList<>();\\n\\n    public void addBook(Book book) {\\n        books.add(book);\\n    }\\n\\n    @Override\\n    public Iterator<Book> iterator() {\\n        return new BookIterator(books);\\n    }\\n}\\n\\n// TC_TYPE: iterator \\n\\npackage Iterator;\\n\\nimport java.util.ArrayList;\\nimport java.util.Iterator;\\nimport java.util.List;\\n\\n/**\\n * Aggregate class that holds a collection of books\\n */\\npublic class BookCollection implements Iterable<Book> {\\n\\n    private List<Book> books = new ArrayList<>();\\n\\n    public void addBook(Book book) {\\n        books.add(book);\\n    }\\n\\n    @Override\\n    public Iterator<Book> iterator() {\\n        return new BookIterator(books);\\n    }\\n}\\n\\nHere is the code from user:\\npackage listadt;\\n\\n/**\\n * This interface represents an immutable list. It extends the CommonListADT interface,\\n * it and includes a method to convert the list to a mutable list.\\n * @param <T> the type of data in the list\\n */\\npublic interface ImmutableListADT<T> extends CommonListADT<T> {\\n\\n  /**\\n   * Converts the immutable list to a mutable list that has the same elements as this list.\\n   * @return a mutable list that has the same elements as this list\\n   */\\n  MutableListADT<T> getMutableList();\\n}\\n\\n\\nQuestion: Tell me what tech credits does the repo possibly use?\\nAnswer:\\n\", additional_kwargs={}, response_metadata={})]\n",
      "Based on the code snippets provided, the repository appears to use the following technical credit:\n",
      "\n",
      "Iterator: The code demonstrates characteristics of the Iterator pattern. The interfaces ListADT, MutableListADT, and ImmutableListADT suggest a collection-like structure with methods for adding and manipulating elements. The Iterator pattern provides a way to access elements of a collection sequentially without exposing its underlying representation. The interfaces show methods for adding elements and converting between mutable and immutable lists, which is consistent with the Iterator pattern's goal of providing a standardized way to traverse collections.\n",
      "\n",
      "The other technical credit categories from the provided list do not seem to be explicitly used in these code snippets. The code focuses on defining list interfaces with different mutability characteristics, which aligns most closely with the Iterator pattern.\n"
     ]
    }
   ],
   "source": [
    "response = graph.invoke(\n",
    "    {\n",
    "        \"question\": \"Tell me what tech credits does the repo possibly use?\",\n",
    "        \"url\": \"https://github.com/alexsun2/cs3500lab10\",\n",
    "        \"branch\": \"main\",\n",
    "    }\n",
    ")\n",
    "print(response[\"answer\"])"
   ]
  },
  {
   "cell_type": "code",
   "execution_count": 25,
   "id": "cb5e3468-c0b0-4ed2-9f12-9eaaa9403acb",
   "metadata": {},
   "outputs": [
    {
     "name": "stdout",
     "output_type": "stream",
     "text": [
      "messages=[SystemMessage(content=\"You are an assistant for identifying technical credit. Use the following pieces                 of retrieved context to answer the question. If you don't know the answer, just                 say that you don't know. Please only use the provided technical credit categories. For each code snippet, use three sentences maximum and                 keep the answer concise.\", additional_kwargs={}, response_metadata={}), HumanMessage(content='The list of technical credit categories you must follow:\\n[\\'Circuit Breaker\\', \\'Strategy Pattern\\', \\'Adapter Pattern\\', \\'Model View Controller\\', \\'Visitor Pattern\\', \\'Decorator Pattern\\', \\'Iterator\\', \\'Platform Abstraction Layers\\', \\'Proxy\\', \\'Chain of responsibility\\', \\'Template method\\', \\'Front controller\\', \\'Command\\', \\'Interpreter\\', \\'Mediator\\', \\'Memento\\', \\'Observer or Publish/subscribe\\', \\'Servant\\', \\'Active Object\\', \\'Event-based asynchronous\\', \\'Messaging design pattern (MDP)\\', \\'Thread pool\\']\\n\\nSome documentation about tech credit:\\nReferences\\t\\t\\n\\n \\n\\n\\n\\nReferences\\n\\n\\n1. Avgeriou, P. et al. Managing technical debt in software engineering (Dagstuhl seminar 16162), In Dagstuhl Reports 6, Schloss Dagstuhl-Leibniz-Zentrum fuer Informatik (2016).\\n\\n\\n2. Berenbach, B. On technical credit. Procedia Computer Science\\xa028 (2014).\\n\\n\\n3. Cunningham, W. The WyCash portfolio management system. In Addendum to the Proceedings on Object-Oriented Programming Systems, Languages, and Applications (Addendum), OOPSLA \\'92. ACM, NY (1992); 10.1145/157709.157715\\n\\n\\n4. Ford, N., Parsons, R., and Kua, P. Building Evolutionary Architectures: Support Constant Change. 1st Edition. O’Reilly Media, Inc. (2017).\\n\\n\\n5. Kruchten, P., Nord, R.L., and Ozkaya, I. Technical debt: From metaphor to theory and practice. IEEE Software\\xa029, 6 (2012).\\n\\n\\n6. Lemaire, M. Refactoring At Scale. O’Reilly Media, Inc. (2020).\\n\\n\\n\\n\\n\\n\\n\\n\\n\\n\\t\\t\\tFootnotes\\n\\nReferences\\t\\t\\n\\n \\n\\n\\n\\nReferences\\n\\n\\n1. Avgeriou, P. et al. Managing technical debt in software engineering (Dagstuhl seminar 16162), In Dagstuhl Reports 6, Schloss Dagstuhl-Leibniz-Zentrum fuer Informatik (2016).\\n\\n\\n2. Berenbach, B. On technical credit. Procedia Computer Science\\xa028 (2014).\\n\\n\\n3. Cunningham, W. The WyCash portfolio management system. In Addendum to the Proceedings on Object-Oriented Programming Systems, Languages, and Applications (Addendum), OOPSLA \\'92. ACM, NY (1992); 10.1145/157709.157715\\n\\n\\n4. Ford, N., Parsons, R., and Kua, P. Building Evolutionary Architectures: Support Constant Change. 1st Edition. O’Reilly Media, Inc. (2017).\\n\\n\\n5. Kruchten, P., Nord, R.L., and Ozkaya, I. Technical debt: From metaphor to theory and practice. IEEE Software\\xa029, 6 (2012).\\n\\n\\n6. Lemaire, M. Refactoring At Scale. O’Reilly Media, Inc. (2020).\\n\\n\\n\\n\\n\\n\\n\\n\\n\\n\\t\\t\\tFootnotes\\n\\nReferences\\t\\t\\n\\n \\n\\n\\n\\nReferences\\n\\n\\n1. Avgeriou, P. et al. Managing technical debt in software engineering (Dagstuhl seminar 16162), In Dagstuhl Reports 6, Schloss Dagstuhl-Leibniz-Zentrum fuer Informatik (2016).\\n\\n\\n2. Berenbach, B. On technical credit. Procedia Computer Science\\xa028 (2014).\\n\\n\\n3. Cunningham, W. The WyCash portfolio management system. In Addendum to the Proceedings on Object-Oriented Programming Systems, Languages, and Applications (Addendum), OOPSLA \\'92. ACM, NY (1992); 10.1145/157709.157715\\n\\n\\n4. Ford, N., Parsons, R., and Kua, P. Building Evolutionary Architectures: Support Constant Change. 1st Edition. O’Reilly Media, Inc. (2017).\\n\\n\\n5. Kruchten, P., Nord, R.L., and Ozkaya, I. Technical debt: From metaphor to theory and practice. IEEE Software\\xa029, 6 (2012).\\n\\n\\n6. Lemaire, M. Refactoring At Scale. O’Reilly Media, Inc. (2020).\\n\\n\\n\\n\\n\\n\\n\\n\\n\\n\\t\\t\\tFootnotes\\n\\nReferences\\t\\t\\n\\n \\n\\n\\n\\nReferences\\n\\n\\n1. Avgeriou, P. et al. Managing technical debt in software engineering (Dagstuhl seminar 16162), In Dagstuhl Reports 6, Schloss Dagstuhl-Leibniz-Zentrum fuer Informatik (2016).\\n\\n\\n2. Berenbach, B. On technical credit. Procedia Computer Science\\xa028 (2014).\\n\\n\\n3. Cunningham, W. The WyCash portfolio management system. In Addendum to the Proceedings on Object-Oriented Programming Systems, Languages, and Applications (Addendum), OOPSLA \\'92. ACM, NY (1992); 10.1145/157709.157715\\n\\n\\n4. Ford, N., Parsons, R., and Kua, P. Building Evolutionary Architectures: Support Constant Change. 1st Edition. O’Reilly Media, Inc. (2017).\\n\\n\\n5. Kruchten, P., Nord, R.L., and Ozkaya, I. Technical debt: From metaphor to theory and practice. IEEE Software\\xa029, 6 (2012).\\n\\n\\n6. Lemaire, M. Refactoring At Scale. O’Reilly Media, Inc. (2020).\\n\\n\\n\\n\\n\\n\\n\\n\\n\\n\\t\\t\\tFootnotes\\n\\nThe following are snippets of codes that are most similar to example codes of \\ntech credits.\\n\\nHere is the No. 1 part of a tech credit\\nDescirption:\\nIterator: Provide a way to access the elements of an aggregate object sequentially without exposing its underlying representation.\\n\\nExample code for that tech credit:\\n// TC_TYPE: iterator \\n\\npackage Iterator;\\n\\nimport java.util.Iterator;\\nimport java.util.List;\\n\\n/**\\n * Iterator class that knows how to traverse the collection\\n */\\n\\n// TC_TYPE: iterator \\n\\npackage Iterator;\\n\\nimport java.util.Iterator;\\nimport java.util.List;\\n\\n/**\\n * Iterator class that knows how to traverse the collection\\n */\\n\\n// TC_TYPE: iterator \\n\\npackage Iterator;\\n\\nimport java.util.Iterator;\\nimport java.util.List;\\n\\n/**\\n * Iterator class that knows how to traverse the collection\\n */\\npublic class BookIterator implements Iterator<Book> {\\n\\n    private List<Book> books;\\n    private int index = 0;\\n\\n    public BookIterator(List<Book> books) {\\n        this.books = books;\\n    }\\n\\n    @Override\\n    public boolean hasNext() {\\n        return index < books.size();\\n    }\\n\\n    @Override\\n    public Book next() {\\n        return books.get(index++);\\n    }\\n}\\n\\n// TC_TYPE: iterator \\n\\npackage Iterator;\\n\\nimport java.util.Iterator;\\nimport java.util.List;\\n\\n/**\\n * Iterator class that knows how to traverse the collection\\n */\\npublic class BookIterator implements Iterator<Book> {\\n\\n    private List<Book> books;\\n    private int index = 0;\\n\\n    public BookIterator(List<Book> books) {\\n        this.books = books;\\n    }\\n\\n    @Override\\n    public boolean hasNext() {\\n        return index < books.size();\\n    }\\n\\n    @Override\\n    public Book next() {\\n        return books.get(index++);\\n    }\\n}\\n\\nHere is the code from user:\\n/*\\n * This project is licensed under the MIT license. Module model-view-viewmodel is using ZK framework licensed under LGPL (see lgpl-3.0.txt).\\n *\\n * The MIT License\\n * Copyright © 2014-2022 Ilkka Seppälä\\n *\\n * Permission is hereby granted, free of charge, to any person obtaining a copy\\n * of this software and associated documentation files (the \"Software\"), to deal\\n * in the Software without restriction, including without limitation the rights\\n * to use, copy, modify, merge, publish, distribute, sublicense, and/or sell\\n * copies of the Software, and to permit persons to whom the Software is\\n * furnished to do so, subject to the following conditions:\\n *\\n * The above copyright notice and this permission notice shall be included in\\n * all copies or substantial portions of the Software.\\n *\\n * THE SOFTWARE IS PROVIDED \"AS IS\", WITHOUT WARRANTY OF ANY KIND, EXPRESS OR\\n * IMPLIED, INCLUDING BUT NOT LIMITED TO THE WARRANTIES OF MERCHANTABILITY,\\n * FITNESS FOR A PARTICULAR PURPOSE AND NONINFRINGEMENT. IN NO EVENT SHALL THE\\n * AUTHORS OR COPYRIGHT HOLDERS BE LIABLE FOR ANY CLAIM, DAMAGES OR OTHER\\n * LIABILITY, WHETHER IN AN ACTION OF CONTRACT, TORT OR OTHERWISE, ARISING FROM,\\n * OUT OF OR IN CONNECTION WITH THE SOFTWARE OR THE USE OR OTHER DEALINGS IN\\n * THE SOFTWARE.\\n */\\npackage com.iluwatar.iterator;\\n\\n/**\\n * Iterator interface to be implemented by iterators over various data structures.\\n *\\n * @param <T> generically typed for various objects\\n */\\npublic interface Iterator<T> {\\n\\n  boolean hasNext();\\n\\n  T next();\\n}\\n\\nHere is the No. 2 part of a tech credit\\nDescirption:\\nIterator: Provide a way to access the elements of an aggregate object sequentially without exposing its underlying representation.\\n\\nExample code for that tech credit:\\n// TC_TYPE: iterator \\n\\npackage Iterator;\\n\\nimport java.util.Iterator;\\nimport java.util.List;\\n\\n/**\\n * Iterator class that knows how to traverse the collection\\n */\\npublic class BookIterator implements Iterator<Book> {\\n\\n    private List<Book> books;\\n    private int index = 0;\\n\\n    public BookIterator(List<Book> books) {\\n        this.books = books;\\n    }\\n\\n    @Override\\n    public boolean hasNext() {\\n        return index < books.size();\\n    }\\n\\n    @Override\\n    public Book next() {\\n        return books.get(index++);\\n    }\\n}\\n\\n// TC_TYPE: iterator \\n\\npackage Iterator;\\n\\nimport java.util.Iterator;\\nimport java.util.List;\\n\\n/**\\n * Iterator class that knows how to traverse the collection\\n */\\npublic class BookIterator implements Iterator<Book> {\\n\\n    private List<Book> books;\\n    private int index = 0;\\n\\n    public BookIterator(List<Book> books) {\\n        this.books = books;\\n    }\\n\\n    @Override\\n    public boolean hasNext() {\\n        return index < books.size();\\n    }\\n\\n    @Override\\n    public Book next() {\\n        return books.get(index++);\\n    }\\n}\\n\\n// TC_TYPE: iterator \\n\\npackage Iterator;\\n\\nimport java.util.Iterator;\\nimport java.util.List;\\n\\n/**\\n * Iterator class that knows how to traverse the collection\\n */\\npublic class BookIterator implements Iterator<Book> {\\n\\n    private List<Book> books;\\n    private int index = 0;\\n\\n    public BookIterator(List<Book> books) {\\n        this.books = books;\\n    }\\n\\n    @Override\\n    public boolean hasNext() {\\n        return index < books.size();\\n    }\\n\\n    @Override\\n    public Book next() {\\n        return books.get(index++);\\n    }\\n}\\n\\n// TC_TYPE: iterator \\n\\npackage Iterator;\\n\\nimport java.util.Iterator;\\nimport java.util.List;\\n\\n/**\\n * Iterator class that knows how to traverse the collection\\n */\\npublic class BookIterator implements Iterator<Book> {\\n\\n    private List<Book> books;\\n    private int index = 0;\\n\\n    public BookIterator(List<Book> books) {\\n        this.books = books;\\n    }\\n\\n    @Override\\n    public boolean hasNext() {\\n        return index < books.size();\\n    }\\n\\n    @Override\\n    public Book next() {\\n        return books.get(index++);\\n    }\\n}\\n\\nHere is the code from user:\\n/*\\n * This project is licensed under the MIT license. Module model-view-viewmodel is using ZK framework licensed under LGPL (see lgpl-3.0.txt).\\n *\\n * The MIT License\\n * Copyright © 2014-2022 Ilkka Seppälä\\n *\\n * Permission is hereby granted, free of charge, to any person obtaining a copy\\n * of this software and associated documentation files (the \"Software\"), to deal\\n * in the Software without restriction, including without limitation the rights\\n * to use, copy, modify, merge, publish, distribute, sublicense, and/or sell\\n * copies of the Software, and to permit persons to whom the Software is\\n * furnished to do so, subject to the following conditions:\\n *\\n * The above copyright notice and this permission notice shall be included in\\n * all copies or substantial portions of the Software.\\n *\\n * THE SOFTWARE IS PROVIDED \"AS IS\", WITHOUT WARRANTY OF ANY KIND, EXPRESS OR\\n * IMPLIED, INCLUDING BUT NOT LIMITED TO THE WARRANTIES OF MERCHANTABILITY,\\n * FITNESS FOR A PARTICULAR PURPOSE AND NONINFRINGEMENT. IN NO EVENT SHALL THE\\n * AUTHORS OR COPYRIGHT HOLDERS BE LIABLE FOR ANY CLAIM, DAMAGES OR OTHER\\n * LIABILITY, WHETHER IN AN ACTION OF CONTRACT, TORT OR OTHERWISE, ARISING FROM,\\n * OUT OF OR IN CONNECTION WITH THE SOFTWARE OR THE USE OR OTHER DEALINGS IN\\n * THE SOFTWARE.\\n */\\npackage com.iluwatar.iterator.list;\\n\\nimport com.iluwatar.iterator.Iterator;\\n\\n/** TreasureChestItemIterator. */\\npublic class TreasureChestItemIterator implements Iterator<Item> {\\n\\n  private final TreasureChest chest;\\n  private int idx;\\n  private final ItemType type;\\n\\n  /** Constructor. */\\n  public TreasureChestItemIterator(TreasureChest chest, ItemType type) {\\n    this.chest = chest;\\n    this.type = type;\\n    this.idx = -1;\\n  }\\n\\n  @Override\\n  public boolean hasNext() {\\n    return findNextIdx() != -1;\\n  }\\n\\n  @Override\\n  public Item next() {\\n    idx = findNextIdx();\\n    if (idx != -1) {\\n      return chest.getItems().get(idx);\\n    }\\n    return null;\\n  }\\n\\n  private int findNextIdx() {\\n    var items = chest.getItems();\\n    var tempIdx = idx;\\n    while (true) {\\n      tempIdx++;\\n      if (tempIdx >= items.size()) {\\n        tempIdx = -1;\\n        break;\\n      }\\n      if (type.equals(ItemType.ANY) || items.get(tempIdx).getType().equals(type)) {\\n        break;\\n      }\\n    }\\n    return tempIdx;\\n  }\\n}\\n\\nHere is the No. 3 part of a tech credit\\nDescirption:\\nIterator: Provide a way to access the elements of an aggregate object sequentially without exposing its underlying representation.\\n\\nExample code for that tech credit:\\n// TC_TYPE: iterator \\n\\npackage Iterator;\\n\\nimport java.util.Iterator;\\n\\n/**\\n * Iterator Design Pattern Example\\n *\\n * This example shows how to implement the Iterator pattern to traverse a collection\\n * without exposing its underlying structure.\\n */\\n\\npublic class Main {\\n    public static void main(String[] args) {\\n        // Create a book collection\\n        BookCollection collection = new BookCollection();\\n        collection.addBook(new Book(\"The Great Gatsby\", \"F. Scott Fitzgerald\"));\\n        collection.addBook(new Book(\"To Kill a Mockingbird\", \"Harper Lee\"));\\n        collection.addBook(new Book(\"1984\", \"George Orwell\"));\\n        collection.addBook(new Book(\"Pride and Prejudice\", \"Jane Austen\"));\\n\\n        // Iterate through the collection using the iterator\\n        System.out.println(\"Books in the collection:\");\\n        for (Book book : collection) {\\n            System.out.println(\"- \" + book);\\n        }\\n\\n        // Alternatively, using the iterator explicitly\\n        System.out.println(\"\\\\nBooks again (using iterator explicitly):\");\\n        Iterator<Book> iterator = collection.iterator();\\n        while (iterator.hasNext()) {\\n            Book book = iterator.next();\\n            System.out.println(\"- \" + book);\\n        }\\n    }\\n}\\n\\n// TC_TYPE: iterator \\n\\npackage Iterator;\\n\\nimport java.util.Iterator;\\n\\n/**\\n * Iterator Design Pattern Example\\n *\\n * This example shows how to implement the Iterator pattern to traverse a collection\\n * without exposing its underlying structure.\\n */\\n\\npublic class Main {\\n    public static void main(String[] args) {\\n        // Create a book collection\\n        BookCollection collection = new BookCollection();\\n        collection.addBook(new Book(\"The Great Gatsby\", \"F. Scott Fitzgerald\"));\\n        collection.addBook(new Book(\"To Kill a Mockingbird\", \"Harper Lee\"));\\n        collection.addBook(new Book(\"1984\", \"George Orwell\"));\\n        collection.addBook(new Book(\"Pride and Prejudice\", \"Jane Austen\"));\\n\\n        // Iterate through the collection using the iterator\\n        System.out.println(\"Books in the collection:\");\\n        for (Book book : collection) {\\n            System.out.println(\"- \" + book);\\n        }\\n\\n        // Alternatively, using the iterator explicitly\\n        System.out.println(\"\\\\nBooks again (using iterator explicitly):\");\\n        Iterator<Book> iterator = collection.iterator();\\n        while (iterator.hasNext()) {\\n            Book book = iterator.next();\\n            System.out.println(\"- \" + book);\\n        }\\n    }\\n}\\n\\n// TC_TYPE: iterator \\n\\npackage Iterator;\\n\\nimport java.util.Iterator;\\n\\n/**\\n * Iterator Design Pattern Example\\n *\\n * This example shows how to implement the Iterator pattern to traverse a collection\\n * without exposing its underlying structure.\\n */\\n\\npublic class Main {\\n    public static void main(String[] args) {\\n        // Create a book collection\\n        BookCollection collection = new BookCollection();\\n        collection.addBook(new Book(\"The Great Gatsby\", \"F. Scott Fitzgerald\"));\\n        collection.addBook(new Book(\"To Kill a Mockingbird\", \"Harper Lee\"));\\n        collection.addBook(new Book(\"1984\", \"George Orwell\"));\\n        collection.addBook(new Book(\"Pride and Prejudice\", \"Jane Austen\"));\\n\\n        // Iterate through the collection using the iterator\\n        System.out.println(\"Books in the collection:\");\\n        for (Book book : collection) {\\n            System.out.println(\"- \" + book);\\n        }\\n\\n        // Alternatively, using the iterator explicitly\\n        System.out.println(\"\\\\nBooks again (using iterator explicitly):\");\\n        Iterator<Book> iterator = collection.iterator();\\n        while (iterator.hasNext()) {\\n            Book book = iterator.next();\\n            System.out.println(\"- \" + book);\\n        }\\n    }\\n}\\n\\n// TC_TYPE: iterator \\n\\npackage Iterator;\\n\\nimport java.util.Iterator;\\n\\n/**\\n * Iterator Design Pattern Example\\n *\\n * This example shows how to implement the Iterator pattern to traverse a collection\\n * without exposing its underlying structure.\\n */\\n\\npublic class Main {\\n    public static void main(String[] args) {\\n        // Create a book collection\\n        BookCollection collection = new BookCollection();\\n        collection.addBook(new Book(\"The Great Gatsby\", \"F. Scott Fitzgerald\"));\\n        collection.addBook(new Book(\"To Kill a Mockingbird\", \"Harper Lee\"));\\n        collection.addBook(new Book(\"1984\", \"George Orwell\"));\\n        collection.addBook(new Book(\"Pride and Prejudice\", \"Jane Austen\"));\\n\\n        // Iterate through the collection using the iterator\\n        System.out.println(\"Books in the collection:\");\\n        for (Book book : collection) {\\n            System.out.println(\"- \" + book);\\n        }\\n\\n        // Alternatively, using the iterator explicitly\\n        System.out.println(\"\\\\nBooks again (using iterator explicitly):\");\\n        Iterator<Book> iterator = collection.iterator();\\n        while (iterator.hasNext()) {\\n            Book book = iterator.next();\\n            System.out.println(\"- \" + book);\\n        }\\n    }\\n}\\n\\nHere is the code from user:\\n/*\\n * This project is licensed under the MIT license. Module model-view-viewmodel is using ZK framework licensed under LGPL (see lgpl-3.0.txt).\\n *\\n * The MIT License\\n * Copyright © 2014-2022 Ilkka Seppälä\\n *\\n * Permission is hereby granted, free of charge, to any person obtaining a copy\\n * of this software and associated documentation files (the \"Software\"), to deal\\n * in the Software without restriction, including without limitation the rights\\n * to use, copy, modify, merge, publish, distribute, sublicense, and/or sell\\n * copies of the Software, and to permit persons to whom the Software is\\n * furnished to do so, subject to the following conditions:\\n *\\n * The above copyright notice and this permission notice shall be included in\\n * all copies or substantial portions of the Software.\\n *\\n * THE SOFTWARE IS PROVIDED \"AS IS\", WITHOUT WARRANTY OF ANY KIND, EXPRESS OR\\n * IMPLIED, INCLUDING BUT NOT LIMITED TO THE WARRANTIES OF MERCHANTABILITY,\\n * FITNESS FOR A PARTICULAR PURPOSE AND NONINFRINGEMENT. IN NO EVENT SHALL THE\\n * AUTHORS OR COPYRIGHT HOLDERS BE LIABLE FOR ANY CLAIM, DAMAGES OR OTHER\\n * LIABILITY, WHETHER IN AN ACTION OF CONTRACT, TORT OR OTHERWISE, ARISING FROM,\\n * OUT OF OR IN CONNECTION WITH THE SOFTWARE OR THE USE OR OTHER DEALINGS IN\\n * THE SOFTWARE.\\n */\\npackage com.iluwatar.iterator;\\n\\nimport static com.iluwatar.iterator.list.ItemType.ANY;\\nimport static com.iluwatar.iterator.list.ItemType.POTION;\\nimport static com.iluwatar.iterator.list.ItemType.RING;\\nimport static com.iluwatar.iterator.list.ItemType.WEAPON;\\n\\nimport com.iluwatar.iterator.bst.BstIterator;\\nimport com.iluwatar.iterator.bst.TreeNode;\\nimport com.iluwatar.iterator.list.ItemType;\\nimport com.iluwatar.iterator.list.TreasureChest;\\nimport lombok.extern.slf4j.Slf4j;\\n\\n/**\\n * The Iterator pattern is a design pattern in which an iterator is used to traverse a container and\\n * access the container\\'s elements. The Iterator pattern decouples algorithms from containers.\\n *\\n * <p>In this example the Iterator ({@link Iterator}) adds abstraction layer on top of a collection\\n * ({@link TreasureChest}). This way the collection can change its internal implementation without\\n * affecting its clients.\\n */\\n@Slf4j\\npublic class App {\\n\\n  private static final TreasureChest TREASURE_CHEST = new TreasureChest();\\n\\n  private static void demonstrateTreasureChestIteratorForType(ItemType itemType) {\\n    LOGGER.info(\"------------------------\");\\n    LOGGER.info(\"Item Iterator for ItemType \" + itemType + \": \");\\n    var itemIterator = TREASURE_CHEST.iterator(itemType);\\n    while (itemIterator.hasNext()) {\\n      LOGGER.info(itemIterator.next().toString());\\n    }\\n  }\\n\\n  private static void demonstrateBstIterator() {\\n    LOGGER.info(\"------------------------\");\\n    LOGGER.info(\"BST Iterator: \");\\n    var root = buildIntegerBst();\\n    var bstIterator = new BstIterator<>(root);\\n    while (bstIterator.hasNext()) {\\n      LOGGER.info(\"Next node: \" + bstIterator.next().getVal());\\n    }\\n  }\\n\\n  private static TreeNode<Integer> buildIntegerBst() {\\n    var root = new TreeNode<>(8);\\n\\n    root.insert(3);\\n    root.insert(10);\\n    root.insert(1);\\n    root.insert(6);\\n    root.insert(14);\\n    root.insert(4);\\n    root.insert(7);\\n    root.insert(13);\\n\\n    return root;\\n  }\\n\\n  /**\\n   * Program entry point.\\n   *\\n   * @param args command line args\\n   */\\n  public static void main(String[] args) {\\n    demonstrateTreasureChestIteratorForType(RING);\\n    demonstrateTreasureChestIteratorForType(POTION);\\n    demonstrateTreasureChestIteratorForType(WEAPON);\\n    demonstrateTreasureChestIteratorForType(ANY);\\n\\n    demonstrateBstIterator();\\n  }\\n}\\n\\n\\nQuestion: Tell me what tech credits does the repo possibly use?\\nAnswer:\\n', additional_kwargs={}, response_metadata={})]\n",
      "Based on the code snippets provided, the repository appears to use the following technical credit:\n",
      "\n",
      "Iterator: The code demonstrates the Iterator pattern, which provides a way to access elements of a collection sequentially without exposing its underlying representation. This is evident in the multiple iterator implementations, such as TreasureChestItemIterator and the generic Iterator interface. The Iterator pattern allows traversing different types of collections (like TreasureChest and Binary Search Tree) in a standardized manner, decoupling the traversal algorithm from the container's internal structure.\n"
     ]
    }
   ],
   "source": [
    "response = graph.invoke(\n",
    "    {\n",
    "        \"question\": \"Tell me what tech credits does the repo possibly use?\",\n",
    "        \"url\": \"https://github.com/iluwatar/java-design-patterns/\",\n",
    "        \"branch\": \"master\",\n",
    "        \"folder\" : \"iterator\",\n",
    "    }\n",
    ")\n",
    "print(response[\"answer\"])"
   ]
  },
  {
   "cell_type": "code",
   "execution_count": null,
   "id": "9a574c51-5eeb-4581-9f96-a5ad263b8941",
   "metadata": {},
   "outputs": [
    {
     "name": "stdout",
     "output_type": "stream",
     "text": [
      "messages=[SystemMessage(content=\"You are an assistant for identifying technical credit. Use the following pieces                 of retrieved context to answer the question. If you don't know the answer, just                 say that you don't know. Please only use the provided technical credit categories. For each code snippet, use three sentences maximum and                 keep the answer concise.\", additional_kwargs={}, response_metadata={}), HumanMessage(content=\"The list of technical credit categories you must follow:\\n['Circuit Breaker', 'Strategy Pattern', 'Adapter Pattern', 'Model View Controller', 'Visitor Pattern', 'Iterator', 'Platform Abstraction Layers', 'Proxy', 'Chain of responsibility', 'Template method', 'Front controller', 'Command', 'Interpreter', 'Mediator', 'Memento', 'Observer or Publish/subscribe', 'Servant', 'Active Object', 'Event-based asynchronous', 'Messaging design pattern (MDP)', 'Thread pool']\\n\\nSome documentation about tech credit:\\nFigure 2.\\xa0 Conceptual model of technical credit.1\\xa0Technical Credit in PracticeDecisions leading to TC are inherently connected to a system’s business domain and product roadmap. However, not all design decisions yield true TC: those not enabling cost-effective modifications in line with business objectives might be deemed over-engineering. We create TC by crafting design decisions that ease future modifications anticipated by the product’s roadmap. Thus, a design decision yields technical credit upon its utilization.Drawing on extensive experience with product, architecture, and code reviews, we have identified examples of TC across different application domains.Platform abstraction layer.\\xa0 This strategy creates abstraction layers around third-party products and libraries, protecting application code from external API changes. When these products need replacing, adjustments are made only to the abstraction layer, not the application code. This approach exemplifies TC in reducing the\\n\\nFigure 2.\\xa0 Conceptual model of technical credit.1\\xa0Technical Credit in PracticeDecisions leading to TC are inherently connected to a system’s business domain and product roadmap. However, not all design decisions yield true TC: those not enabling cost-effective modifications in line with business objectives might be deemed over-engineering. We create TC by crafting design decisions that ease future modifications anticipated by the product’s roadmap. Thus, a design decision yields technical credit upon its utilization.Drawing on extensive experience with product, architecture, and code reviews, we have identified examples of TC across different application domains.Platform abstraction layer.\\xa0 This strategy creates abstraction layers around third-party products and libraries, protecting application code from external API changes. When these products need replacing, adjustments are made only to the abstraction layer, not the application code. This approach exemplifies TC in reducing the\\n\\nFigure 2.\\xa0 Conceptual model of technical credit.1\\xa0Technical Credit in PracticeDecisions leading to TC are inherently connected to a system’s business domain and product roadmap. However, not all design decisions yield true TC: those not enabling cost-effective modifications in line with business objectives might be deemed over-engineering. We create TC by crafting design decisions that ease future modifications anticipated by the product’s roadmap. Thus, a design decision yields technical credit upon its utilization.Drawing on extensive experience with product, architecture, and code reviews, we have identified examples of TC across different application domains.Platform abstraction layer.\\xa0 This strategy creates abstraction layers around third-party products and libraries, protecting application code from external API changes. When these products need replacing, adjustments are made only to the abstraction layer, not the application code. This approach exemplifies TC in reducing the\\n\\nFigure 2.\\xa0 Conceptual model of technical credit.1\\xa0Technical Credit in PracticeDecisions leading to TC are inherently connected to a system’s business domain and product roadmap. However, not all design decisions yield true TC: those not enabling cost-effective modifications in line with business objectives might be deemed over-engineering. We create TC by crafting design decisions that ease future modifications anticipated by the product’s roadmap. Thus, a design decision yields technical credit upon its utilization.Drawing on extensive experience with product, architecture, and code reviews, we have identified examples of TC across different application domains.Platform abstraction layer.\\xa0 This strategy creates abstraction layers around third-party products and libraries, protecting application code from external API changes. When these products need replacing, adjustments are made only to the abstraction layer, not the application code. This approach exemplifies TC in reducing the\\n\\nThe following are snippets of codes that are most similar to example codes of \\ntech credits.\\n\\n\\nQuestion: Tell me what tech credits does the repo possibly use?\\nAnswer:\\n\", additional_kwargs={}, response_metadata={})]\n",
      "Based on the provided context and documentation, the most prominent technical credit category is:\n",
      "\n",
      "Platform Abstraction Layers\n",
      "\n",
      "This is directly mentioned in the documentation as a technical credit strategy. The description explains that platform abstraction layers create abstraction around third-party products and libraries, which protects application code from external API changes. When third-party products need to be replaced, only the abstraction layer requires modifications, not the entire application code.\n",
      "\n",
      "The documentation emphasizes that technical credit involves making design decisions that:\n",
      "1. Are connected to the system's business domain and product roadmap\n",
      "2. Enable cost-effective modifications\n",
      "3. Anticipate future changes\n",
      "4. Yield benefits upon utilization\n",
      "\n",
      "Without seeing the actual code snippets, I cannot confidently suggest other technical credit categories. To provide a more precise answer, I would need to review the specific code repository or code samples.\n"
     ]
    }
   ],
   "source": [
    "response = graph.invoke(\n",
    "    {\n",
    "        \"question\": \"Tell me what tech credits does the repo possibly use?\",\n",
    "        \"url\": \"https://github.com/fabfuel/circuitbreaker\",\n",
    "        \"branch\": \"develop\",\n",
    "        \"folder\": \"\",\n",
    "    }\n",
    ")\n",
    "print(response[\"answer\"])"
   ]
  },
  {
   "cell_type": "code",
   "execution_count": null,
   "id": "f7b783b4-d5e7-4798-8964-aed0fc901c07",
   "metadata": {},
   "outputs": [
    {
     "name": "stdout",
     "output_type": "stream",
     "text": [
      "messages=[SystemMessage(content=\"You are an assistant for identifying technical credit. Use the following pieces                 of retrieved context to answer the question. If you don't know the answer, just                 say that you don't know. Please only use the provided technical credit categories. For each code snippet, use three sentences maximum and                 keep the answer concise.\", additional_kwargs={}, response_metadata={}), HumanMessage(content=\"The list of technical credit categories you must follow:\\n['Circuit Breaker', 'Strategy Pattern', 'Adapter Pattern', 'Model View Controller', 'Visitor Pattern', 'Iterator', 'Platform Abstraction Layers', 'Proxy', 'Chain of responsibility', 'Template method', 'Front controller', 'Command', 'Interpreter', 'Mediator', 'Memento', 'Observer or Publish/subscribe', 'Servant', 'Active Object', 'Event-based asynchronous', 'Messaging design pattern (MDP)', 'Thread pool']\\n\\nSome documentation about tech credit:\\nFigure 2.\\xa0 Conceptual model of technical credit.1\\xa0Technical Credit in PracticeDecisions leading to TC are inherently connected to a system’s business domain and product roadmap. However, not all design decisions yield true TC: those not enabling cost-effective modifications in line with business objectives might be deemed over-engineering. We create TC by crafting design decisions that ease future modifications anticipated by the product’s roadmap. Thus, a design decision yields technical credit upon its utilization.Drawing on extensive experience with product, architecture, and code reviews, we have identified examples of TC across different application domains.Platform abstraction layer.\\xa0 This strategy creates abstraction layers around third-party products and libraries, protecting application code from external API changes. When these products need replacing, adjustments are made only to the abstraction layer, not the application code. This approach exemplifies TC in reducing the\\n\\nFigure 2.\\xa0 Conceptual model of technical credit.1\\xa0Technical Credit in PracticeDecisions leading to TC are inherently connected to a system’s business domain and product roadmap. However, not all design decisions yield true TC: those not enabling cost-effective modifications in line with business objectives might be deemed over-engineering. We create TC by crafting design decisions that ease future modifications anticipated by the product’s roadmap. Thus, a design decision yields technical credit upon its utilization.Drawing on extensive experience with product, architecture, and code reviews, we have identified examples of TC across different application domains.Platform abstraction layer.\\xa0 This strategy creates abstraction layers around third-party products and libraries, protecting application code from external API changes. When these products need replacing, adjustments are made only to the abstraction layer, not the application code. This approach exemplifies TC in reducing the\\n\\nFigure 2.\\xa0 Conceptual model of technical credit.1\\xa0Technical Credit in PracticeDecisions leading to TC are inherently connected to a system’s business domain and product roadmap. However, not all design decisions yield true TC: those not enabling cost-effective modifications in line with business objectives might be deemed over-engineering. We create TC by crafting design decisions that ease future modifications anticipated by the product’s roadmap. Thus, a design decision yields technical credit upon its utilization.Drawing on extensive experience with product, architecture, and code reviews, we have identified examples of TC across different application domains.Platform abstraction layer.\\xa0 This strategy creates abstraction layers around third-party products and libraries, protecting application code from external API changes. When these products need replacing, adjustments are made only to the abstraction layer, not the application code. This approach exemplifies TC in reducing the\\n\\nFigure 2.\\xa0 Conceptual model of technical credit.1\\xa0Technical Credit in PracticeDecisions leading to TC are inherently connected to a system’s business domain and product roadmap. However, not all design decisions yield true TC: those not enabling cost-effective modifications in line with business objectives might be deemed over-engineering. We create TC by crafting design decisions that ease future modifications anticipated by the product’s roadmap. Thus, a design decision yields technical credit upon its utilization.Drawing on extensive experience with product, architecture, and code reviews, we have identified examples of TC across different application domains.Platform abstraction layer.\\xa0 This strategy creates abstraction layers around third-party products and libraries, protecting application code from external API changes. When these products need replacing, adjustments are made only to the abstraction layer, not the application code. This approach exemplifies TC in reducing the\\n\\nThe following are snippets of codes that are most similar to example codes of \\ntech credits.\\n\\n\\nQuestion: Tell me what tech credits does the repo possibly use?\\nAnswer:\\n\", additional_kwargs={}, response_metadata={})]\n",
      "Based on the provided context and documentation, the most prominent technical credit category mentioned is:\n",
      "\n",
      "Platform Abstraction Layers\n",
      "\n",
      "The documentation explicitly describes this technical credit strategy as creating abstraction layers around third-party products and libraries. This approach protects application code from external API changes and allows for easier replacement of third-party components by making modifications only in the abstraction layer.\n",
      "\n",
      "The key characteristics of Platform Abstraction Layers are:\n",
      "1. Creates a protective layer around external libraries and products\n",
      "2. Isolates application code from direct dependencies\n",
      "3. Enables easier future modifications and replacements of third-party components\n",
      "\n",
      "Without seeing the actual code snippets, I cannot confidently suggest any additional technical credit categories. The documentation provides a general overview of technical credit but does not specify other concrete patterns used in the specific repository.\n"
     ]
    }
   ],
   "source": [
    "response = graph.invoke(\n",
    "    {\n",
    "        \"question\": \"Tell me what tech credits does the repo possibly use?\",\n",
    "        \"url\": \"https://github.com/gmargari/pymvc\",\n",
    "        \"branch\": \"main\",\n",
    "    }\n",
    ")\n",
    "print(response[\"answer\"])"
   ]
  },
  {
   "cell_type": "code",
   "execution_count": null,
   "id": "4a5be63f-a708-4608-9d98-b913cca422d8",
   "metadata": {},
   "outputs": [
    {
     "name": "stdout",
     "output_type": "stream",
     "text": [
      "messages=[SystemMessage(content=\"You are an assistant for identifying technical credit. Use the following pieces                 of retrieved context to answer the question. If you don't know the answer, just                 say that you don't know. Please only use the provided technical credit categories. For each code snippet, use three sentences maximum and                 keep the answer concise.\", additional_kwargs={}, response_metadata={}), HumanMessage(content=\"The list of technical credit categories you must follow:\\n['Circuit Breaker', 'Strategy Pattern', 'Adapter Pattern', 'Model View Controller', 'Visitor Pattern', 'Iterator', 'Platform Abstraction Layers', 'Proxy', 'Chain of responsibility', 'Template method', 'Front controller', 'Command', 'Interpreter', 'Mediator', 'Memento', 'Observer or Publish/subscribe', 'Servant', 'Active Object', 'Event-based asynchronous', 'Messaging design pattern (MDP)', 'Thread pool']\\n\\nSome documentation about tech credit:\\nFigure 2.\\xa0 Conceptual model of technical credit.1\\xa0Technical Credit in PracticeDecisions leading to TC are inherently connected to a system’s business domain and product roadmap. However, not all design decisions yield true TC: those not enabling cost-effective modifications in line with business objectives might be deemed over-engineering. We create TC by crafting design decisions that ease future modifications anticipated by the product’s roadmap. Thus, a design decision yields technical credit upon its utilization.Drawing on extensive experience with product, architecture, and code reviews, we have identified examples of TC across different application domains.Platform abstraction layer.\\xa0 This strategy creates abstraction layers around third-party products and libraries, protecting application code from external API changes. When these products need replacing, adjustments are made only to the abstraction layer, not the application code. This approach exemplifies TC in reducing the\\n\\nFigure 2.\\xa0 Conceptual model of technical credit.1\\xa0Technical Credit in PracticeDecisions leading to TC are inherently connected to a system’s business domain and product roadmap. However, not all design decisions yield true TC: those not enabling cost-effective modifications in line with business objectives might be deemed over-engineering. We create TC by crafting design decisions that ease future modifications anticipated by the product’s roadmap. Thus, a design decision yields technical credit upon its utilization.Drawing on extensive experience with product, architecture, and code reviews, we have identified examples of TC across different application domains.Platform abstraction layer.\\xa0 This strategy creates abstraction layers around third-party products and libraries, protecting application code from external API changes. When these products need replacing, adjustments are made only to the abstraction layer, not the application code. This approach exemplifies TC in reducing the\\n\\nFigure 2.\\xa0 Conceptual model of technical credit.1\\xa0Technical Credit in PracticeDecisions leading to TC are inherently connected to a system’s business domain and product roadmap. However, not all design decisions yield true TC: those not enabling cost-effective modifications in line with business objectives might be deemed over-engineering. We create TC by crafting design decisions that ease future modifications anticipated by the product’s roadmap. Thus, a design decision yields technical credit upon its utilization.Drawing on extensive experience with product, architecture, and code reviews, we have identified examples of TC across different application domains.Platform abstraction layer.\\xa0 This strategy creates abstraction layers around third-party products and libraries, protecting application code from external API changes. When these products need replacing, adjustments are made only to the abstraction layer, not the application code. This approach exemplifies TC in reducing the\\n\\nFigure 2.\\xa0 Conceptual model of technical credit.1\\xa0Technical Credit in PracticeDecisions leading to TC are inherently connected to a system’s business domain and product roadmap. However, not all design decisions yield true TC: those not enabling cost-effective modifications in line with business objectives might be deemed over-engineering. We create TC by crafting design decisions that ease future modifications anticipated by the product’s roadmap. Thus, a design decision yields technical credit upon its utilization.Drawing on extensive experience with product, architecture, and code reviews, we have identified examples of TC across different application domains.Platform abstraction layer.\\xa0 This strategy creates abstraction layers around third-party products and libraries, protecting application code from external API changes. When these products need replacing, adjustments are made only to the abstraction layer, not the application code. This approach exemplifies TC in reducing the\\n\\nThe following are snippets of codes that are most similar to example codes of \\ntech credits.\\n\\n\\nQuestion: Tell me what tech credits does the repo possibly use?\\nAnswer:\\n\", additional_kwargs={}, response_metadata={})]\n",
      "Based on the provided context and documentation, the most prominent technical credit category is:\n",
      "\n",
      "Platform Abstraction Layers\n",
      "\n",
      "This is directly mentioned in the documentation as a technical credit strategy. The description explains that platform abstraction layers create an abstraction around third-party products and libraries, which protects application code from external API changes. When third-party products need to be replaced, only the abstraction layer requires modifications, not the entire application code.\n",
      "\n",
      "The documentation emphasizes that technical credit involves making design decisions that:\n",
      "1. Are connected to the system's business domain and product roadmap\n",
      "2. Enable cost-effective modifications\n",
      "3. Anticipate future changes\n",
      "4. Yield benefits upon utilization\n",
      "\n",
      "Without seeing the actual code snippets, I cannot definitively state other technical credit patterns that might be used. To provide a more precise answer, I would need to review the specific code repository or additional context.\n"
     ]
    }
   ],
   "source": [
    "response = graph.invoke(\n",
    "    {\n",
    "        \"question\": \"Tell me what tech credits does the repo possibly use?\",\n",
    "        \"url\": \"https://github.com/etimberg/pycircuitbreaker\",\n",
    "        \"branch\": \"master\",\n",
    "    }\n",
    ")\n",
    "print(response[\"answer\"])"
   ]
  },
  {
   "cell_type": "code",
   "execution_count": null,
   "id": "197d3c6f-9ed7-41a3-ac7a-f12633aa2330",
   "metadata": {},
   "outputs": [],
   "source": [
    "# response = graph.invoke({\"question\": \"Tell me if the following is a tech credit and what do these 3 states do?\",\n",
    "# \"url\": \"https://github.com/pallets/jinja\", \"branch\": \"main\"})\n",
    "# print(response[\"answer\"])"
   ]
  },
  {
   "cell_type": "markdown",
   "id": "1fe566a7-f5bf-4417-a90a-84ad342cf435",
   "metadata": {},
   "source": [
    "# Roadmap:\n",
    "\n",
    "1. Use a text embedding model.\n",
    "   - [x] gemini text-embedding-004\n",
    "2. Code splitter may not work properly.\n",
    "   - [x] change to code-splitter that works better.\n",
    "3. [x] Switch in memory vector storage to a vector database\n",
    "   - [x] code vector database with additional metadata for tech credit\n",
    "   - [x] document vector database with academic context about tech credit\n",
    "4. [ ] Load more standard example codes for tech credit (~20 more examples)\n",
    "5. [ ] Load more documents (academic contexts) for technical credit (3~5 related academic paper)\n",
    "6. [x] Allow user to ask about a repository, instead of small snippets of codes\n",
    "   - [x] load, chunk, split, embed and vectorize a repo\n",
    "   - [x] similarity search and filter user code by similarity score compared with example code\n",
    "   - [ ] batch process to LLM\n",
    "   - [ ] organize response and answers\n",
    "7. [ ] validate the results\n",
    "   - [ ] Test our trained data in TC-Examples\n",
    "   - [ ] use different embedding and LLM to test five example repos\n",
    "   - Gemini,\n",
    "   - claude-3.5-haiku,\n",
    "8. Jun 6:\n",
    "   1. [ ] choose five test repos\n",
    "   2. [ ] two more LLM and one more embeddings models\n",
    "   3. [ ] expected output:\n",
    "      1. [ ] human expert\n",
    "      2. [ ] LLM as judge\n"
   ]
  },
  {
   "cell_type": "code",
   "execution_count": null,
   "id": "7c4a11de-5053-4ef3-a889-fe3ea97a720e",
   "metadata": {},
   "outputs": [],
   "source": []
  }
 ],
 "metadata": {
  "kernelspec": {
   "display_name": "tcai",
   "language": "python",
   "name": "python3"
  },
  "language_info": {
   "codemirror_mode": {
    "name": "ipython",
    "version": 3
   },
   "file_extension": ".py",
   "mimetype": "text/x-python",
   "name": "python",
   "nbconvert_exporter": "python",
   "pygments_lexer": "ipython3",
   "version": "3.12.11"
  }
 },
 "nbformat": 4,
 "nbformat_minor": 5
}
